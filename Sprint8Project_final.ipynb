{
 "cells": [
  {
   "cell_type": "markdown",
   "metadata": {},
   "source": [
    "# Project description<br>\n",
    "In this project we will analyze a database composed of 10,000 Beta Bank customers, with the purpose of training different Machine Learning models that can predict the permanence of customers in the bank. We will train three  algorithms (***Decision Tree***, ***Random Forest*** and ***Logistic Regression***) with a series of features that reflect the financial status and saving habits of customers, in order to have a variety of models able to predict the target variable ('Exited') with a reasonable degree of confidence.<br>\n",
    "\n",
    "The first step will be to perform an Exploratory Data Analysis (EDA) focused on separating the ***'features'*** and ***'target'*** variables, defining the relevant features for the model, and preparing the data for machine learning using the techniques of ***One Hot Encoding (OHE)***, ***Label Encoding*** and ***Scalar Standardization***. We will then train three algorithms (Decision Tree, Random Forest and Logistic Regression) and note their initial performance, in a ***Class Imbalance*** state. In order to improve the performance of the models, we will use different techniques to mitigate class imbalance, such as the parameter ***class_weight='balanced'*** and ***upsampling/downsampling*** the training sets. After trying different combinations, we will select the optimal configuration for each algorithm and analyze the improvement in each model. Finally, we will measure the improvement in ***F1 scores*** for each model, test their reliability under different probability thresholds, and plot graphs of ***Recall-Precision curves*** and ***ROC curves with AUC-ROC*** scores to decide which model has the best performance.<br> "
   ]
  },
  {
   "cell_type": "markdown",
   "metadata": {},
   "source": [
    "## Import modules used in the project"
   ]
  },
  {
   "cell_type": "code",
   "execution_count": 1,
   "metadata": {},
   "outputs": [],
   "source": [
    "import pandas as pd\n",
    "import numpy as np\n",
    "import matplotlib.pyplot as plt\n",
    "from sklearn.model_selection import train_test_split\n",
    "from sklearn.tree import DecisionTreeClassifier\n",
    "from sklearn.ensemble import RandomForestClassifier\n",
    "from sklearn.linear_model import LogisticRegression\n",
    "from sklearn.preprocessing import OrdinalEncoder, StandardScaler, LabelEncoder\n",
    "from sklearn.metrics import accuracy_score, classification_report, confusion_matrix \n",
    "from sklearn.metrics import recall_score, precision_score, f1_score\n",
    "from sklearn.metrics import precision_recall_curve, roc_curve, roc_auc_score\n",
    "from sklearn.utils import shuffle"
   ]
  },
  {
   "cell_type": "markdown",
   "metadata": {},
   "source": [
    "## Load dataset, explore and clean data"
   ]
  },
  {
   "cell_type": "code",
   "execution_count": 2,
   "metadata": {},
   "outputs": [
    {
     "name": "stdout",
     "output_type": "stream",
     "text": [
      "(10000, 14)\n",
      "Index(['RowNumber', 'CustomerId', 'Surname', 'CreditScore', 'Geography',\n",
      "       'Gender', 'Age', 'Tenure', 'Balance', 'NumOfProducts', 'HasCrCard',\n",
      "       'IsActiveMember', 'EstimatedSalary', 'Exited'],\n",
      "      dtype='object')\n",
      "RowNumber            int64\n",
      "CustomerId           int64\n",
      "Surname             object\n",
      "CreditScore          int64\n",
      "Geography           object\n",
      "Gender              object\n",
      "Age                  int64\n",
      "Tenure             float64\n",
      "Balance            float64\n",
      "NumOfProducts        int64\n",
      "HasCrCard            int64\n",
      "IsActiveMember       int64\n",
      "EstimatedSalary    float64\n",
      "Exited               int64\n",
      "dtype: object\n"
     ]
    },
    {
     "data": {
      "text/html": [
       "<div>\n",
       "<style scoped>\n",
       "    .dataframe tbody tr th:only-of-type {\n",
       "        vertical-align: middle;\n",
       "    }\n",
       "\n",
       "    .dataframe tbody tr th {\n",
       "        vertical-align: top;\n",
       "    }\n",
       "\n",
       "    .dataframe thead th {\n",
       "        text-align: right;\n",
       "    }\n",
       "</style>\n",
       "<table border=\"1\" class=\"dataframe\">\n",
       "  <thead>\n",
       "    <tr style=\"text-align: right;\">\n",
       "      <th></th>\n",
       "      <th>RowNumber</th>\n",
       "      <th>CustomerId</th>\n",
       "      <th>Surname</th>\n",
       "      <th>CreditScore</th>\n",
       "      <th>Geography</th>\n",
       "      <th>Gender</th>\n",
       "      <th>Age</th>\n",
       "      <th>Tenure</th>\n",
       "      <th>Balance</th>\n",
       "      <th>NumOfProducts</th>\n",
       "      <th>HasCrCard</th>\n",
       "      <th>IsActiveMember</th>\n",
       "      <th>EstimatedSalary</th>\n",
       "      <th>Exited</th>\n",
       "    </tr>\n",
       "  </thead>\n",
       "  <tbody>\n",
       "    <tr>\n",
       "      <th>0</th>\n",
       "      <td>1</td>\n",
       "      <td>15634602</td>\n",
       "      <td>Hargrave</td>\n",
       "      <td>619</td>\n",
       "      <td>France</td>\n",
       "      <td>Female</td>\n",
       "      <td>42</td>\n",
       "      <td>2.0</td>\n",
       "      <td>0.00</td>\n",
       "      <td>1</td>\n",
       "      <td>1</td>\n",
       "      <td>1</td>\n",
       "      <td>101348.88</td>\n",
       "      <td>1</td>\n",
       "    </tr>\n",
       "    <tr>\n",
       "      <th>1</th>\n",
       "      <td>2</td>\n",
       "      <td>15647311</td>\n",
       "      <td>Hill</td>\n",
       "      <td>608</td>\n",
       "      <td>Spain</td>\n",
       "      <td>Female</td>\n",
       "      <td>41</td>\n",
       "      <td>1.0</td>\n",
       "      <td>83807.86</td>\n",
       "      <td>1</td>\n",
       "      <td>0</td>\n",
       "      <td>1</td>\n",
       "      <td>112542.58</td>\n",
       "      <td>0</td>\n",
       "    </tr>\n",
       "    <tr>\n",
       "      <th>2</th>\n",
       "      <td>3</td>\n",
       "      <td>15619304</td>\n",
       "      <td>Onio</td>\n",
       "      <td>502</td>\n",
       "      <td>France</td>\n",
       "      <td>Female</td>\n",
       "      <td>42</td>\n",
       "      <td>8.0</td>\n",
       "      <td>159660.80</td>\n",
       "      <td>3</td>\n",
       "      <td>1</td>\n",
       "      <td>0</td>\n",
       "      <td>113931.57</td>\n",
       "      <td>1</td>\n",
       "    </tr>\n",
       "    <tr>\n",
       "      <th>3</th>\n",
       "      <td>4</td>\n",
       "      <td>15701354</td>\n",
       "      <td>Boni</td>\n",
       "      <td>699</td>\n",
       "      <td>France</td>\n",
       "      <td>Female</td>\n",
       "      <td>39</td>\n",
       "      <td>1.0</td>\n",
       "      <td>0.00</td>\n",
       "      <td>2</td>\n",
       "      <td>0</td>\n",
       "      <td>0</td>\n",
       "      <td>93826.63</td>\n",
       "      <td>0</td>\n",
       "    </tr>\n",
       "    <tr>\n",
       "      <th>4</th>\n",
       "      <td>5</td>\n",
       "      <td>15737888</td>\n",
       "      <td>Mitchell</td>\n",
       "      <td>850</td>\n",
       "      <td>Spain</td>\n",
       "      <td>Female</td>\n",
       "      <td>43</td>\n",
       "      <td>2.0</td>\n",
       "      <td>125510.82</td>\n",
       "      <td>1</td>\n",
       "      <td>1</td>\n",
       "      <td>1</td>\n",
       "      <td>79084.10</td>\n",
       "      <td>0</td>\n",
       "    </tr>\n",
       "  </tbody>\n",
       "</table>\n",
       "</div>"
      ],
      "text/plain": [
       "   RowNumber  CustomerId   Surname  CreditScore Geography  Gender  Age  \\\n",
       "0          1    15634602  Hargrave          619    France  Female   42   \n",
       "1          2    15647311      Hill          608     Spain  Female   41   \n",
       "2          3    15619304      Onio          502    France  Female   42   \n",
       "3          4    15701354      Boni          699    France  Female   39   \n",
       "4          5    15737888  Mitchell          850     Spain  Female   43   \n",
       "\n",
       "   Tenure    Balance  NumOfProducts  HasCrCard  IsActiveMember  \\\n",
       "0     2.0       0.00              1          1               1   \n",
       "1     1.0   83807.86              1          0               1   \n",
       "2     8.0  159660.80              3          1               0   \n",
       "3     1.0       0.00              2          0               0   \n",
       "4     2.0  125510.82              1          1               1   \n",
       "\n",
       "   EstimatedSalary  Exited  \n",
       "0        101348.88       1  \n",
       "1        112542.58       0  \n",
       "2        113931.57       1  \n",
       "3         93826.63       0  \n",
       "4         79084.10       0  "
      ]
     },
     "metadata": {},
     "output_type": "display_data"
    }
   ],
   "source": [
    "df = pd.read_csv('/datasets/Churn.csv')\n",
    "print(df.shape)\n",
    "print(df.columns)\n",
    "print(df.dtypes)\n",
    "display(df.head())"
   ]
  },
  {
   "cell_type": "code",
   "execution_count": 3,
   "metadata": {},
   "outputs": [
    {
     "name": "stdout",
     "output_type": "stream",
     "text": [
      "Duplicated rows: 0\n",
      "Null values:\n",
      " RowNumber            0\n",
      "CustomerId           0\n",
      "Surname              0\n",
      "CreditScore          0\n",
      "Geography            0\n",
      "Gender               0\n",
      "Age                  0\n",
      "Tenure             909\n",
      "Balance              0\n",
      "NumOfProducts        0\n",
      "HasCrCard            0\n",
      "IsActiveMember       0\n",
      "EstimatedSalary      0\n",
      "Exited               0\n",
      "dtype: int64\n"
     ]
    }
   ],
   "source": [
    "# Find duplicated rows and null values\n",
    "print(\"Duplicated rows:\", df.duplicated().sum())\n",
    "print(\"Null values:\\n\", df.isna().sum())"
   ]
  },
  {
   "cell_type": "code",
   "execution_count": 4,
   "metadata": {},
   "outputs": [
    {
     "name": "stdout",
     "output_type": "stream",
     "text": [
      "[ 2.  1.  8.  7.  4.  6.  3. 10.  5.  9.  0. nan]\n",
      "0.0     382\n",
      "1.0     952\n",
      "2.0     950\n",
      "3.0     928\n",
      "4.0     885\n",
      "5.0     927\n",
      "6.0     881\n",
      "7.0     925\n",
      "8.0     933\n",
      "9.0     882\n",
      "10.0    446\n",
      "NaN     909\n",
      "Name: Tenure, dtype: int64\n"
     ]
    },
    {
     "data": {
      "text/html": [
       "<div>\n",
       "<style scoped>\n",
       "    .dataframe tbody tr th:only-of-type {\n",
       "        vertical-align: middle;\n",
       "    }\n",
       "\n",
       "    .dataframe tbody tr th {\n",
       "        vertical-align: top;\n",
       "    }\n",
       "\n",
       "    .dataframe thead th {\n",
       "        text-align: right;\n",
       "    }\n",
       "</style>\n",
       "<table border=\"1\" class=\"dataframe\">\n",
       "  <thead>\n",
       "    <tr style=\"text-align: right;\">\n",
       "      <th></th>\n",
       "      <th>RowNumber</th>\n",
       "      <th>CustomerId</th>\n",
       "      <th>Surname</th>\n",
       "      <th>CreditScore</th>\n",
       "      <th>Geography</th>\n",
       "      <th>Gender</th>\n",
       "      <th>Age</th>\n",
       "      <th>Tenure</th>\n",
       "      <th>Balance</th>\n",
       "      <th>NumOfProducts</th>\n",
       "      <th>HasCrCard</th>\n",
       "      <th>IsActiveMember</th>\n",
       "      <th>EstimatedSalary</th>\n",
       "      <th>Exited</th>\n",
       "    </tr>\n",
       "  </thead>\n",
       "  <tbody>\n",
       "    <tr>\n",
       "      <th>30</th>\n",
       "      <td>31</td>\n",
       "      <td>15589475</td>\n",
       "      <td>Azikiwe</td>\n",
       "      <td>591</td>\n",
       "      <td>Spain</td>\n",
       "      <td>Female</td>\n",
       "      <td>39</td>\n",
       "      <td>NaN</td>\n",
       "      <td>0.00</td>\n",
       "      <td>3</td>\n",
       "      <td>1</td>\n",
       "      <td>0</td>\n",
       "      <td>140469.38</td>\n",
       "      <td>1</td>\n",
       "    </tr>\n",
       "    <tr>\n",
       "      <th>48</th>\n",
       "      <td>49</td>\n",
       "      <td>15766205</td>\n",
       "      <td>Yin</td>\n",
       "      <td>550</td>\n",
       "      <td>Germany</td>\n",
       "      <td>Male</td>\n",
       "      <td>38</td>\n",
       "      <td>NaN</td>\n",
       "      <td>103391.38</td>\n",
       "      <td>1</td>\n",
       "      <td>0</td>\n",
       "      <td>1</td>\n",
       "      <td>90878.13</td>\n",
       "      <td>0</td>\n",
       "    </tr>\n",
       "    <tr>\n",
       "      <th>51</th>\n",
       "      <td>52</td>\n",
       "      <td>15768193</td>\n",
       "      <td>Trevisani</td>\n",
       "      <td>585</td>\n",
       "      <td>Germany</td>\n",
       "      <td>Male</td>\n",
       "      <td>36</td>\n",
       "      <td>NaN</td>\n",
       "      <td>146050.97</td>\n",
       "      <td>2</td>\n",
       "      <td>0</td>\n",
       "      <td>0</td>\n",
       "      <td>86424.57</td>\n",
       "      <td>0</td>\n",
       "    </tr>\n",
       "    <tr>\n",
       "      <th>53</th>\n",
       "      <td>54</td>\n",
       "      <td>15702298</td>\n",
       "      <td>Parkhill</td>\n",
       "      <td>655</td>\n",
       "      <td>Germany</td>\n",
       "      <td>Male</td>\n",
       "      <td>41</td>\n",
       "      <td>NaN</td>\n",
       "      <td>125561.97</td>\n",
       "      <td>1</td>\n",
       "      <td>0</td>\n",
       "      <td>0</td>\n",
       "      <td>164040.94</td>\n",
       "      <td>1</td>\n",
       "    </tr>\n",
       "    <tr>\n",
       "      <th>60</th>\n",
       "      <td>61</td>\n",
       "      <td>15651280</td>\n",
       "      <td>Hunter</td>\n",
       "      <td>742</td>\n",
       "      <td>Germany</td>\n",
       "      <td>Male</td>\n",
       "      <td>35</td>\n",
       "      <td>NaN</td>\n",
       "      <td>136857.00</td>\n",
       "      <td>1</td>\n",
       "      <td>0</td>\n",
       "      <td>0</td>\n",
       "      <td>84509.57</td>\n",
       "      <td>0</td>\n",
       "    </tr>\n",
       "  </tbody>\n",
       "</table>\n",
       "</div>"
      ],
      "text/plain": [
       "    RowNumber  CustomerId    Surname  CreditScore Geography  Gender  Age  \\\n",
       "30         31    15589475    Azikiwe          591     Spain  Female   39   \n",
       "48         49    15766205        Yin          550   Germany    Male   38   \n",
       "51         52    15768193  Trevisani          585   Germany    Male   36   \n",
       "53         54    15702298   Parkhill          655   Germany    Male   41   \n",
       "60         61    15651280     Hunter          742   Germany    Male   35   \n",
       "\n",
       "    Tenure    Balance  NumOfProducts  HasCrCard  IsActiveMember  \\\n",
       "30     NaN       0.00              3          1               0   \n",
       "48     NaN  103391.38              1          0               1   \n",
       "51     NaN  146050.97              2          0               0   \n",
       "53     NaN  125561.97              1          0               0   \n",
       "60     NaN  136857.00              1          0               0   \n",
       "\n",
       "    EstimatedSalary  Exited  \n",
       "30        140469.38       1  \n",
       "48         90878.13       0  \n",
       "51         86424.57       0  \n",
       "53        164040.94       1  \n",
       "60         84509.57       0  "
      ]
     },
     "metadata": {},
     "output_type": "display_data"
    }
   ],
   "source": [
    "# Explore the Null values\n",
    "print(df['Tenure'].unique())\n",
    "print(df['Tenure'].value_counts(dropna=False).sort_index())\n",
    "display(df[df['Tenure'].isnull()].head())"
   ]
  },
  {
   "cell_type": "markdown",
   "metadata": {},
   "source": [
    "The feature 'Tenure' - period of maturation for a customer’s fixed deposit (years) is the only feature that presents null values in the dataframe. They represent a significant percentage, close to 9% of all the rows, so we can't just drop them. We must find a way to deal with the null values later, if needed, because most machine learning algorhitms cannot handle missing values. "
   ]
  },
  {
   "cell_type": "markdown",
   "metadata": {},
   "source": [
    "## Prepare the data for Machine Learning modeling\n",
    "First, we will separate the dataframe in 'target' and 'feature' variables. After this we can drop the features that are not essential to the model, since the inclusion of irrelevant features will likely confuse the algorithms and yield unreliable results. Then we can make the distinction between categorical and numerical features. The categorical values can be normalized using One Hot Encoding (OHE), and Label Encoding; and the numerical values can be standardized using Feature Scaling."
   ]
  },
  {
   "cell_type": "code",
   "execution_count": 5,
   "metadata": {},
   "outputs": [
    {
     "name": "stdout",
     "output_type": "stream",
     "text": [
      "Target shape: (10000,)\n",
      "Target value counts:\n",
      " 0    7963\n",
      "1    2037\n",
      "Name: Exited, dtype: int64\n",
      "\n",
      "Features shape: (10000, 13)\n"
     ]
    },
    {
     "data": {
      "text/html": [
       "<div>\n",
       "<style scoped>\n",
       "    .dataframe tbody tr th:only-of-type {\n",
       "        vertical-align: middle;\n",
       "    }\n",
       "\n",
       "    .dataframe tbody tr th {\n",
       "        vertical-align: top;\n",
       "    }\n",
       "\n",
       "    .dataframe thead th {\n",
       "        text-align: right;\n",
       "    }\n",
       "</style>\n",
       "<table border=\"1\" class=\"dataframe\">\n",
       "  <thead>\n",
       "    <tr style=\"text-align: right;\">\n",
       "      <th></th>\n",
       "      <th>RowNumber</th>\n",
       "      <th>CustomerId</th>\n",
       "      <th>Surname</th>\n",
       "      <th>CreditScore</th>\n",
       "      <th>Geography</th>\n",
       "      <th>Gender</th>\n",
       "      <th>Age</th>\n",
       "      <th>Tenure</th>\n",
       "      <th>Balance</th>\n",
       "      <th>NumOfProducts</th>\n",
       "      <th>HasCrCard</th>\n",
       "      <th>IsActiveMember</th>\n",
       "      <th>EstimatedSalary</th>\n",
       "    </tr>\n",
       "  </thead>\n",
       "  <tbody>\n",
       "    <tr>\n",
       "      <th>0</th>\n",
       "      <td>1</td>\n",
       "      <td>15634602</td>\n",
       "      <td>Hargrave</td>\n",
       "      <td>619</td>\n",
       "      <td>France</td>\n",
       "      <td>Female</td>\n",
       "      <td>42</td>\n",
       "      <td>2.0</td>\n",
       "      <td>0.00</td>\n",
       "      <td>1</td>\n",
       "      <td>1</td>\n",
       "      <td>1</td>\n",
       "      <td>101348.88</td>\n",
       "    </tr>\n",
       "    <tr>\n",
       "      <th>1</th>\n",
       "      <td>2</td>\n",
       "      <td>15647311</td>\n",
       "      <td>Hill</td>\n",
       "      <td>608</td>\n",
       "      <td>Spain</td>\n",
       "      <td>Female</td>\n",
       "      <td>41</td>\n",
       "      <td>1.0</td>\n",
       "      <td>83807.86</td>\n",
       "      <td>1</td>\n",
       "      <td>0</td>\n",
       "      <td>1</td>\n",
       "      <td>112542.58</td>\n",
       "    </tr>\n",
       "    <tr>\n",
       "      <th>2</th>\n",
       "      <td>3</td>\n",
       "      <td>15619304</td>\n",
       "      <td>Onio</td>\n",
       "      <td>502</td>\n",
       "      <td>France</td>\n",
       "      <td>Female</td>\n",
       "      <td>42</td>\n",
       "      <td>8.0</td>\n",
       "      <td>159660.80</td>\n",
       "      <td>3</td>\n",
       "      <td>1</td>\n",
       "      <td>0</td>\n",
       "      <td>113931.57</td>\n",
       "    </tr>\n",
       "    <tr>\n",
       "      <th>3</th>\n",
       "      <td>4</td>\n",
       "      <td>15701354</td>\n",
       "      <td>Boni</td>\n",
       "      <td>699</td>\n",
       "      <td>France</td>\n",
       "      <td>Female</td>\n",
       "      <td>39</td>\n",
       "      <td>1.0</td>\n",
       "      <td>0.00</td>\n",
       "      <td>2</td>\n",
       "      <td>0</td>\n",
       "      <td>0</td>\n",
       "      <td>93826.63</td>\n",
       "    </tr>\n",
       "    <tr>\n",
       "      <th>4</th>\n",
       "      <td>5</td>\n",
       "      <td>15737888</td>\n",
       "      <td>Mitchell</td>\n",
       "      <td>850</td>\n",
       "      <td>Spain</td>\n",
       "      <td>Female</td>\n",
       "      <td>43</td>\n",
       "      <td>2.0</td>\n",
       "      <td>125510.82</td>\n",
       "      <td>1</td>\n",
       "      <td>1</td>\n",
       "      <td>1</td>\n",
       "      <td>79084.10</td>\n",
       "    </tr>\n",
       "  </tbody>\n",
       "</table>\n",
       "</div>"
      ],
      "text/plain": [
       "   RowNumber  CustomerId   Surname  CreditScore Geography  Gender  Age  \\\n",
       "0          1    15634602  Hargrave          619    France  Female   42   \n",
       "1          2    15647311      Hill          608     Spain  Female   41   \n",
       "2          3    15619304      Onio          502    France  Female   42   \n",
       "3          4    15701354      Boni          699    France  Female   39   \n",
       "4          5    15737888  Mitchell          850     Spain  Female   43   \n",
       "\n",
       "   Tenure    Balance  NumOfProducts  HasCrCard  IsActiveMember  \\\n",
       "0     2.0       0.00              1          1               1   \n",
       "1     1.0   83807.86              1          0               1   \n",
       "2     8.0  159660.80              3          1               0   \n",
       "3     1.0       0.00              2          0               0   \n",
       "4     2.0  125510.82              1          1               1   \n",
       "\n",
       "   EstimatedSalary  \n",
       "0        101348.88  \n",
       "1        112542.58  \n",
       "2        113931.57  \n",
       "3         93826.63  \n",
       "4         79084.10  "
      ]
     },
     "metadata": {},
     "output_type": "display_data"
    }
   ],
   "source": [
    "# Define 'target' and 'feature' variables\n",
    "target = df['Exited']\n",
    "features = df.drop('Exited', axis=1)\n",
    "print(\"Target shape:\", target.shape)\n",
    "print(\"Target value counts:\\n\", target.value_counts())\n",
    "print()\n",
    "print(\"Features shape:\", features.shape)\n",
    "display(features.head())"
   ]
  },
  {
   "cell_type": "markdown",
   "metadata": {},
   "source": [
    "We can drop the following features:<br>\n",
    "'RowNumber' - This feature only numerates the rows, so it doesn't offer any relevant information to the model. It is redundant because it has the same function as the index.<br>\n",
    "'CustomerId', 'Surname' - These features are unique identifiers to each customer. They're nominal random features that do not have any correlation to the other features or the target. They're irrelevant to the model, so we can drop them.<br>"
   ]
  },
  {
   "cell_type": "code",
   "execution_count": 6,
   "metadata": {},
   "outputs": [
    {
     "data": {
      "text/html": [
       "<div>\n",
       "<style scoped>\n",
       "    .dataframe tbody tr th:only-of-type {\n",
       "        vertical-align: middle;\n",
       "    }\n",
       "\n",
       "    .dataframe tbody tr th {\n",
       "        vertical-align: top;\n",
       "    }\n",
       "\n",
       "    .dataframe thead th {\n",
       "        text-align: right;\n",
       "    }\n",
       "</style>\n",
       "<table border=\"1\" class=\"dataframe\">\n",
       "  <thead>\n",
       "    <tr style=\"text-align: right;\">\n",
       "      <th></th>\n",
       "      <th>CreditScore</th>\n",
       "      <th>Geography</th>\n",
       "      <th>Gender</th>\n",
       "      <th>Age</th>\n",
       "      <th>Tenure</th>\n",
       "      <th>Balance</th>\n",
       "      <th>NumOfProducts</th>\n",
       "      <th>HasCrCard</th>\n",
       "      <th>IsActiveMember</th>\n",
       "      <th>EstimatedSalary</th>\n",
       "    </tr>\n",
       "  </thead>\n",
       "  <tbody>\n",
       "    <tr>\n",
       "      <th>0</th>\n",
       "      <td>619</td>\n",
       "      <td>France</td>\n",
       "      <td>Female</td>\n",
       "      <td>42</td>\n",
       "      <td>2.0</td>\n",
       "      <td>0.00</td>\n",
       "      <td>1</td>\n",
       "      <td>1</td>\n",
       "      <td>1</td>\n",
       "      <td>101348.88</td>\n",
       "    </tr>\n",
       "    <tr>\n",
       "      <th>1</th>\n",
       "      <td>608</td>\n",
       "      <td>Spain</td>\n",
       "      <td>Female</td>\n",
       "      <td>41</td>\n",
       "      <td>1.0</td>\n",
       "      <td>83807.86</td>\n",
       "      <td>1</td>\n",
       "      <td>0</td>\n",
       "      <td>1</td>\n",
       "      <td>112542.58</td>\n",
       "    </tr>\n",
       "    <tr>\n",
       "      <th>2</th>\n",
       "      <td>502</td>\n",
       "      <td>France</td>\n",
       "      <td>Female</td>\n",
       "      <td>42</td>\n",
       "      <td>8.0</td>\n",
       "      <td>159660.80</td>\n",
       "      <td>3</td>\n",
       "      <td>1</td>\n",
       "      <td>0</td>\n",
       "      <td>113931.57</td>\n",
       "    </tr>\n",
       "    <tr>\n",
       "      <th>3</th>\n",
       "      <td>699</td>\n",
       "      <td>France</td>\n",
       "      <td>Female</td>\n",
       "      <td>39</td>\n",
       "      <td>1.0</td>\n",
       "      <td>0.00</td>\n",
       "      <td>2</td>\n",
       "      <td>0</td>\n",
       "      <td>0</td>\n",
       "      <td>93826.63</td>\n",
       "    </tr>\n",
       "    <tr>\n",
       "      <th>4</th>\n",
       "      <td>850</td>\n",
       "      <td>Spain</td>\n",
       "      <td>Female</td>\n",
       "      <td>43</td>\n",
       "      <td>2.0</td>\n",
       "      <td>125510.82</td>\n",
       "      <td>1</td>\n",
       "      <td>1</td>\n",
       "      <td>1</td>\n",
       "      <td>79084.10</td>\n",
       "    </tr>\n",
       "  </tbody>\n",
       "</table>\n",
       "</div>"
      ],
      "text/plain": [
       "   CreditScore Geography  Gender  Age  Tenure    Balance  NumOfProducts  \\\n",
       "0          619    France  Female   42     2.0       0.00              1   \n",
       "1          608     Spain  Female   41     1.0   83807.86              1   \n",
       "2          502    France  Female   42     8.0  159660.80              3   \n",
       "3          699    France  Female   39     1.0       0.00              2   \n",
       "4          850     Spain  Female   43     2.0  125510.82              1   \n",
       "\n",
       "   HasCrCard  IsActiveMember  EstimatedSalary  \n",
       "0          1               1        101348.88  \n",
       "1          0               1        112542.58  \n",
       "2          1               0        113931.57  \n",
       "3          0               0         93826.63  \n",
       "4          1               1         79084.10  "
      ]
     },
     "metadata": {},
     "output_type": "display_data"
    }
   ],
   "source": [
    "# Drop the features that are not essential to the model\n",
    "columns_to_drop = ['RowNumber', 'CustomerId', 'Surname']\n",
    "features = features.drop(columns=columns_to_drop, axis=1)\n",
    "display(features.head())"
   ]
  },
  {
   "cell_type": "markdown",
   "metadata": {},
   "source": [
    "We have to explore the values for each column in the 'features' variable, to decide if they're:<br>\n",
    "• Nominal categorical values (suitable for One Hot Encoding)<br>\n",
    "• Ordinal categorical values (suitable for Label Encoding)<br>\n",
    "• Numerical continuous values (suitable for Standard Scaling)<br>"
   ]
  },
  {
   "cell_type": "code",
   "execution_count": 7,
   "metadata": {},
   "outputs": [
    {
     "name": "stdout",
     "output_type": "stream",
     "text": [
      "CreditScore: [350 351 358 359 363 365 367 373 376 382 383 386 395 399 401 404 405 407\n",
      " 408 410 411 412 413 414 415 416 417 418 419 420 421 422 423 424 425 426\n",
      " 427 428 429 430 431 432 433 434 435 436 437 438 439 440 441 442 443 444\n",
      " 445 446 447 448 449 450 451 452 453 454 455 456 457 458 459 460 461 462\n",
      " 463 464 465 466 467 468 469 470 471 472 473 474 475 476 477 478 479 480\n",
      " 481 482 483 484 485 486 487 488 489 490 491 492 493 494 495 496 497 498\n",
      " 499 500 501 502 503 504 505 506 507 508 509 510 511 512 513 514 515 516\n",
      " 517 518 519 520 521 522 523 524 525 526 527 528 529 530 531 532 533 534\n",
      " 535 536 537 538 539 540 541 542 543 544 545 546 547 548 549 550 551 552\n",
      " 553 554 555 556 557 558 559 560 561 562 563 564 565 566 567 568 569 570\n",
      " 571 572 573 574 575 576 577 578 579 580 581 582 583 584 585 586 587 588\n",
      " 589 590 591 592 593 594 595 596 597 598 599 600 601 602 603 604 605 606\n",
      " 607 608 609 610 611 612 613 614 615 616 617 618 619 620 621 622 623 624\n",
      " 625 626 627 628 629 630 631 632 633 634 635 636 637 638 639 640 641 642\n",
      " 643 644 645 646 647 648 649 650 651 652 653 654 655 656 657 658 659 660\n",
      " 661 662 663 664 665 666 667 668 669 670 671 672 673 674 675 676 677 678\n",
      " 679 680 681 682 683 684 685 686 687 688 689 690 691 692 693 694 695 696\n",
      " 697 698 699 700 701 702 703 704 705 706 707 708 709 710 711 712 713 714\n",
      " 715 716 717 718 719 720 721 722 723 724 725 726 727 728 729 730 731 732\n",
      " 733 734 735 736 737 738 739 740 741 742 743 744 745 746 747 748 749 750\n",
      " 751 752 753 754 755 756 757 758 759 760 761 762 763 764 765 766 767 768\n",
      " 769 770 771 772 773 774 775 776 777 778 779 780 781 782 783 784 785 786\n",
      " 787 788 789 790 791 792 793 794 795 796 797 798 799 800 801 802 803 804\n",
      " 805 806 807 808 809 810 811 812 813 814 815 816 817 818 819 820 821 822\n",
      " 823 824 825 826 827 828 829 830 831 832 833 834 835 836 837 838 839 840\n",
      " 841 842 843 844 845 846 847 848 849 850]\n",
      "Geography: ['France' 'Germany' 'Spain']\n",
      "Gender: ['Female' 'Male']\n",
      "Age: [18 19 20 21 22 23 24 25 26 27 28 29 30 31 32 33 34 35 36 37 38 39 40 41\n",
      " 42 43 44 45 46 47 48 49 50 51 52 53 54 55 56 57 58 59 60 61 62 63 64 65\n",
      " 66 67 68 69 70 71 72 73 74 75 76 77 78 79 80 81 82 83 84 85 88 92]\n",
      "Tenure: [ 0.  1.  2.  3.  4.  5.  6.  7.  8.  9. 10. nan]\n",
      "Balance: [     0.     3768.69  12459.19 ... 222267.63 238387.56 250898.09]\n",
      "NumOfProducts: [1 2 3 4]\n",
      "HasCrCard: [0 1]\n",
      "IsActiveMember: [0 1]\n",
      "EstimatedSalary: [1.1580000e+01 9.0070000e+01 9.1750000e+01 ... 1.9995333e+05 1.9997074e+05\n",
      " 1.9999248e+05]\n"
     ]
    }
   ],
   "source": [
    "# Find the array of values for each feature.\n",
    "# Write a function to print unique values for each column\n",
    "def print_unique_values(data):\n",
    "    categorical_columns = data.columns.tolist() # create a list of columns from the input parameter\n",
    "    for column in categorical_columns:\n",
    "        unique_values = np.sort(data[column].unique()) # sort the unique values for each collumn\n",
    "        print(f\"{column}:\", unique_values) # print the column name and the array of unique values\n",
    "\n",
    "print_unique_values(features)"
   ]
  },
  {
   "cell_type": "markdown",
   "metadata": {},
   "source": [
    "From the values displayed for each column we can assume the following distribution:<br>\n",
    "• **Nominal categorical values:** 'Geography', 'Gender'<br>\n",
    "• **Ordinal categorical values:** 'Tenure', 'NumOfProducts', 'HasCrCard', 'IsActiveMember'<br>\n",
    "• **Numerical continuous values:** 'CreditScore', 'Age', 'Balance', 'EstimatedSalary'<br>"
   ]
  },
  {
   "cell_type": "code",
   "execution_count": 8,
   "metadata": {},
   "outputs": [
    {
     "data": {
      "text/html": [
       "<div>\n",
       "<style scoped>\n",
       "    .dataframe tbody tr th:only-of-type {\n",
       "        vertical-align: middle;\n",
       "    }\n",
       "\n",
       "    .dataframe tbody tr th {\n",
       "        vertical-align: top;\n",
       "    }\n",
       "\n",
       "    .dataframe thead th {\n",
       "        text-align: right;\n",
       "    }\n",
       "</style>\n",
       "<table border=\"1\" class=\"dataframe\">\n",
       "  <thead>\n",
       "    <tr style=\"text-align: right;\">\n",
       "      <th></th>\n",
       "      <th>CreditScore</th>\n",
       "      <th>Age</th>\n",
       "      <th>Tenure</th>\n",
       "      <th>Balance</th>\n",
       "      <th>NumOfProducts</th>\n",
       "      <th>HasCrCard</th>\n",
       "      <th>IsActiveMember</th>\n",
       "      <th>EstimatedSalary</th>\n",
       "      <th>Geography_Germany</th>\n",
       "      <th>Geography_Spain</th>\n",
       "      <th>Gender_Male</th>\n",
       "    </tr>\n",
       "  </thead>\n",
       "  <tbody>\n",
       "    <tr>\n",
       "      <th>0</th>\n",
       "      <td>619</td>\n",
       "      <td>42</td>\n",
       "      <td>2.0</td>\n",
       "      <td>0.00</td>\n",
       "      <td>1</td>\n",
       "      <td>1</td>\n",
       "      <td>1</td>\n",
       "      <td>101348.88</td>\n",
       "      <td>0</td>\n",
       "      <td>0</td>\n",
       "      <td>0</td>\n",
       "    </tr>\n",
       "    <tr>\n",
       "      <th>1</th>\n",
       "      <td>608</td>\n",
       "      <td>41</td>\n",
       "      <td>1.0</td>\n",
       "      <td>83807.86</td>\n",
       "      <td>1</td>\n",
       "      <td>0</td>\n",
       "      <td>1</td>\n",
       "      <td>112542.58</td>\n",
       "      <td>0</td>\n",
       "      <td>1</td>\n",
       "      <td>0</td>\n",
       "    </tr>\n",
       "    <tr>\n",
       "      <th>2</th>\n",
       "      <td>502</td>\n",
       "      <td>42</td>\n",
       "      <td>8.0</td>\n",
       "      <td>159660.80</td>\n",
       "      <td>3</td>\n",
       "      <td>1</td>\n",
       "      <td>0</td>\n",
       "      <td>113931.57</td>\n",
       "      <td>0</td>\n",
       "      <td>0</td>\n",
       "      <td>0</td>\n",
       "    </tr>\n",
       "    <tr>\n",
       "      <th>3</th>\n",
       "      <td>699</td>\n",
       "      <td>39</td>\n",
       "      <td>1.0</td>\n",
       "      <td>0.00</td>\n",
       "      <td>2</td>\n",
       "      <td>0</td>\n",
       "      <td>0</td>\n",
       "      <td>93826.63</td>\n",
       "      <td>0</td>\n",
       "      <td>0</td>\n",
       "      <td>0</td>\n",
       "    </tr>\n",
       "    <tr>\n",
       "      <th>4</th>\n",
       "      <td>850</td>\n",
       "      <td>43</td>\n",
       "      <td>2.0</td>\n",
       "      <td>125510.82</td>\n",
       "      <td>1</td>\n",
       "      <td>1</td>\n",
       "      <td>1</td>\n",
       "      <td>79084.10</td>\n",
       "      <td>0</td>\n",
       "      <td>1</td>\n",
       "      <td>0</td>\n",
       "    </tr>\n",
       "  </tbody>\n",
       "</table>\n",
       "</div>"
      ],
      "text/plain": [
       "   CreditScore  Age  Tenure    Balance  NumOfProducts  HasCrCard  \\\n",
       "0          619   42     2.0       0.00              1          1   \n",
       "1          608   41     1.0   83807.86              1          0   \n",
       "2          502   42     8.0  159660.80              3          1   \n",
       "3          699   39     1.0       0.00              2          0   \n",
       "4          850   43     2.0  125510.82              1          1   \n",
       "\n",
       "   IsActiveMember  EstimatedSalary  Geography_Germany  Geography_Spain  \\\n",
       "0               1        101348.88                  0                0   \n",
       "1               1        112542.58                  0                1   \n",
       "2               0        113931.57                  0                0   \n",
       "3               0         93826.63                  0                0   \n",
       "4               1         79084.10                  0                1   \n",
       "\n",
       "   Gender_Male  \n",
       "0            0  \n",
       "1            0  \n",
       "2            0  \n",
       "3            0  \n",
       "4            0  "
      ]
     },
     "metadata": {},
     "output_type": "display_data"
    }
   ],
   "source": [
    "# Use One Hot Encoding on the 'features' variable. \n",
    "# (Drop_first=True) drops the first dummy feature to simplify the model\n",
    "features = pd.get_dummies(features, drop_first=True)\n",
    "display(features.head())"
   ]
  },
  {
   "cell_type": "markdown",
   "metadata": {},
   "source": [
    "One Hot Encoding affected the following nominal categorical features:<br>\n",
    "'Geography' - Has the values 'France', 'Germany' or 'Spain'. (OHE dropped Geography_France) <br>\n",
    "'Gender' — Has the values Male or Female (OHE dropped Gender_Female).<br>\n",
    "In both cases, no information is lost because a combination of 0's in the Germany and Spain columns = France, and a 0 in the Male column = Female."
   ]
  },
  {
   "cell_type": "code",
   "execution_count": 9,
   "metadata": {
    "scrolled": true
   },
   "outputs": [
    {
     "data": {
      "text/html": [
       "<div>\n",
       "<style scoped>\n",
       "    .dataframe tbody tr th:only-of-type {\n",
       "        vertical-align: middle;\n",
       "    }\n",
       "\n",
       "    .dataframe tbody tr th {\n",
       "        vertical-align: top;\n",
       "    }\n",
       "\n",
       "    .dataframe thead th {\n",
       "        text-align: right;\n",
       "    }\n",
       "</style>\n",
       "<table border=\"1\" class=\"dataframe\">\n",
       "  <thead>\n",
       "    <tr style=\"text-align: right;\">\n",
       "      <th></th>\n",
       "      <th>CreditScore</th>\n",
       "      <th>Age</th>\n",
       "      <th>Tenure</th>\n",
       "      <th>Balance</th>\n",
       "      <th>NumOfProducts</th>\n",
       "      <th>HasCrCard</th>\n",
       "      <th>IsActiveMember</th>\n",
       "      <th>EstimatedSalary</th>\n",
       "      <th>Geography_Germany</th>\n",
       "      <th>Geography_Spain</th>\n",
       "      <th>Gender_Male</th>\n",
       "      <th>Tenure_encoded</th>\n",
       "    </tr>\n",
       "  </thead>\n",
       "  <tbody>\n",
       "    <tr>\n",
       "      <th>0</th>\n",
       "      <td>619</td>\n",
       "      <td>42</td>\n",
       "      <td>2.0</td>\n",
       "      <td>0.00</td>\n",
       "      <td>1</td>\n",
       "      <td>1</td>\n",
       "      <td>1</td>\n",
       "      <td>101348.88</td>\n",
       "      <td>0</td>\n",
       "      <td>0</td>\n",
       "      <td>0</td>\n",
       "      <td>2</td>\n",
       "    </tr>\n",
       "    <tr>\n",
       "      <th>1</th>\n",
       "      <td>608</td>\n",
       "      <td>41</td>\n",
       "      <td>1.0</td>\n",
       "      <td>83807.86</td>\n",
       "      <td>1</td>\n",
       "      <td>0</td>\n",
       "      <td>1</td>\n",
       "      <td>112542.58</td>\n",
       "      <td>0</td>\n",
       "      <td>1</td>\n",
       "      <td>0</td>\n",
       "      <td>1</td>\n",
       "    </tr>\n",
       "    <tr>\n",
       "      <th>2</th>\n",
       "      <td>502</td>\n",
       "      <td>42</td>\n",
       "      <td>8.0</td>\n",
       "      <td>159660.80</td>\n",
       "      <td>3</td>\n",
       "      <td>1</td>\n",
       "      <td>0</td>\n",
       "      <td>113931.57</td>\n",
       "      <td>0</td>\n",
       "      <td>0</td>\n",
       "      <td>0</td>\n",
       "      <td>8</td>\n",
       "    </tr>\n",
       "    <tr>\n",
       "      <th>3</th>\n",
       "      <td>699</td>\n",
       "      <td>39</td>\n",
       "      <td>1.0</td>\n",
       "      <td>0.00</td>\n",
       "      <td>2</td>\n",
       "      <td>0</td>\n",
       "      <td>0</td>\n",
       "      <td>93826.63</td>\n",
       "      <td>0</td>\n",
       "      <td>0</td>\n",
       "      <td>0</td>\n",
       "      <td>1</td>\n",
       "    </tr>\n",
       "    <tr>\n",
       "      <th>4</th>\n",
       "      <td>850</td>\n",
       "      <td>43</td>\n",
       "      <td>2.0</td>\n",
       "      <td>125510.82</td>\n",
       "      <td>1</td>\n",
       "      <td>1</td>\n",
       "      <td>1</td>\n",
       "      <td>79084.10</td>\n",
       "      <td>0</td>\n",
       "      <td>1</td>\n",
       "      <td>0</td>\n",
       "      <td>2</td>\n",
       "    </tr>\n",
       "  </tbody>\n",
       "</table>\n",
       "</div>"
      ],
      "text/plain": [
       "   CreditScore  Age  Tenure    Balance  NumOfProducts  HasCrCard  \\\n",
       "0          619   42     2.0       0.00              1          1   \n",
       "1          608   41     1.0   83807.86              1          0   \n",
       "2          502   42     8.0  159660.80              3          1   \n",
       "3          699   39     1.0       0.00              2          0   \n",
       "4          850   43     2.0  125510.82              1          1   \n",
       "\n",
       "   IsActiveMember  EstimatedSalary  Geography_Germany  Geography_Spain  \\\n",
       "0               1        101348.88                  0                0   \n",
       "1               1        112542.58                  0                1   \n",
       "2               0        113931.57                  0                0   \n",
       "3               0         93826.63                  0                0   \n",
       "4               1         79084.10                  0                1   \n",
       "\n",
       "   Gender_Male  Tenure_encoded  \n",
       "0            0               2  \n",
       "1            0               1  \n",
       "2            0               8  \n",
       "3            0               1  \n",
       "4            0               2  "
      ]
     },
     "metadata": {},
     "output_type": "display_data"
    },
    {
     "name": "stdout",
     "output_type": "stream",
     "text": [
      "Values in 'Tenure_encoded': [ 0  1  2  3  4  5  6  7  8  9 10 11]\n"
     ]
    }
   ],
   "source": [
    "# Use LabelEncoder on the 'features' variable. \n",
    "# Apply label encoding to the 'Tenure' column\n",
    "label_encoder = LabelEncoder()\n",
    "features['Tenure_encoded'] = label_encoder.fit_transform(features['Tenure'])\n",
    "display(features.head())\n",
    "print(\"Values in 'Tenure_encoded':\", np.sort(features['Tenure_encoded'].unique()))"
   ]
  },
  {
   "cell_type": "markdown",
   "metadata": {},
   "source": [
    "In the case of Label Encoding, the only ordinal categorical feature that we believe is valid to encode is 'Tenure', since it presents a discrete sequence of integers that represent different conditions (N years left to maturation). This approach also solves the problem of the NaN values we found earlier, since the LabelEncoder treats them as a separate category, assigning them a distinct value (Nan = 11). It makes sense to categorize NaN values, because they can also be significant for machine learning, since their presence can represent a distinct state that might be relevant to the model.<br> \n",
    "The features 'NumOfProducts', 'HasCrCard' and 'IsActiveMember' seem to be reasonably clean and formatted for machine learning. For example, if we use LabelEncoder on the 'NumOfProducts' column, the only result would be to replace the values [1,2,3,4] for [0,1,2,3]. There is no real benefit in doing this so it's best to leave values as they are."
   ]
  },
  {
   "cell_type": "code",
   "execution_count": 10,
   "metadata": {},
   "outputs": [
    {
     "data": {
      "text/html": [
       "<div>\n",
       "<style scoped>\n",
       "    .dataframe tbody tr th:only-of-type {\n",
       "        vertical-align: middle;\n",
       "    }\n",
       "\n",
       "    .dataframe tbody tr th {\n",
       "        vertical-align: top;\n",
       "    }\n",
       "\n",
       "    .dataframe thead th {\n",
       "        text-align: right;\n",
       "    }\n",
       "</style>\n",
       "<table border=\"1\" class=\"dataframe\">\n",
       "  <thead>\n",
       "    <tr style=\"text-align: right;\">\n",
       "      <th></th>\n",
       "      <th>CreditScore</th>\n",
       "      <th>Age</th>\n",
       "      <th>Balance</th>\n",
       "      <th>NumOfProducts</th>\n",
       "      <th>HasCrCard</th>\n",
       "      <th>IsActiveMember</th>\n",
       "      <th>EstimatedSalary</th>\n",
       "      <th>Geography_Germany</th>\n",
       "      <th>Geography_Spain</th>\n",
       "      <th>Gender_Male</th>\n",
       "      <th>Tenure</th>\n",
       "    </tr>\n",
       "  </thead>\n",
       "  <tbody>\n",
       "    <tr>\n",
       "      <th>0</th>\n",
       "      <td>619</td>\n",
       "      <td>42</td>\n",
       "      <td>0.00</td>\n",
       "      <td>1</td>\n",
       "      <td>1</td>\n",
       "      <td>1</td>\n",
       "      <td>101348.88</td>\n",
       "      <td>0</td>\n",
       "      <td>0</td>\n",
       "      <td>0</td>\n",
       "      <td>2</td>\n",
       "    </tr>\n",
       "    <tr>\n",
       "      <th>1</th>\n",
       "      <td>608</td>\n",
       "      <td>41</td>\n",
       "      <td>83807.86</td>\n",
       "      <td>1</td>\n",
       "      <td>0</td>\n",
       "      <td>1</td>\n",
       "      <td>112542.58</td>\n",
       "      <td>0</td>\n",
       "      <td>1</td>\n",
       "      <td>0</td>\n",
       "      <td>1</td>\n",
       "    </tr>\n",
       "    <tr>\n",
       "      <th>2</th>\n",
       "      <td>502</td>\n",
       "      <td>42</td>\n",
       "      <td>159660.80</td>\n",
       "      <td>3</td>\n",
       "      <td>1</td>\n",
       "      <td>0</td>\n",
       "      <td>113931.57</td>\n",
       "      <td>0</td>\n",
       "      <td>0</td>\n",
       "      <td>0</td>\n",
       "      <td>8</td>\n",
       "    </tr>\n",
       "    <tr>\n",
       "      <th>3</th>\n",
       "      <td>699</td>\n",
       "      <td>39</td>\n",
       "      <td>0.00</td>\n",
       "      <td>2</td>\n",
       "      <td>0</td>\n",
       "      <td>0</td>\n",
       "      <td>93826.63</td>\n",
       "      <td>0</td>\n",
       "      <td>0</td>\n",
       "      <td>0</td>\n",
       "      <td>1</td>\n",
       "    </tr>\n",
       "    <tr>\n",
       "      <th>4</th>\n",
       "      <td>850</td>\n",
       "      <td>43</td>\n",
       "      <td>125510.82</td>\n",
       "      <td>1</td>\n",
       "      <td>1</td>\n",
       "      <td>1</td>\n",
       "      <td>79084.10</td>\n",
       "      <td>0</td>\n",
       "      <td>1</td>\n",
       "      <td>0</td>\n",
       "      <td>2</td>\n",
       "    </tr>\n",
       "  </tbody>\n",
       "</table>\n",
       "</div>"
      ],
      "text/plain": [
       "   CreditScore  Age    Balance  NumOfProducts  HasCrCard  IsActiveMember  \\\n",
       "0          619   42       0.00              1          1               1   \n",
       "1          608   41   83807.86              1          0               1   \n",
       "2          502   42  159660.80              3          1               0   \n",
       "3          699   39       0.00              2          0               0   \n",
       "4          850   43  125510.82              1          1               1   \n",
       "\n",
       "   EstimatedSalary  Geography_Germany  Geography_Spain  Gender_Male  Tenure  \n",
       "0        101348.88                  0                0            0       2  \n",
       "1        112542.58                  0                1            0       1  \n",
       "2        113931.57                  0                0            0       8  \n",
       "3         93826.63                  0                0            0       1  \n",
       "4         79084.10                  0                1            0       2  "
      ]
     },
     "metadata": {},
     "output_type": "display_data"
    },
    {
     "name": "stdout",
     "output_type": "stream",
     "text": [
      "(10000, 11)\n"
     ]
    }
   ],
   "source": [
    "# Drop the 'Tenure' column and rename the 'Tenure_encoded' column\n",
    "features = features.drop('Tenure', axis=1)\n",
    "features.rename(columns={'Tenure_encoded': 'Tenure'}, inplace=True)\n",
    "display(features.head())\n",
    "print(features.shape)"
   ]
  },
  {
   "cell_type": "code",
   "execution_count": 11,
   "metadata": {},
   "outputs": [
    {
     "data": {
      "text/html": [
       "<div>\n",
       "<style scoped>\n",
       "    .dataframe tbody tr th:only-of-type {\n",
       "        vertical-align: middle;\n",
       "    }\n",
       "\n",
       "    .dataframe tbody tr th {\n",
       "        vertical-align: top;\n",
       "    }\n",
       "\n",
       "    .dataframe thead th {\n",
       "        text-align: right;\n",
       "    }\n",
       "</style>\n",
       "<table border=\"1\" class=\"dataframe\">\n",
       "  <thead>\n",
       "    <tr style=\"text-align: right;\">\n",
       "      <th></th>\n",
       "      <th>CreditScore</th>\n",
       "      <th>Age</th>\n",
       "      <th>Balance</th>\n",
       "      <th>NumOfProducts</th>\n",
       "      <th>HasCrCard</th>\n",
       "      <th>IsActiveMember</th>\n",
       "      <th>EstimatedSalary</th>\n",
       "      <th>Geography_Germany</th>\n",
       "      <th>Geography_Spain</th>\n",
       "      <th>Gender_Male</th>\n",
       "      <th>Tenure</th>\n",
       "    </tr>\n",
       "  </thead>\n",
       "  <tbody>\n",
       "    <tr>\n",
       "      <th>0</th>\n",
       "      <td>-0.326221</td>\n",
       "      <td>0.293517</td>\n",
       "      <td>-1.225848</td>\n",
       "      <td>1</td>\n",
       "      <td>1</td>\n",
       "      <td>1</td>\n",
       "      <td>0.021886</td>\n",
       "      <td>0</td>\n",
       "      <td>0</td>\n",
       "      <td>0</td>\n",
       "      <td>2</td>\n",
       "    </tr>\n",
       "    <tr>\n",
       "      <th>1</th>\n",
       "      <td>-0.440036</td>\n",
       "      <td>0.198164</td>\n",
       "      <td>0.117350</td>\n",
       "      <td>1</td>\n",
       "      <td>0</td>\n",
       "      <td>1</td>\n",
       "      <td>0.216534</td>\n",
       "      <td>0</td>\n",
       "      <td>1</td>\n",
       "      <td>0</td>\n",
       "      <td>1</td>\n",
       "    </tr>\n",
       "    <tr>\n",
       "      <th>2</th>\n",
       "      <td>-1.536794</td>\n",
       "      <td>0.293517</td>\n",
       "      <td>1.333053</td>\n",
       "      <td>3</td>\n",
       "      <td>1</td>\n",
       "      <td>0</td>\n",
       "      <td>0.240687</td>\n",
       "      <td>0</td>\n",
       "      <td>0</td>\n",
       "      <td>0</td>\n",
       "      <td>8</td>\n",
       "    </tr>\n",
       "    <tr>\n",
       "      <th>3</th>\n",
       "      <td>0.501521</td>\n",
       "      <td>0.007457</td>\n",
       "      <td>-1.225848</td>\n",
       "      <td>2</td>\n",
       "      <td>0</td>\n",
       "      <td>0</td>\n",
       "      <td>-0.108918</td>\n",
       "      <td>0</td>\n",
       "      <td>0</td>\n",
       "      <td>0</td>\n",
       "      <td>1</td>\n",
       "    </tr>\n",
       "    <tr>\n",
       "      <th>4</th>\n",
       "      <td>2.063884</td>\n",
       "      <td>0.388871</td>\n",
       "      <td>0.785728</td>\n",
       "      <td>1</td>\n",
       "      <td>1</td>\n",
       "      <td>1</td>\n",
       "      <td>-0.365276</td>\n",
       "      <td>0</td>\n",
       "      <td>1</td>\n",
       "      <td>0</td>\n",
       "      <td>2</td>\n",
       "    </tr>\n",
       "  </tbody>\n",
       "</table>\n",
       "</div>"
      ],
      "text/plain": [
       "   CreditScore       Age   Balance  NumOfProducts  HasCrCard  IsActiveMember  \\\n",
       "0    -0.326221  0.293517 -1.225848              1          1               1   \n",
       "1    -0.440036  0.198164  0.117350              1          0               1   \n",
       "2    -1.536794  0.293517  1.333053              3          1               0   \n",
       "3     0.501521  0.007457 -1.225848              2          0               0   \n",
       "4     2.063884  0.388871  0.785728              1          1               1   \n",
       "\n",
       "   EstimatedSalary  Geography_Germany  Geography_Spain  Gender_Male  Tenure  \n",
       "0         0.021886                  0                0            0       2  \n",
       "1         0.216534                  0                1            0       1  \n",
       "2         0.240687                  0                0            0       8  \n",
       "3        -0.108918                  0                0            0       1  \n",
       "4        -0.365276                  0                1            0       2  "
      ]
     },
     "metadata": {},
     "output_type": "display_data"
    },
    {
     "name": "stdout",
     "output_type": "stream",
     "text": [
      "(10000, 11)\n"
     ]
    }
   ],
   "source": [
    "# Use StandardScaler on the numeric columns\n",
    "# Define a list variable with numeric columnns\n",
    "numeric = ['CreditScore', 'Age', 'Balance', 'EstimatedSalary']\n",
    "# Apply StandardScaler to the numeric columns\n",
    "scaler = StandardScaler()\n",
    "scaler.fit(features[numeric])\n",
    "features[numeric] = scaler.transform(features[numeric])\n",
    "display(features.head())\n",
    "print(features.shape)"
   ]
  },
  {
   "cell_type": "markdown",
   "metadata": {},
   "source": [
    "After transforming the numeric columns with StandardScaler, the data seems to be clean and formatted for machine learning."
   ]
  },
  {
   "cell_type": "markdown",
   "metadata": {},
   "source": [
    "## Train, test and improve different Machine Learning Models"
   ]
  },
  {
   "cell_type": "code",
   "execution_count": 12,
   "metadata": {},
   "outputs": [
    {
     "data": {
      "text/plain": [
       "(7500, 11)"
      ]
     },
     "metadata": {},
     "output_type": "display_data"
    },
    {
     "data": {
      "text/html": [
       "<div>\n",
       "<style scoped>\n",
       "    .dataframe tbody tr th:only-of-type {\n",
       "        vertical-align: middle;\n",
       "    }\n",
       "\n",
       "    .dataframe tbody tr th {\n",
       "        vertical-align: top;\n",
       "    }\n",
       "\n",
       "    .dataframe thead th {\n",
       "        text-align: right;\n",
       "    }\n",
       "</style>\n",
       "<table border=\"1\" class=\"dataframe\">\n",
       "  <thead>\n",
       "    <tr style=\"text-align: right;\">\n",
       "      <th></th>\n",
       "      <th>CreditScore</th>\n",
       "      <th>Age</th>\n",
       "      <th>Balance</th>\n",
       "      <th>NumOfProducts</th>\n",
       "      <th>HasCrCard</th>\n",
       "      <th>IsActiveMember</th>\n",
       "      <th>EstimatedSalary</th>\n",
       "      <th>Geography_Germany</th>\n",
       "      <th>Geography_Spain</th>\n",
       "      <th>Gender_Male</th>\n",
       "      <th>Tenure</th>\n",
       "    </tr>\n",
       "  </thead>\n",
       "  <tbody>\n",
       "    <tr>\n",
       "      <th>226</th>\n",
       "      <td>0.449787</td>\n",
       "      <td>-0.850726</td>\n",
       "      <td>-1.225848</td>\n",
       "      <td>2</td>\n",
       "      <td>1</td>\n",
       "      <td>1</td>\n",
       "      <td>-1.271656</td>\n",
       "      <td>0</td>\n",
       "      <td>0</td>\n",
       "      <td>0</td>\n",
       "      <td>9</td>\n",
       "    </tr>\n",
       "    <tr>\n",
       "      <th>7756</th>\n",
       "      <td>-0.305528</td>\n",
       "      <td>-0.278604</td>\n",
       "      <td>0.638725</td>\n",
       "      <td>1</td>\n",
       "      <td>1</td>\n",
       "      <td>1</td>\n",
       "      <td>0.967754</td>\n",
       "      <td>0</td>\n",
       "      <td>1</td>\n",
       "      <td>0</td>\n",
       "      <td>7</td>\n",
       "    </tr>\n",
       "    <tr>\n",
       "      <th>2065</th>\n",
       "      <td>-0.253794</td>\n",
       "      <td>-0.564665</td>\n",
       "      <td>-1.225848</td>\n",
       "      <td>2</td>\n",
       "      <td>1</td>\n",
       "      <td>0</td>\n",
       "      <td>0.667982</td>\n",
       "      <td>0</td>\n",
       "      <td>0</td>\n",
       "      <td>1</td>\n",
       "      <td>8</td>\n",
       "    </tr>\n",
       "    <tr>\n",
       "      <th>2800</th>\n",
       "      <td>1.225795</td>\n",
       "      <td>1.151700</td>\n",
       "      <td>1.286783</td>\n",
       "      <td>2</td>\n",
       "      <td>1</td>\n",
       "      <td>0</td>\n",
       "      <td>-1.040427</td>\n",
       "      <td>0</td>\n",
       "      <td>0</td>\n",
       "      <td>1</td>\n",
       "      <td>9</td>\n",
       "    </tr>\n",
       "    <tr>\n",
       "      <th>7028</th>\n",
       "      <td>0.698109</td>\n",
       "      <td>-1.232140</td>\n",
       "      <td>1.138584</td>\n",
       "      <td>1</td>\n",
       "      <td>0</td>\n",
       "      <td>0</td>\n",
       "      <td>-0.851899</td>\n",
       "      <td>1</td>\n",
       "      <td>0</td>\n",
       "      <td>1</td>\n",
       "      <td>11</td>\n",
       "    </tr>\n",
       "  </tbody>\n",
       "</table>\n",
       "</div>"
      ],
      "text/plain": [
       "      CreditScore       Age   Balance  NumOfProducts  HasCrCard  \\\n",
       "226      0.449787 -0.850726 -1.225848              2          1   \n",
       "7756    -0.305528 -0.278604  0.638725              1          1   \n",
       "2065    -0.253794 -0.564665 -1.225848              2          1   \n",
       "2800     1.225795  1.151700  1.286783              2          1   \n",
       "7028     0.698109 -1.232140  1.138584              1          0   \n",
       "\n",
       "      IsActiveMember  EstimatedSalary  Geography_Germany  Geography_Spain  \\\n",
       "226                1        -1.271656                  0                0   \n",
       "7756               1         0.967754                  0                1   \n",
       "2065               0         0.667982                  0                0   \n",
       "2800               0        -1.040427                  0                0   \n",
       "7028               0        -0.851899                  1                0   \n",
       "\n",
       "      Gender_Male  Tenure  \n",
       "226             0       9  \n",
       "7756            0       7  \n",
       "2065            1       8  \n",
       "2800            1       9  \n",
       "7028            1      11  "
      ]
     },
     "metadata": {},
     "output_type": "display_data"
    },
    {
     "data": {
      "text/plain": [
       "(2500, 11)"
      ]
     },
     "metadata": {},
     "output_type": "display_data"
    },
    {
     "data": {
      "text/html": [
       "<div>\n",
       "<style scoped>\n",
       "    .dataframe tbody tr th:only-of-type {\n",
       "        vertical-align: middle;\n",
       "    }\n",
       "\n",
       "    .dataframe tbody tr th {\n",
       "        vertical-align: top;\n",
       "    }\n",
       "\n",
       "    .dataframe thead th {\n",
       "        text-align: right;\n",
       "    }\n",
       "</style>\n",
       "<table border=\"1\" class=\"dataframe\">\n",
       "  <thead>\n",
       "    <tr style=\"text-align: right;\">\n",
       "      <th></th>\n",
       "      <th>CreditScore</th>\n",
       "      <th>Age</th>\n",
       "      <th>Balance</th>\n",
       "      <th>NumOfProducts</th>\n",
       "      <th>HasCrCard</th>\n",
       "      <th>IsActiveMember</th>\n",
       "      <th>EstimatedSalary</th>\n",
       "      <th>Geography_Germany</th>\n",
       "      <th>Geography_Spain</th>\n",
       "      <th>Gender_Male</th>\n",
       "      <th>Tenure</th>\n",
       "    </tr>\n",
       "  </thead>\n",
       "  <tbody>\n",
       "    <tr>\n",
       "      <th>7867</th>\n",
       "      <td>-0.108939</td>\n",
       "      <td>0.674932</td>\n",
       "      <td>-1.225848</td>\n",
       "      <td>1</td>\n",
       "      <td>1</td>\n",
       "      <td>1</td>\n",
       "      <td>0.976737</td>\n",
       "      <td>0</td>\n",
       "      <td>1</td>\n",
       "      <td>0</td>\n",
       "      <td>3</td>\n",
       "    </tr>\n",
       "    <tr>\n",
       "      <th>1402</th>\n",
       "      <td>1.101634</td>\n",
       "      <td>-0.946079</td>\n",
       "      <td>0.862589</td>\n",
       "      <td>1</td>\n",
       "      <td>1</td>\n",
       "      <td>0</td>\n",
       "      <td>-0.393354</td>\n",
       "      <td>0</td>\n",
       "      <td>0</td>\n",
       "      <td>1</td>\n",
       "      <td>8</td>\n",
       "    </tr>\n",
       "    <tr>\n",
       "      <th>8606</th>\n",
       "      <td>1.618972</td>\n",
       "      <td>0.293517</td>\n",
       "      <td>-1.225848</td>\n",
       "      <td>2</td>\n",
       "      <td>1</td>\n",
       "      <td>1</td>\n",
       "      <td>-0.438017</td>\n",
       "      <td>0</td>\n",
       "      <td>1</td>\n",
       "      <td>1</td>\n",
       "      <td>5</td>\n",
       "    </tr>\n",
       "    <tr>\n",
       "      <th>8885</th>\n",
       "      <td>0.180771</td>\n",
       "      <td>0.579578</td>\n",
       "      <td>0.416710</td>\n",
       "      <td>2</td>\n",
       "      <td>1</td>\n",
       "      <td>1</td>\n",
       "      <td>1.013588</td>\n",
       "      <td>0</td>\n",
       "      <td>1</td>\n",
       "      <td>1</td>\n",
       "      <td>4</td>\n",
       "    </tr>\n",
       "    <tr>\n",
       "      <th>6494</th>\n",
       "      <td>0.501521</td>\n",
       "      <td>-1.041433</td>\n",
       "      <td>-1.225848</td>\n",
       "      <td>2</td>\n",
       "      <td>1</td>\n",
       "      <td>1</td>\n",
       "      <td>-1.346004</td>\n",
       "      <td>0</td>\n",
       "      <td>0</td>\n",
       "      <td>1</td>\n",
       "      <td>7</td>\n",
       "    </tr>\n",
       "  </tbody>\n",
       "</table>\n",
       "</div>"
      ],
      "text/plain": [
       "      CreditScore       Age   Balance  NumOfProducts  HasCrCard  \\\n",
       "7867    -0.108939  0.674932 -1.225848              1          1   \n",
       "1402     1.101634 -0.946079  0.862589              1          1   \n",
       "8606     1.618972  0.293517 -1.225848              2          1   \n",
       "8885     0.180771  0.579578  0.416710              2          1   \n",
       "6494     0.501521 -1.041433 -1.225848              2          1   \n",
       "\n",
       "      IsActiveMember  EstimatedSalary  Geography_Germany  Geography_Spain  \\\n",
       "7867               1         0.976737                  0                1   \n",
       "1402               0        -0.393354                  0                0   \n",
       "8606               1        -0.438017                  0                1   \n",
       "8885               1         1.013588                  0                1   \n",
       "6494               1        -1.346004                  0                0   \n",
       "\n",
       "      Gender_Male  Tenure  \n",
       "7867            0       3  \n",
       "1402            1       8  \n",
       "8606            1       5  \n",
       "8885            1       4  \n",
       "6494            1       7  "
      ]
     },
     "metadata": {},
     "output_type": "display_data"
    },
    {
     "data": {
      "text/plain": [
       "(7500,)"
      ]
     },
     "metadata": {},
     "output_type": "display_data"
    },
    {
     "data": {
      "text/plain": [
       "226     0\n",
       "7756    0\n",
       "2065    0\n",
       "2800    0\n",
       "7028    0\n",
       "Name: Exited, dtype: int64"
      ]
     },
     "metadata": {},
     "output_type": "display_data"
    },
    {
     "data": {
      "text/plain": [
       "(2500,)"
      ]
     },
     "metadata": {},
     "output_type": "display_data"
    },
    {
     "data": {
      "text/plain": [
       "7867    0\n",
       "1402    0\n",
       "8606    0\n",
       "8885    0\n",
       "6494    0\n",
       "Name: Exited, dtype: int64"
      ]
     },
     "metadata": {},
     "output_type": "display_data"
    }
   ],
   "source": [
    "# Split the 'target' and 'feature' variables in training and validation sets\n",
    "features_train, features_valid, target_train, target_valid = train_test_split(\n",
    "    features, target, test_size=0.25, random_state=12345)\n",
    "\n",
    "# Display shapes and first 5 rows\n",
    "display(features_train.shape)\n",
    "display(features_train.head())\n",
    "display(features_valid.shape)\n",
    "display(features_valid.head())\n",
    "display(target_train.shape)\n",
    "display(target_train.head())\n",
    "display(target_valid.shape)\n",
    "display(target_valid.head())"
   ]
  },
  {
   "cell_type": "code",
   "execution_count": 13,
   "metadata": {},
   "outputs": [
    {
     "name": "stdout",
     "output_type": "stream",
     "text": [
      "0    5998\n",
      "1    1502\n",
      "Name: Exited, dtype: int64\n",
      "0    1965\n",
      "1     535\n",
      "Name: Exited, dtype: int64\n"
     ]
    }
   ],
   "source": [
    "# Value_counts() of the Target variables\n",
    "print(target_train.value_counts())\n",
    "print(target_valid.value_counts())"
   ]
  },
  {
   "cell_type": "markdown",
   "metadata": {},
   "source": [
    "Since this is a classification problem, we can quickly see the balance of the classes 1 and 0 by running a value_counts(). The results show that the data is disbalanced towards Class 0.<br> \n",
    "We will train three models: **Decision Tree**, **Random Forest** and **Logistic Regression** and check their metrics (accuracy, recall, prediction and f1 score) under the class disbalance."
   ]
  },
  {
   "cell_type": "code",
   "execution_count": 14,
   "metadata": {},
   "outputs": [
    {
     "name": "stdout",
     "output_type": "stream",
     "text": [
      "max_depth = 1 : 0.786\n",
      "max_depth = 2 : 0.8232\n",
      "max_depth = 3 : 0.8348\n",
      "max_depth = 4 : 0.8412\n",
      "max_depth = 5 : 0.8496\n",
      "max_depth = 6 : 0.8536\n",
      "max_depth = 7 : 0.8508\n",
      "max_depth = 8 : 0.8448\n",
      "max_depth = 9 : 0.8432\n",
      "max_depth = 10 : 0.8328\n",
      "\n",
      "Accuracy of the model on the training set: 0.9066666666666666\n",
      "Accuracy of the best model on the validation set: 0.8536\n",
      "Best model on the validation set: DecisionTreeClassifier(max_depth=6, random_state=12345)\n"
     ]
    }
   ],
   "source": [
    "# Evaluate the best hyperparameters for DecisionTreeClassifier \n",
    "# Define variables to store best_model and best_result\n",
    "best_model = None\n",
    "best_result = 0\n",
    "\n",
    "# Loop over max_depth values from 1 to 10\n",
    "for depth in range(1, 11):\n",
    "    model = DecisionTreeClassifier(\n",
    "        random_state=12345, max_depth=depth\n",
    "    )\n",
    "    model.fit(features_train, target_train)\n",
    "    # Accuracy of model on training set\n",
    "    predictions_train = model.predict(features_train)\n",
    "    result_train = accuracy_score(target_train, predictions_train)\n",
    "    # Accuracy of model on validation set\n",
    "    predictions_valid = model.predict(features_valid)\n",
    "    result = accuracy_score(target_valid, predictions_valid)\n",
    "    print('max_depth =', depth, ': ', end='')\n",
    "    print(result)\n",
    "    # save the model with the best accuracy on the training set\n",
    "    if result > best_result:\n",
    "        best_model = model\n",
    "        best_result = result\n",
    "print()\n",
    "print(\"Accuracy of the model on the training set:\", result_train)\n",
    "print(\"Accuracy of the best model on the validation set:\", best_result)\n",
    "print(\"Best model on the validation set:\", best_model)"
   ]
  },
  {
   "cell_type": "code",
   "execution_count": 15,
   "metadata": {},
   "outputs": [
    {
     "name": "stdout",
     "output_type": "stream",
     "text": [
      "Class Frequency - Decision Tree model\n",
      "0    0.8916\n",
      "1    0.1084\n",
      "dtype: float64\n",
      "\n",
      "Confusion Matrix:\n",
      " [[1914   51]\n",
      " [ 315  220]]\n",
      "\n",
      "Accuracy Score: 0.8536\n",
      "Recall Score: 0.411214953271028\n",
      "Precision Score: 0.8118081180811808\n",
      "F1 Score: 0.5459057071960298\n"
     ]
    },
    {
     "data": {
      "text/plain": [
       "<AxesSubplot:>"
      ]
     },
     "execution_count": 15,
     "metadata": {},
     "output_type": "execute_result"
    },
    {
     "data": {
      "image/png": "[encoded data removed]",
      "text/plain": [
       "<Figure size 216x216 with 1 Axes>"
      ]
     },
     "metadata": {
      "needs_background": "light"
     },
     "output_type": "display_data"
    }
   ],
   "source": [
    "# 1)Decision Tree model (max_depth=6) and check its class balance.\n",
    "tree = DecisionTreeClassifier(max_depth=6, random_state=12345)\n",
    "tree.fit(features_train, target_train)\n",
    "tree_valid = pd.Series(tree.predict(features_valid))\n",
    "tree_frequency = tree_valid.value_counts(normalize=range(0,1))\n",
    "print(\"Class Frequency - Decision Tree model\")\n",
    "print(tree_frequency)\n",
    "print()\n",
    "# Create a Confusion Matrix. Calculate Recall, Precision and F1 scores for the model\n",
    "print(\"Confusion Matrix:\\n\", confusion_matrix(target_valid, tree_valid))\n",
    "print()\n",
    "print(\"Accuracy Score:\", accuracy_score(target_valid, tree_valid))\n",
    "print(\"Recall Score:\", recall_score(target_valid, tree_valid))\n",
    "print(\"Precision Score:\", precision_score(target_valid, tree_valid))\n",
    "print(\"F1 Score:\", f1_score(target_valid, tree_valid))\n",
    "tree_frequency.plot(kind='bar', figsize=(3,3))"
   ]
  },
  {
   "cell_type": "code",
   "execution_count": 16,
   "metadata": {},
   "outputs": [
    {
     "name": "stdout",
     "output_type": "stream",
     "text": [
      "n_estimators = 1 : 0.7856\n",
      "n_estimators = 2 : 0.8216\n",
      "n_estimators = 3 : 0.8232\n",
      "n_estimators = 4 : 0.8364\n",
      "n_estimators = 5 : 0.8392\n",
      "n_estimators = 6 : 0.8408\n",
      "n_estimators = 7 : 0.8336\n",
      "n_estimators = 8 : 0.842\n",
      "n_estimators = 9 : 0.8416\n",
      "n_estimators = 10 : 0.8404\n",
      "\n",
      "Accuracy of the model on the training set: 0.9834666666666667\n",
      "Accuracy of the best model on the validation set: 0.842\n",
      "Best model on the validation set: RandomForestClassifier(n_estimators=8, random_state=12345)\n"
     ]
    }
   ],
   "source": [
    "# Evaluate the best hyperparameters for RandomForestClassifier\n",
    "# Define variables to store best_model and best_result\n",
    "best_model = None\n",
    "best_result = 0\n",
    "\n",
    "# Loop over max_depth values from 1 to 10\n",
    "for depth in range(1, 11):\n",
    "    model = RandomForestClassifier(\n",
    "        random_state=12345, n_estimators=depth\n",
    "    )\n",
    "    model.fit(features_train, target_train)\n",
    "    # Accuracy of model on training set\n",
    "    predictions_train = model.predict(features_train)\n",
    "    result_train = accuracy_score(target_train, predictions_train)\n",
    "    # Accuracy of model on validation set\n",
    "    predictions_valid = model.predict(features_valid)\n",
    "    result = accuracy_score(target_valid, predictions_valid)\n",
    "    print('n_estimators =', depth, ': ', end='')\n",
    "    print(result)\n",
    "    # save the model with the best accuracy on the training set\n",
    "    if result > best_result:\n",
    "        best_model = model\n",
    "        best_result = result\n",
    "print()\n",
    "print(\"Accuracy of the model on the training set:\", result_train)\n",
    "print(\"Accuracy of the best model on the validation set:\", best_result)\n",
    "print(\"Best model on the validation set:\", best_model)"
   ]
  },
  {
   "cell_type": "code",
   "execution_count": 17,
   "metadata": {},
   "outputs": [
    {
     "name": "stdout",
     "output_type": "stream",
     "text": [
      "Class Frequency - Random Forest model\n",
      "0    0.8792\n",
      "1    0.1208\n",
      "dtype: float64\n",
      "\n",
      "Confusion Matrix:\n",
      " [[1884   81]\n",
      " [ 314  221]]\n",
      "\n",
      "Accuracy Score: 0.842\n",
      "Recall Score: 0.4130841121495327\n",
      "Precision Score: 0.7317880794701986\n",
      "F1 Score: 0.5280764635603346\n"
     ]
    },
    {
     "data": {
      "text/plain": [
       "<AxesSubplot:>"
      ]
     },
     "execution_count": 17,
     "metadata": {},
     "output_type": "execute_result"
    },
    {
     "data": {
      "image/png": "[encoded data removed]",
      "text/plain": [
       "<Figure size 216x216 with 1 Axes>"
      ]
     },
     "metadata": {
      "needs_background": "light"
     },
     "output_type": "display_data"
    }
   ],
   "source": [
    "# 2)Random Forest model (n_estimators=8) and check its class balance.\n",
    "forest = RandomForestClassifier(n_estimators=8, random_state=12345)\n",
    "forest.fit(features_train, target_train)\n",
    "forest_valid = pd.Series(forest.predict(features_valid))\n",
    "forest_frequency = forest_valid.value_counts(normalize=range(0,1))\n",
    "print(\"Class Frequency - Random Forest model\")\n",
    "print(forest_frequency)\n",
    "print()\n",
    "# Create a Confusion Matrix. Calculate Recall, Precision and F1 scores for the model\n",
    "print(\"Confusion Matrix:\\n\", confusion_matrix(target_valid, forest_valid))\n",
    "print()\n",
    "print(\"Accuracy Score:\", accuracy_score(target_valid, forest_valid))\n",
    "print(\"Recall Score:\", recall_score(target_valid, forest_valid))\n",
    "print(\"Precision Score:\", precision_score(target_valid, forest_valid))\n",
    "print(\"F1 Score:\", f1_score(target_valid, forest_valid))\n",
    "forest_frequency.plot(kind='bar', figsize=(3,3))"
   ]
  },
  {
   "cell_type": "code",
   "execution_count": 18,
   "metadata": {},
   "outputs": [
    {
     "name": "stdout",
     "output_type": "stream",
     "text": [
      "Class Frequency - Logistic Regression model\n",
      "0    0.9272\n",
      "1    0.0728\n",
      "dtype: float64\n",
      "\n",
      "Confusion Matrix:\n",
      " [[1890   75]\n",
      " [ 428  107]]\n",
      "\n",
      "Accuracy Score: 0.7988\n",
      "Recall Score: 0.2\n",
      "Precision Score: 0.5879120879120879\n",
      "F1 Score: 0.298465829846583\n"
     ]
    },
    {
     "data": {
      "text/plain": [
       "<AxesSubplot:>"
      ]
     },
     "execution_count": 18,
     "metadata": {},
     "output_type": "execute_result"
    },
    {
     "data": {
      "image/png": "[encoded data removed]",
      "text/plain": [
       "<Figure size 216x216 with 1 Axes>"
      ]
     },
     "metadata": {
      "needs_background": "light"
     },
     "output_type": "display_data"
    }
   ],
   "source": [
    "# 3) Logistic Regression model (solver='liblinear') and check its class balance.\n",
    "logreg = LogisticRegression(solver='liblinear', random_state=12345)\n",
    "logreg.fit(features_train, target_train)\n",
    "logreg_valid = pd.Series(logreg.predict(features_valid))\n",
    "logreg_frequency = logreg_valid.value_counts(normalize=range(0,1))\n",
    "print(\"Class Frequency - Logistic Regression model\")\n",
    "print(logreg_frequency)\n",
    "print()\n",
    "# Create a Confusion Matrix. Calculate Recall, Precision and F1 scores for the model\n",
    "print(\"Confusion Matrix:\\n\", confusion_matrix(target_valid, logreg_valid))\n",
    "print()\n",
    "print(\"Accuracy Score:\", accuracy_score(target_valid, logreg_valid))\n",
    "print(\"Recall Score:\", recall_score(target_valid, logreg_valid))\n",
    "print(\"Precision Score:\", precision_score(target_valid, logreg_valid))\n",
    "print(\"F1 Score:\", f1_score(target_valid, logreg_valid))\n",
    "logreg_frequency.plot(kind='bar', figsize=(3,3))"
   ]
  },
  {
   "cell_type": "markdown",
   "metadata": {},
   "source": [
    "In all models we see a strong **Class Imbalance** that negatively affects their performance. The strong imbalance towards class 0 will make the models take a biased response in their predictions. This is reflected in the fact that, even thought **Accuracy** is relatively high in all models, they also present low **Recall**, **Precision** and **F1 scores**. After pre-processing the data for Machine Learning, we see that the poor performance of our models comes from the Class Imbalance in the data. We must correct this imbalance to improve performance."
   ]
  },
  {
   "cell_type": "markdown",
   "metadata": {},
   "source": [
    "## Correct Class Imbalance in the models"
   ]
  },
  {
   "cell_type": "markdown",
   "metadata": {},
   "source": [
    "We will use several methods to correct Class Imbalance:<br>\n",
    "**1) Using the class_weight='balanced' parameter in the models**"
   ]
  },
  {
   "cell_type": "code",
   "execution_count": 19,
   "metadata": {},
   "outputs": [
    {
     "name": "stdout",
     "output_type": "stream",
     "text": [
      "Class Frequency - Decision Tree model (balanced)\n",
      "0    0.6584\n",
      "1    0.3416\n",
      "dtype: float64\n",
      "\n",
      "Confusion Matrix:\n",
      " [[1520  445]\n",
      " [ 126  409]]\n",
      "\n",
      "Accuracy Score: 0.7716\n",
      "Recall Score: 0.7644859813084112\n",
      "Precision Score: 0.47892271662763464\n",
      "F1 Score: 0.5889128869690424\n"
     ]
    },
    {
     "data": {
      "text/plain": [
       "<AxesSubplot:>"
      ]
     },
     "execution_count": 19,
     "metadata": {},
     "output_type": "execute_result"
    },
    {
     "data": {
      "image/png": "[encoded data removed]",
      "text/plain": [
       "<Figure size 216x216 with 1 Axes>"
      ]
     },
     "metadata": {
      "needs_background": "light"
     },
     "output_type": "display_data"
    }
   ],
   "source": [
    "# 1)Decision Tree model (max_depth=6, class_weight='balanced') and check its class balance.\n",
    "tree = DecisionTreeClassifier(max_depth=6, class_weight='balanced', random_state=12345)\n",
    "tree.fit(features_train, target_train)\n",
    "tree_valid = pd.Series(tree.predict(features_valid))\n",
    "tree_frequency = tree_valid.value_counts(normalize=range(0,1))\n",
    "print(\"Class Frequency - Decision Tree model (balanced)\")\n",
    "print(tree_frequency)\n",
    "print()\n",
    "# Create a Confusion Matrix. Calculate Recall, Precision and F1 scores for the model\n",
    "print(\"Confusion Matrix:\\n\", confusion_matrix(target_valid, tree_valid))\n",
    "print()\n",
    "print(\"Accuracy Score:\", accuracy_score(target_valid, tree_valid))\n",
    "print(\"Recall Score:\", recall_score(target_valid, tree_valid))\n",
    "print(\"Precision Score:\", precision_score(target_valid, tree_valid))\n",
    "print(\"F1 Score:\", f1_score(target_valid, tree_valid))\n",
    "tree_frequency.plot(kind='bar', figsize=(3,3))"
   ]
  },
  {
   "cell_type": "code",
   "execution_count": 20,
   "metadata": {},
   "outputs": [
    {
     "name": "stdout",
     "output_type": "stream",
     "text": [
      "Class Frequency - Random Forest model (balanced)\n",
      "0    0.9008\n",
      "1    0.0992\n",
      "dtype: float64\n",
      "\n",
      "Confusion Matrix:\n",
      " [[1904   61]\n",
      " [ 348  187]]\n",
      "\n",
      "Accuracy Score: 0.8364\n",
      "Recall Score: 0.34953271028037386\n",
      "Precision Score: 0.7540322580645161\n",
      "F1 Score: 0.4776500638569604\n"
     ]
    },
    {
     "data": {
      "text/plain": [
       "<AxesSubplot:>"
      ]
     },
     "execution_count": 20,
     "metadata": {},
     "output_type": "execute_result"
    },
    {
     "data": {
      "image/png": "[encoded data removed]",
      "text/plain": [
       "<Figure size 216x216 with 1 Axes>"
      ]
     },
     "metadata": {
      "needs_background": "light"
     },
     "output_type": "display_data"
    }
   ],
   "source": [
    "# 2)Random Forest model (n_estimators=8, class_weight='balanced') and check its class balance.\n",
    "forest = RandomForestClassifier(n_estimators=8, class_weight='balanced', random_state=12345)\n",
    "forest.fit(features_train, target_train)\n",
    "forest_valid = pd.Series(forest.predict(features_valid))\n",
    "forest_frequency = forest_valid.value_counts(normalize=range(0,1))\n",
    "print(\"Class Frequency - Random Forest model (balanced)\")\n",
    "print(forest_frequency)\n",
    "print()\n",
    "# Create a Confusion Matrix. Calculate Recall, Precision and F1 scores for the model\n",
    "print(\"Confusion Matrix:\\n\", confusion_matrix(target_valid, forest_valid))\n",
    "print()\n",
    "print(\"Accuracy Score:\", accuracy_score(target_valid, forest_valid))\n",
    "print(\"Recall Score:\", recall_score(target_valid, forest_valid))\n",
    "print(\"Precision Score:\", precision_score(target_valid, forest_valid))\n",
    "print(\"F1 Score:\", f1_score(target_valid, forest_valid))\n",
    "forest_frequency.plot(kind='bar', figsize=(3,3))"
   ]
  },
  {
   "cell_type": "code",
   "execution_count": 21,
   "metadata": {},
   "outputs": [
    {
     "name": "stdout",
     "output_type": "stream",
     "text": [
      "Class Frequency - Logistic Regression model (balanced)\n",
      "0    0.6216\n",
      "1    0.3784\n",
      "dtype: float64\n",
      "\n",
      "Confusion Matrix:\n",
      " [[1395  570]\n",
      " [ 159  376]]\n",
      "\n",
      "Accuracy Score: 0.7084\n",
      "Recall Score: 0.702803738317757\n",
      "Precision Score: 0.3974630021141649\n",
      "F1 Score: 0.5077650236326806\n"
     ]
    },
    {
     "data": {
      "text/plain": [
       "<AxesSubplot:>"
      ]
     },
     "execution_count": 21,
     "metadata": {},
     "output_type": "execute_result"
    },
    {
     "data": {
      "image/png": "[encoded data removed]",
      "text/plain": [
       "<Figure size 216x216 with 1 Axes>"
      ]
     },
     "metadata": {
      "needs_background": "light"
     },
     "output_type": "display_data"
    }
   ],
   "source": [
    "# 2) Logistic Regression model (solver='liblinear', class_weight='balanced') and check its class balance.\n",
    "logreg = LogisticRegression(solver='liblinear', class_weight='balanced', random_state=12345)\n",
    "logreg.fit(features_train, target_train)\n",
    "logreg_valid = pd.Series(logreg.predict(features_valid))\n",
    "logreg_frequency = logreg_valid.value_counts(normalize=range(0,1))\n",
    "print(\"Class Frequency - Logistic Regression model (balanced)\")\n",
    "print(logreg_frequency)\n",
    "print()\n",
    "# Create a Confusion Matrix. Calculate Recall, Precision and F1 scores for the model\n",
    "print(\"Confusion Matrix:\\n\", confusion_matrix(target_valid, logreg_valid))\n",
    "print()\n",
    "print(\"Accuracy Score:\", accuracy_score(target_valid, logreg_valid))\n",
    "print(\"Recall Score:\", recall_score(target_valid, logreg_valid))\n",
    "print(\"Precision Score:\", precision_score(target_valid, logreg_valid))\n",
    "print(\"F1 Score:\", f1_score(target_valid, logreg_valid))\n",
    "logreg_frequency.plot(kind='bar', figsize=(3,3))"
   ]
  },
  {
   "cell_type": "markdown",
   "metadata": {},
   "source": [
    "Using the parameter **class_weight='balanced'** we slightly improved the F1 Score performance in both Decision Tree and Logistic Regression models.<br>\n",
    "On the other hand, the F1 Score performance decreased on the Random Forest model.<br>\n",
    "\n",
    "**Decision Tree**<br>\n",
    "Accuracy Score: 0.85 to 0.77<br>\n",
    "Recall Score: 0.41 to 0.76<br>\n",
    "Precision Score: 0.81 to 0.48<br>\n",
    "F1 Score: 0.55 to 0.59<br>\n",
    "\n",
    "**Random Forest**<br>\n",
    "Accuracy Score: 0.84 to 0.84<br>\n",
    "Recall Score: 0.41 to 0.35<br>\n",
    "Precision Score: 0.73 to 0.75<br>\n",
    "F1 Score: 0.53 to 0.48<br>\n",
    "\n",
    "**Logistic Regression**<br>\n",
    "Accuracy Score: 0.80 to 0.71<br>\n",
    "Recall Score: 0.20 to 0.70<br>\n",
    "Precision Score: 0.59 to 0.40<br>\n",
    "F1 Score: 0.30 to 0.51<br>\n",
    "\n",
    "An improvement of the F1 Score reflects a better balance between Recall and Precision. This is the case for the Decision Tree and Logistic Regression models: Recall sharply improved in both models, while Precision diminished.<br>\n",
    "The opposite is true for the Random Forest model: Recall diminished, while Precision improved.<br>\n",
    "Based on these results, we conclude that the parameter *class_weight='balanced'* should be used on Decision Tree and Logistic Regression, but not in Random Forest.<br>\n",
    "Even thought we see an improvement on the F1 scores, these are still too low to be accepted."
   ]
  },
  {
   "cell_type": "markdown",
   "metadata": {},
   "source": [
    "**2) Upsampling the training datasets**<br>\n",
    "We will create a function to upsample and shuffle the training datasets, then train the models and evaluate their performance."
   ]
  },
  {
   "cell_type": "code",
   "execution_count": 22,
   "metadata": {},
   "outputs": [],
   "source": [
    "# Create a function to Upsample values in the trainings datasets\n",
    "def upsample(features, target, repeat):\n",
    "    features_zeros = features[target == 0]\n",
    "    features_ones = features[target == 1]\n",
    "    target_zeros = target[target == 0]\n",
    "    target_ones = target[target == 1]\n",
    "\n",
    "    features_upsampled = pd.concat([features_zeros] + [features_ones] * repeat)\n",
    "    target_upsampled = pd.concat([target_zeros] + [target_ones] * repeat)\n",
    "\n",
    "    features_upsampled, target_upsampled = shuffle(\n",
    "        features_upsampled, target_upsampled, random_state=12345\n",
    "    )\n",
    "\n",
    "    return features_upsampled, target_upsampled\n",
    "\n",
    "\n",
    "features_upsampled, target_upsampled = upsample(\n",
    "    features_train, target_train, 10\n",
    ")"
   ]
  },
  {
   "cell_type": "code",
   "execution_count": 23,
   "metadata": {},
   "outputs": [
    {
     "name": "stdout",
     "output_type": "stream",
     "text": [
      "Class Frequency - Decision Tree model (upsampled)\n",
      "1    0.5712\n",
      "0    0.4288\n",
      "dtype: float64\n",
      "\n",
      "Confusion Matrix:\n",
      " [[1019  946]\n",
      " [  53  482]]\n",
      "\n",
      "Accuracy Score: 0.6004\n",
      "Recall Score: 0.9009345794392524\n",
      "Precision Score: 0.33753501400560226\n",
      "F1 Score: 0.49108507386653083\n"
     ]
    },
    {
     "data": {
      "text/plain": [
       "<AxesSubplot:>"
      ]
     },
     "execution_count": 23,
     "metadata": {},
     "output_type": "execute_result"
    },
    {
     "data": {
      "image/png": "[encoded data removed]",
      "text/plain": [
       "<Figure size 216x216 with 1 Axes>"
      ]
     },
     "metadata": {
      "needs_background": "light"
     },
     "output_type": "display_data"
    }
   ],
   "source": [
    "# 1)Decision Tree model (max_depth=6), train with upsampled dataset and check its class balance.\n",
    "tree = DecisionTreeClassifier(max_depth=6, random_state=12345)\n",
    "tree.fit(features_upsampled, target_upsampled)\n",
    "tree_valid = pd.Series(tree.predict(features_valid))\n",
    "tree_frequency = tree_valid.value_counts(normalize=range(0,1))\n",
    "print(\"Class Frequency - Decision Tree model (upsampled)\")\n",
    "print(tree_frequency)\n",
    "print()\n",
    "# Create a Confusion Matrix. Calculate Recall, Precision and F1 scores for the model\n",
    "print(\"Confusion Matrix:\\n\", confusion_matrix(target_valid, tree_valid))\n",
    "print()\n",
    "print(\"Accuracy Score:\", accuracy_score(target_valid, tree_valid))\n",
    "print(\"Recall Score:\", recall_score(target_valid, tree_valid))\n",
    "print(\"Precision Score:\", precision_score(target_valid, tree_valid))\n",
    "print(\"F1 Score:\", f1_score(target_valid, tree_valid))\n",
    "tree_frequency.plot(kind='bar', figsize=(3,3))"
   ]
  },
  {
   "cell_type": "code",
   "execution_count": 24,
   "metadata": {},
   "outputs": [
    {
     "name": "stdout",
     "output_type": "stream",
     "text": [
      "Class Frequency - Random Forest model (upsampled)\n",
      "0    0.8472\n",
      "1    0.1528\n",
      "dtype: float64\n",
      "\n",
      "Confusion Matrix:\n",
      " [[1835  130]\n",
      " [ 283  252]]\n",
      "\n",
      "Accuracy Score: 0.8348\n",
      "Recall Score: 0.47102803738317756\n",
      "Precision Score: 0.6596858638743456\n",
      "F1 Score: 0.549618320610687\n"
     ]
    },
    {
     "data": {
      "text/plain": [
       "<AxesSubplot:>"
      ]
     },
     "execution_count": 24,
     "metadata": {},
     "output_type": "execute_result"
    },
    {
     "data": {
      "image/png": "[encoded data removed]",
      "text/plain": [
       "<Figure size 216x216 with 1 Axes>"
      ]
     },
     "metadata": {
      "needs_background": "light"
     },
     "output_type": "display_data"
    }
   ],
   "source": [
    "# 2)Random Forest model (n_estimators=8), train with upsampled dataset and check its class balance.\n",
    "forest = RandomForestClassifier(n_estimators=8, random_state=12345)\n",
    "forest.fit(features_upsampled, target_upsampled)\n",
    "forest_valid = pd.Series(forest.predict(features_valid))\n",
    "forest_frequency = forest_valid.value_counts(normalize=range(0,1))\n",
    "print(\"Class Frequency - Random Forest model (upsampled)\")\n",
    "print(forest_frequency)\n",
    "print()\n",
    "# Create a Confusion Matrix. Calculate Recall, Precision and F1 scores for the model\n",
    "print(\"Confusion Matrix:\\n\", confusion_matrix(target_valid, forest_valid))\n",
    "print()\n",
    "print(\"Accuracy Score:\", accuracy_score(target_valid, forest_valid))\n",
    "print(\"Recall Score:\", recall_score(target_valid, forest_valid))\n",
    "print(\"Precision Score:\", precision_score(target_valid, forest_valid))\n",
    "print(\"F1 Score:\", f1_score(target_valid, forest_valid))\n",
    "forest_frequency.plot(kind='bar', figsize=(3,3))"
   ]
  },
  {
   "cell_type": "code",
   "execution_count": 25,
   "metadata": {},
   "outputs": [
    {
     "name": "stdout",
     "output_type": "stream",
     "text": [
      "Class Frequency - Logistic Regression model (upsampled)\n",
      "1    0.7036\n",
      "0    0.2964\n",
      "dtype: float64\n",
      "\n",
      "Confusion Matrix:\n",
      " [[ 700 1265]\n",
      " [  41  494]]\n",
      "\n",
      "Accuracy Score: 0.4776\n",
      "Recall Score: 0.9233644859813084\n",
      "Precision Score: 0.2808413871517908\n",
      "F1 Score: 0.4306887532693985\n"
     ]
    },
    {
     "data": {
      "text/plain": [
       "<AxesSubplot:>"
      ]
     },
     "execution_count": 25,
     "metadata": {},
     "output_type": "execute_result"
    },
    {
     "data": {
      "image/png": "[encoded data removed]",
      "text/plain": [
       "<Figure size 216x216 with 1 Axes>"
      ]
     },
     "metadata": {
      "needs_background": "light"
     },
     "output_type": "display_data"
    }
   ],
   "source": [
    "# 3) Logistic Regression model (solver='liblinear'), train with upsampled dataset and check its class balance.\n",
    "logreg = LogisticRegression(solver='liblinear', random_state=12345)\n",
    "logreg.fit(features_upsampled, target_upsampled)\n",
    "logreg_valid = pd.Series(logreg.predict(features_valid))\n",
    "logreg_frequency = logreg_valid.value_counts(normalize=range(0,1))\n",
    "print(\"Class Frequency - Logistic Regression model (upsampled)\")\n",
    "print(logreg_frequency)\n",
    "print()\n",
    "# Create a Confusion Matrix. Calculate Recall, Precision and F1 scores for the model\n",
    "print(\"Confusion Matrix:\\n\", confusion_matrix(target_valid, logreg_valid))\n",
    "print()\n",
    "print(\"Accuracy Score:\", accuracy_score(target_valid, logreg_valid))\n",
    "print(\"Recall Score:\", recall_score(target_valid, logreg_valid))\n",
    "print(\"Precision Score:\", precision_score(target_valid, logreg_valid))\n",
    "print(\"F1 Score:\", f1_score(target_valid, logreg_valid))\n",
    "logreg_frequency.plot(kind='bar', figsize=(3,3))"
   ]
  },
  {
   "cell_type": "markdown",
   "metadata": {},
   "source": [
    "**Upsampling** the training datasets slightly decreased the F1 Score performance in the Decision Tree model, but it increased the performance in the Logistic Regression and Random Forest models.<br>\n",
    "\n",
    "**Decision Tree**<br>\n",
    "Accuracy Score: 0.85 to 0.60<br>\n",
    "Recall Score: 0.41 to 0.90<br>\n",
    "Precision Score: 0.81 to 0.34<br>\n",
    "F1 Score: 0.55 to 0.49<br>\n",
    "\n",
    "**Random Forest**<br>\n",
    "Accuracy Score: 0.84 to 0.83<br>\n",
    "Recall Score: 0.41 to 0.47<br>\n",
    "Precision Score: 0.73 to 0.66<br>\n",
    "F1 Score: 0.53 to 0.55<br>\n",
    "\n",
    "**Logistic Regression**<br>\n",
    "Accuracy Score: 0.80 to 0.48<br>\n",
    "Recall Score: 0.20 to 0.92<br>\n",
    "Precision Score: 0.59 to 0.28<br>\n",
    "F1 Score: 0.30 to 0.43<br>\n",
    "\n",
    "Based on these results, we conclude that the *Upsampled* training sets should be used in the Logistic Regression and Random Forest models,<br>\n",
    "but not on the Decision Tree model."
   ]
  },
  {
   "cell_type": "markdown",
   "metadata": {},
   "source": [
    "**3) Downsampling the training datasets**<br>\n",
    "We will create a function to downsample and shuffle the training datasets, then train the models and evaluate their performance."
   ]
  },
  {
   "cell_type": "code",
   "execution_count": 26,
   "metadata": {},
   "outputs": [],
   "source": [
    "# Create a function to Downsample the values in the training datasets:\n",
    "def downsample(features, target, fraction):\n",
    "    features_zeros = features[target == 0]\n",
    "    features_ones = features[target == 1]\n",
    "    target_zeros = target[target == 0]\n",
    "    target_ones = target[target == 1]\n",
    "\n",
    "    features_downsampled = pd.concat(\n",
    "        [features_zeros.sample(frac=fraction, random_state=12345)]\n",
    "        + [features_ones]\n",
    "    )\n",
    "    target_downsampled = pd.concat(\n",
    "        [target_zeros.sample(frac=fraction, random_state=12345)]\n",
    "        + [target_ones]\n",
    "    )\n",
    "\n",
    "    features_downsampled, target_downsampled = shuffle(\n",
    "        features_downsampled, target_downsampled, random_state=12345\n",
    "    )\n",
    "\n",
    "    return features_downsampled, target_downsampled\n",
    "\n",
    "\n",
    "features_downsampled, target_downsampled = downsample(\n",
    "    features_train, target_train, 0.1\n",
    ")"
   ]
  },
  {
   "cell_type": "code",
   "execution_count": 27,
   "metadata": {},
   "outputs": [
    {
     "name": "stdout",
     "output_type": "stream",
     "text": [
      "Class Frequency - Decision Tree model (downsampled)\n",
      "1    0.5712\n",
      "0    0.4288\n",
      "dtype: float64\n",
      "\n",
      "Confusion Matrix:\n",
      " [[1014  951]\n",
      " [  58  477]]\n",
      "\n",
      "Accuracy Score: 0.5964\n",
      "Recall Score: 0.891588785046729\n",
      "Precision Score: 0.33403361344537813\n",
      "F1 Score: 0.4859908303616913\n"
     ]
    },
    {
     "data": {
      "text/plain": [
       "<AxesSubplot:>"
      ]
     },
     "execution_count": 27,
     "metadata": {},
     "output_type": "execute_result"
    },
    {
     "data": {
      "image/png": "[encoded data removed]",
      "text/plain": [
       "<Figure size 216x216 with 1 Axes>"
      ]
     },
     "metadata": {
      "needs_background": "light"
     },
     "output_type": "display_data"
    }
   ],
   "source": [
    "# 1)Decision Tree model (max_depth=6), train with downsampled dataset and check its class balance.\n",
    "tree = DecisionTreeClassifier(max_depth=6, random_state=12345)\n",
    "tree.fit(features_downsampled, target_downsampled)\n",
    "tree_valid = pd.Series(tree.predict(features_valid))\n",
    "tree_frequency = tree_valid.value_counts(normalize=range(0,1))\n",
    "print(\"Class Frequency - Decision Tree model (downsampled)\")\n",
    "print(tree_frequency)\n",
    "print()\n",
    "# Create a Confusion Matrix. Calculate Recall, Precision and F1 scores for the model\n",
    "print(\"Confusion Matrix:\\n\", confusion_matrix(target_valid, tree_valid))\n",
    "print()\n",
    "print(\"Accuracy Score:\", accuracy_score(target_valid, tree_valid))\n",
    "print(\"Recall Score:\", recall_score(target_valid, tree_valid))\n",
    "print(\"Precision Score:\", precision_score(target_valid, tree_valid))\n",
    "print(\"F1 Score:\", f1_score(target_valid, tree_valid))\n",
    "tree_frequency.plot(kind='bar', figsize=(3,3))"
   ]
  },
  {
   "cell_type": "code",
   "execution_count": 28,
   "metadata": {},
   "outputs": [
    {
     "name": "stdout",
     "output_type": "stream",
     "text": [
      "Class Frequency - Random Forest model (downsampled)\n",
      "1    0.51\n",
      "0    0.49\n",
      "dtype: float64\n",
      "\n",
      "Confusion Matrix:\n",
      " [[1151  814]\n",
      " [  74  461]]\n",
      "\n",
      "Accuracy Score: 0.6448\n",
      "Recall Score: 0.8616822429906542\n",
      "Precision Score: 0.3615686274509804\n",
      "F1 Score: 0.5093922651933702\n"
     ]
    },
    {
     "data": {
      "text/plain": [
       "<AxesSubplot:>"
      ]
     },
     "execution_count": 28,
     "metadata": {},
     "output_type": "execute_result"
    },
    {
     "data": {
      "image/png": "[encoded data removed]",
      "text/plain": [
       "<Figure size 216x216 with 1 Axes>"
      ]
     },
     "metadata": {
      "needs_background": "light"
     },
     "output_type": "display_data"
    }
   ],
   "source": [
    "# 2)Random Forest model (n_estimators=8), train with downsampled dataset and check its class balance.\n",
    "forest = RandomForestClassifier(n_estimators=8, random_state=12345)\n",
    "forest.fit(features_downsampled, target_downsampled)\n",
    "forest_valid = pd.Series(forest.predict(features_valid))\n",
    "forest_frequency = forest_valid.value_counts(normalize=range(0,1))\n",
    "print(\"Class Frequency - Random Forest model (downsampled)\")\n",
    "print(forest_frequency)\n",
    "print()\n",
    "# Create a Confusion Matrix. Calculate Recall, Precision and F1 scores for the model\n",
    "print(\"Confusion Matrix:\\n\", confusion_matrix(target_valid, forest_valid))\n",
    "print()\n",
    "print(\"Accuracy Score:\", accuracy_score(target_valid, forest_valid))\n",
    "print(\"Recall Score:\", recall_score(target_valid, forest_valid))\n",
    "print(\"Precision Score:\", precision_score(target_valid, forest_valid))\n",
    "print(\"F1 Score:\", f1_score(target_valid, forest_valid))\n",
    "forest_frequency.plot(kind='bar', figsize=(3,3))"
   ]
  },
  {
   "cell_type": "code",
   "execution_count": 29,
   "metadata": {},
   "outputs": [
    {
     "name": "stdout",
     "output_type": "stream",
     "text": [
      "Class Frequency - Logistic Regression model (downsampled)\n",
      "1    0.6904\n",
      "0    0.3096\n",
      "dtype: float64\n",
      "\n",
      "Confusion Matrix:\n",
      " [[ 728 1237]\n",
      " [  46  489]]\n",
      "\n",
      "Accuracy Score: 0.4868\n",
      "Recall Score: 0.914018691588785\n",
      "Precision Score: 0.2833140208574739\n",
      "F1 Score: 0.43255196815568336\n"
     ]
    },
    {
     "data": {
      "text/plain": [
       "<AxesSubplot:>"
      ]
     },
     "execution_count": 29,
     "metadata": {},
     "output_type": "execute_result"
    },
    {
     "data": {
      "image/png": "[encoded data removed]",
      "text/plain": [
       "<Figure size 216x216 with 1 Axes>"
      ]
     },
     "metadata": {
      "needs_background": "light"
     },
     "output_type": "display_data"
    }
   ],
   "source": [
    "# 2) Logistic Regression model (solver='liblinear') and check its class balance.\n",
    "logreg = LogisticRegression(solver='liblinear', random_state=12345)\n",
    "logreg.fit(features_downsampled, target_downsampled)\n",
    "logreg_valid = pd.Series(logreg.predict(features_valid))\n",
    "logreg_frequency = logreg_valid.value_counts(normalize=range(0,1))\n",
    "print(\"Class Frequency - Logistic Regression model (downsampled)\")\n",
    "print(logreg_frequency)\n",
    "print()\n",
    "# Create a Confusion Matrix. Calculate Recall, Precision and F1 scores for the model\n",
    "print(\"Confusion Matrix:\\n\", confusion_matrix(target_valid, logreg_valid))\n",
    "print()\n",
    "print(\"Accuracy Score:\", accuracy_score(target_valid, logreg_valid))\n",
    "print(\"Recall Score:\", recall_score(target_valid, logreg_valid))\n",
    "print(\"Precision Score:\", precision_score(target_valid, logreg_valid))\n",
    "print(\"F1 Score:\", f1_score(target_valid, logreg_valid))\n",
    "logreg_frequency.plot(kind='bar', figsize=(3,3))"
   ]
  },
  {
   "cell_type": "markdown",
   "metadata": {},
   "source": [
    "**Downsampling** the training datasets slightly decreased the F1 Score performance in the Decision Tree and Random Forest models, but it increased the performance in Logistic Regression. In fact, the Logistic Regression model seems to benefit almost identically from using the upsampled or downsampled sets.<br>\n",
    "\n",
    "**Decision Tree**<br>\n",
    "Accuracy Score: 0.85 to 0.60<br>\n",
    "Recall Score: 0.41 to 0.89<br>\n",
    "Precision Score: 0.81 to 0.33<br>\n",
    "F1 Score: 0.55 to 0.49<br>\n",
    "\n",
    "**Random Forest**<br>\n",
    "Accuracy Score: 0.84 to 0.64<br>\n",
    "Recall Score: 0.41 to 0.86<br>\n",
    "Precision Score: 0.73 to 0.36<br>\n",
    "F1 Score: 0.53 to 0.51<br>\n",
    "\n",
    "**Logistic Regression**<br>\n",
    "Accuracy Score: 0.80 to 0.49<br>\n",
    "Recall Score: 0.20 to 0.91<br>\n",
    "Precision Score: 0.59 to 0.28<br>\n",
    "F1 Score: 0.30 to 0.43<br>\n",
    "\n",
    "Based on these results, we could conclude that the *Downsampled* training sets should be used only on the Logistic Regression model, and not on the Decision Tree and Random Forest models.<br> \n",
    "However, an interesting result is that the Random Forest model presents a remarkably balanced class frequency when trained with the downsampled datasets.<br>\n",
    "***Class Frequency - Random Forest model (downsampled)<br> \n",
    "1 - 0.51<br> \n",
    "0 - 0.49***<br> \n",
    "For this reason, it's worth considering using the downsampled set for the Random Forest model to optimize its performance."
   ]
  },
  {
   "cell_type": "markdown",
   "metadata": {},
   "source": [
    "## Optimizing the models\n",
    "After applying the **class_weight='balanced'** parameter and **Upsampling/Downsampling** the training sets, we can conclude that:<br> \n",
    "• the **Decision Tree** model will show the best performance by using only the class_weight='balanced' parameter<br> \n",
    "• the **Random Forest** model will show the best performance either by using the upsampled or downsampled training sets.<br>\n",
    "• the **Logistic Regression** model will benefit from using the class_weight='balanced' parameter, and working with either the upsampled or downsampled datasets.<br><br>\n",
    "\n",
    "For this reason we will test five optimized models and evaluate their metrics in detail:<br>\n",
    "1) Optimized Decision Tree model (class_weight='balanced')<br>\n",
    "2) Optimized Random Forest model (upsampled)<br>\n",
    "3) Optimized Random Forest model (downsampled)<br>\n",
    "4) Optimized Logistic Regression (class_weight='balanced', upsampled)<br>\n",
    "5) Optimized Logistic Regression (class_weight='balanced', downsampled)<br>"
   ]
  },
  {
   "cell_type": "code",
   "execution_count": 30,
   "metadata": {},
   "outputs": [
    {
     "name": "stdout",
     "output_type": "stream",
     "text": [
      "Classification Report - Decision Tree model (optimized)\n",
      "              precision    recall  f1-score   support\n",
      "\n",
      "           0       0.92      0.77      0.84      1965\n",
      "           1       0.48      0.76      0.59       535\n",
      "\n",
      "    accuracy                           0.77      2500\n",
      "   macro avg       0.70      0.77      0.72      2500\n",
      "weighted avg       0.83      0.77      0.79      2500\n",
      "\n"
     ]
    }
   ],
   "source": [
    "# Optimized Decision Tree model (class_weight='balanced')\n",
    "tree = DecisionTreeClassifier(max_depth=6, class_weight='balanced', random_state=12345)\n",
    "tree.fit(features_train, target_train)\n",
    "tree_valid = tree.predict(features_valid)\n",
    "# Create a Classification Report\n",
    "print(\"Classification Report - Decision Tree model (optimized)\")\n",
    "print(classification_report(target_valid, tree_valid))"
   ]
  },
  {
   "cell_type": "code",
   "execution_count": 31,
   "metadata": {},
   "outputs": [
    {
     "name": "stdout",
     "output_type": "stream",
     "text": [
      "Classification Report - Random Forest model (upsampled)\n",
      "              precision    recall  f1-score   support\n",
      "\n",
      "           0       0.87      0.93      0.90      1965\n",
      "           1       0.66      0.47      0.55       535\n",
      "\n",
      "    accuracy                           0.83      2500\n",
      "   macro avg       0.76      0.70      0.72      2500\n",
      "weighted avg       0.82      0.83      0.82      2500\n",
      "\n"
     ]
    }
   ],
   "source": [
    "# Optimized Random Forest model (upsampled)\n",
    "forest_up = RandomForestClassifier(n_estimators=8, random_state=12345)\n",
    "forest_up.fit(features_upsampled, target_upsampled)\n",
    "forest_up_valid = forest_up.predict(features_valid)\n",
    "# Create a Classification Report\n",
    "print(\"Classification Report - Random Forest model (upsampled)\")\n",
    "print(classification_report(target_valid, forest_up_valid))"
   ]
  },
  {
   "cell_type": "code",
   "execution_count": 32,
   "metadata": {},
   "outputs": [
    {
     "name": "stdout",
     "output_type": "stream",
     "text": [
      "Classification Report - Random Forest model (downsampled)\n",
      "              precision    recall  f1-score   support\n",
      "\n",
      "           0       0.94      0.59      0.72      1965\n",
      "           1       0.36      0.86      0.51       535\n",
      "\n",
      "    accuracy                           0.64      2500\n",
      "   macro avg       0.65      0.72      0.62      2500\n",
      "weighted avg       0.82      0.64      0.68      2500\n",
      "\n"
     ]
    }
   ],
   "source": [
    "# Optimized Random Forest model (downsampled)\n",
    "forest_down = RandomForestClassifier(n_estimators=8, random_state=12345)\n",
    "forest_down.fit(features_downsampled, target_downsampled)\n",
    "forest_down_valid = forest_down.predict(features_valid)\n",
    "# Create a Classification Report\n",
    "print(\"Classification Report - Random Forest model (downsampled)\")\n",
    "print(classification_report(target_valid, forest_down_valid))"
   ]
  },
  {
   "cell_type": "code",
   "execution_count": 33,
   "metadata": {},
   "outputs": [
    {
     "name": "stdout",
     "output_type": "stream",
     "text": [
      "Classification Report - Logistic Regression (class_weight='balanced', upsampled)\n",
      "              precision    recall  f1-score   support\n",
      "\n",
      "           0       0.90      0.71      0.79      1965\n",
      "           1       0.40      0.70      0.51       535\n",
      "\n",
      "    accuracy                           0.71      2500\n",
      "   macro avg       0.65      0.71      0.65      2500\n",
      "weighted avg       0.79      0.71      0.73      2500\n",
      "\n"
     ]
    }
   ],
   "source": [
    "# Optimized Logistic Regression (class_weight='balanced', upsampled)\n",
    "logreg_up = LogisticRegression(solver='liblinear', class_weight='balanced', random_state=12345)\n",
    "logreg_up.fit(features_upsampled, target_upsampled)\n",
    "logreg_up_valid = logreg_up.predict(features_valid)\n",
    "# Create a Classification Report\n",
    "print(\"Classification Report - Logistic Regression (class_weight='balanced', upsampled)\")\n",
    "print(classification_report(target_valid, logreg_up_valid))"
   ]
  },
  {
   "cell_type": "code",
   "execution_count": 34,
   "metadata": {},
   "outputs": [
    {
     "name": "stdout",
     "output_type": "stream",
     "text": [
      "Classification Report - Logistic Regression (class_weight='balanced', downsampled)\n",
      "              precision    recall  f1-score   support\n",
      "\n",
      "           0       0.90      0.70      0.79      1965\n",
      "           1       0.40      0.72      0.51       535\n",
      "\n",
      "    accuracy                           0.71      2500\n",
      "   macro avg       0.65      0.71      0.65      2500\n",
      "weighted avg       0.79      0.71      0.73      2500\n",
      "\n"
     ]
    }
   ],
   "source": [
    "# Optimized Logistic Regression (class_weight='balanced', downsampled)\n",
    "logreg_down = LogisticRegression(solver='liblinear', class_weight='balanced', random_state=12345)\n",
    "logreg_down.fit(features_downsampled, target_downsampled)\n",
    "logreg_down_valid = logreg_down.predict(features_valid)\n",
    "# Create a Classification Report\n",
    "print(\"Classification Report - Logistic Regression (class_weight='balanced', downsampled)\")\n",
    "print(classification_report(target_valid, logreg_down_valid))"
   ]
  },
  {
   "cell_type": "markdown",
   "metadata": {},
   "source": [
    "The optimized models greatly improved their **weighted averaged F1 scores**, which take into account the class imbalance:<br>\n",
    "1) Optimized Decision Tree model (class_weight='balanced') = **0.79**<br>\n",
    "2) Optimized Random Forest model (upsampled) = **0.82**<br>\n",
    "3) Optimized Random Forest model (downsampled) = **0.68**<br>\n",
    "4) Optimized Logistic Regression (class_weight='balanced', upsampled) = **0.73**<br>\n",
    "5) Optimized Logistic Regression (class_weight='balanced', downsampled) = **0.73**<br><br>\n",
    "***All the optimized models meet the minimum f1 score requirement (0.59).***"
   ]
  },
  {
   "cell_type": "markdown",
   "metadata": {},
   "source": [
    "## Test reliability of the models using Predicted probabilities, PR curve, ROC curve and AUC-ROC score.\n",
    "In all classification models, we can improve the performance by predicting the different probabilities for Recall and Precision with different Thresholds. We will predict the probabilities of the optimized models for different thresholds, using the **predict_proba()** function. We will then select an optimal Threshold (one that meets a good balance between Precision and Recall) and run classification reports to see how much more the models can be improved. Finally, we will plot graphs of **Precision/Recall and ROC curves** and **AUC-ROC Scores** for the optimized models, to see their relative performance against a random model (0.50 accuracy).<br>"
   ]
  },
  {
   "cell_type": "code",
   "execution_count": 35,
   "metadata": {},
   "outputs": [],
   "source": [
    "# create function to evaluate Precision, Recall and F1 scores for different thresholds\n",
    "def evaluate_thresholds(model, features, target, threshold_range=np.arange(0.5, 0.8, 0.04)):\n",
    "    probabilities = model.predict_proba(features)[:, 1]\n",
    "\n",
    "    for threshold in threshold_range:\n",
    "        predicted = probabilities > threshold \n",
    "        precision = precision_score(target, predicted)\n",
    "        recall = recall_score(target, predicted)\n",
    "        f1 = f1_score(target, predicted)\n",
    "\n",
    "        print(\n",
    "            'Threshold = {:.2f} | Precision = {:.3f}, Recall = {:.3f}, F1 Score = {:.3f}'.format(\n",
    "                threshold, precision, recall, f1\n",
    "            )\n",
    "        )"
   ]
  },
  {
   "cell_type": "code",
   "execution_count": 36,
   "metadata": {},
   "outputs": [
    {
     "name": "stdout",
     "output_type": "stream",
     "text": [
      "1) Optimized Decision Tree model (class_weight='balanced')\n",
      "Threshold = 0.50 | Precision = 0.479, Recall = 0.764, F1 Score = 0.589\n",
      "Threshold = 0.54 | Precision = 0.496, Recall = 0.725, F1 Score = 0.589\n",
      "Threshold = 0.58 | Precision = 0.506, Recall = 0.710, F1 Score = 0.591\n",
      "Threshold = 0.62 | Precision = 0.671, Recall = 0.533, F1 Score = 0.594\n",
      "Threshold = 0.66 | Precision = 0.671, Recall = 0.533, F1 Score = 0.594\n",
      "Threshold = 0.70 | Precision = 0.795, Recall = 0.450, F1 Score = 0.575\n",
      "Threshold = 0.74 | Precision = 0.806, Recall = 0.450, F1 Score = 0.578\n",
      "Threshold = 0.78 | Precision = 0.806, Recall = 0.450, F1 Score = 0.578\n"
     ]
    }
   ],
   "source": [
    "# Evaluate thresholds for all optimized models\n",
    "print(\"1) Optimized Decision Tree model (class_weight='balanced')\")\n",
    "evaluate_thresholds(tree, features_valid, target_valid)"
   ]
  },
  {
   "cell_type": "code",
   "execution_count": 37,
   "metadata": {},
   "outputs": [
    {
     "name": "stdout",
     "output_type": "stream",
     "text": [
      "2) Optimized Random Forest model (upsampled)\n",
      "Threshold = 0.50 | Precision = 0.660, Recall = 0.471, F1 Score = 0.550\n",
      "Threshold = 0.54 | Precision = 0.660, Recall = 0.471, F1 Score = 0.550\n",
      "Threshold = 0.58 | Precision = 0.660, Recall = 0.471, F1 Score = 0.550\n",
      "Threshold = 0.62 | Precision = 0.660, Recall = 0.471, F1 Score = 0.550\n",
      "Threshold = 0.66 | Precision = 0.739, Recall = 0.361, F1 Score = 0.485\n",
      "Threshold = 0.70 | Precision = 0.739, Recall = 0.361, F1 Score = 0.485\n",
      "Threshold = 0.74 | Precision = 0.739, Recall = 0.361, F1 Score = 0.485\n",
      "Threshold = 0.78 | Precision = 0.822, Recall = 0.241, F1 Score = 0.373\n"
     ]
    }
   ],
   "source": [
    "print(\"2) Optimized Random Forest model (upsampled)\")\n",
    "evaluate_thresholds(forest_up, features_valid, target_valid)"
   ]
  },
  {
   "cell_type": "code",
   "execution_count": 38,
   "metadata": {},
   "outputs": [
    {
     "name": "stdout",
     "output_type": "stream",
     "text": [
      "3) Optimized Random Forest model (downsampled)\n",
      "Threshold = 0.50 | Precision = 0.362, Recall = 0.862, F1 Score = 0.509\n",
      "Threshold = 0.54 | Precision = 0.362, Recall = 0.862, F1 Score = 0.509\n",
      "Threshold = 0.58 | Precision = 0.362, Recall = 0.862, F1 Score = 0.509\n",
      "Threshold = 0.62 | Precision = 0.362, Recall = 0.862, F1 Score = 0.509\n",
      "Threshold = 0.66 | Precision = 0.428, Recall = 0.761, F1 Score = 0.548\n",
      "Threshold = 0.70 | Precision = 0.428, Recall = 0.761, F1 Score = 0.548\n",
      "Threshold = 0.74 | Precision = 0.428, Recall = 0.761, F1 Score = 0.548\n",
      "Threshold = 0.78 | Precision = 0.512, Recall = 0.596, F1 Score = 0.551\n"
     ]
    }
   ],
   "source": [
    "print(\"3) Optimized Random Forest model (downsampled)\")\n",
    "evaluate_thresholds(forest_down, features_valid, target_valid)"
   ]
  },
  {
   "cell_type": "code",
   "execution_count": 39,
   "metadata": {},
   "outputs": [
    {
     "name": "stdout",
     "output_type": "stream",
     "text": [
      "4) Optimized Logistic Regression (class_weight='balanced', upsampled)\n",
      "Threshold = 0.50 | Precision = 0.397, Recall = 0.703, F1 Score = 0.508\n",
      "Threshold = 0.54 | Precision = 0.419, Recall = 0.654, F1 Score = 0.511\n",
      "Threshold = 0.58 | Precision = 0.436, Recall = 0.589, F1 Score = 0.501\n",
      "Threshold = 0.62 | Precision = 0.468, Recall = 0.536, F1 Score = 0.500\n",
      "Threshold = 0.66 | Precision = 0.486, Recall = 0.456, F1 Score = 0.471\n",
      "Threshold = 0.70 | Precision = 0.501, Recall = 0.370, F1 Score = 0.426\n",
      "Threshold = 0.74 | Precision = 0.524, Recall = 0.308, F1 Score = 0.388\n",
      "Threshold = 0.78 | Precision = 0.542, Recall = 0.243, F1 Score = 0.335\n"
     ]
    }
   ],
   "source": [
    "print(\"4) Optimized Logistic Regression (class_weight='balanced', upsampled)\")\n",
    "evaluate_thresholds(logreg_up, features_valid, target_valid)"
   ]
  },
  {
   "cell_type": "code",
   "execution_count": 40,
   "metadata": {},
   "outputs": [
    {
     "name": "stdout",
     "output_type": "stream",
     "text": [
      "5) Optimized Logistic Regression (class_weight='balanced', downsampled)\n",
      "Threshold = 0.50 | Precision = 0.397, Recall = 0.716, F1 Score = 0.511\n",
      "Threshold = 0.54 | Precision = 0.410, Recall = 0.662, F1 Score = 0.506\n",
      "Threshold = 0.58 | Precision = 0.437, Recall = 0.611, F1 Score = 0.509\n",
      "Threshold = 0.62 | Precision = 0.458, Recall = 0.555, F1 Score = 0.502\n",
      "Threshold = 0.66 | Precision = 0.475, Recall = 0.486, F1 Score = 0.481\n",
      "Threshold = 0.70 | Precision = 0.500, Recall = 0.407, F1 Score = 0.449\n",
      "Threshold = 0.74 | Precision = 0.516, Recall = 0.335, F1 Score = 0.406\n",
      "Threshold = 0.78 | Precision = 0.520, Recall = 0.262, F1 Score = 0.348\n"
     ]
    }
   ],
   "source": [
    "print(\"5) Optimized Logistic Regression (class_weight='balanced', downsampled)\")\n",
    "evaluate_thresholds(logreg_down, features_valid, target_valid)"
   ]
  },
  {
   "cell_type": "markdown",
   "metadata": {},
   "source": [
    "For all models, a **Threshold = 0.50 - 0.65** seems to meet a good balance between Precision/Recall and F1 score.<br><br>\n",
    "The default threshold is 0.5. We can run Classification Reports to consider the weighted average F1 Scores under a higher threshold (0.65), which seems would further optimize the models . "
   ]
  },
  {
   "cell_type": "code",
   "execution_count": 41,
   "metadata": {},
   "outputs": [
    {
     "name": "stdout",
     "output_type": "stream",
     "text": [
      "1) Optimized Decision Tree model (class_weight='balanced')\n",
      "Classification Report with Threshold 0.65:\n",
      "              precision    recall  f1-score   support\n",
      "\n",
      "           0       0.88      0.93      0.90      1965\n",
      "           1       0.67      0.53      0.59       535\n",
      "\n",
      "    accuracy                           0.84      2500\n",
      "   macro avg       0.78      0.73      0.75      2500\n",
      "weighted avg       0.83      0.84      0.84      2500\n",
      "\n",
      "2) Optimized Random Forest model (upsampled)\n",
      "Classification Report with Threshold 0.65:\n",
      "              precision    recall  f1-score   support\n",
      "\n",
      "           0       0.85      0.97      0.90      1965\n",
      "           1       0.74      0.36      0.48       535\n",
      "\n",
      "    accuracy                           0.84      2500\n",
      "   macro avg       0.79      0.66      0.69      2500\n",
      "weighted avg       0.82      0.84      0.81      2500\n",
      "\n",
      "3) Optimized Random Forest model (downsampled)\n",
      "Classification Report with Threshold 0.65:\n",
      "              precision    recall  f1-score   support\n",
      "\n",
      "           0       0.92      0.72      0.81      1965\n",
      "           1       0.43      0.76      0.55       535\n",
      "\n",
      "    accuracy                           0.73      2500\n",
      "   macro avg       0.67      0.74      0.68      2500\n",
      "weighted avg       0.81      0.73      0.75      2500\n",
      "\n",
      "4) Optimized Logistic Regression (class_weight='balanced', upsampled)\n",
      "Classification Report with Threshold 0.65:\n",
      "              precision    recall  f1-score   support\n",
      "\n",
      "           0       0.86      0.86      0.86      1965\n",
      "           1       0.48      0.47      0.48       535\n",
      "\n",
      "    accuracy                           0.78      2500\n",
      "   macro avg       0.67      0.67      0.67      2500\n",
      "weighted avg       0.78      0.78      0.78      2500\n",
      "\n",
      "5) Optimized Logistic Regression (class_weight='balanced', downsampled)\n",
      "Classification Report with Threshold 0.65:\n",
      "              precision    recall  f1-score   support\n",
      "\n",
      "           0       0.86      0.85      0.86      1965\n",
      "           1       0.48      0.51      0.49       535\n",
      "\n",
      "    accuracy                           0.78      2500\n",
      "   macro avg       0.67      0.68      0.68      2500\n",
      "weighted avg       0.78      0.78      0.78      2500\n",
      "\n"
     ]
    }
   ],
   "source": [
    "# Create function to run classification reports with thresholds = 0.65\n",
    "def classification_report_with_threshold(model, features, target, threshold=0.65):\n",
    "    probabilities = model.predict_proba(features)[:, 1]\n",
    "    predicted = (probabilities >= threshold).astype(int)\n",
    "    \n",
    "    report = classification_report(target, predicted)\n",
    "    \n",
    "    print(f\"Classification Report with Threshold {threshold}:\\n{report}\")\n",
    "    \n",
    "# Run Classification Reports for all optimized models\n",
    "print(\"1) Optimized Decision Tree model (class_weight='balanced')\")\n",
    "classification_report_with_threshold(tree, features_valid, target_valid, threshold=0.65)\n",
    "print(\"2) Optimized Random Forest model (upsampled)\")\n",
    "classification_report_with_threshold(forest_up, features_valid, target_valid, threshold=0.65)\n",
    "print(\"3) Optimized Random Forest model (downsampled)\")\n",
    "classification_report_with_threshold(forest_down, features_valid, target_valid, threshold=0.65)\n",
    "print(\"4) Optimized Logistic Regression (class_weight='balanced', upsampled)\")\n",
    "classification_report_with_threshold(logreg_up, features_valid, target_valid, threshold=0.65)\n",
    "print(\"5) Optimized Logistic Regression (class_weight='balanced', downsampled)\")\n",
    "classification_report_with_threshold(logreg_down, features_valid, target_valid, threshold=0.65)"
   ]
  },
  {
   "cell_type": "markdown",
   "metadata": {},
   "source": [
    "As expected, a custom Threshold of 0.65 would improve the weighted average f1 scores of most models:<br>\n",
    "1) Optimized Decision Tree model (class_weight='balanced') = 0.79 to **0.84**<br>\n",
    "2) Optimized Random Forest model (upsampled) = 0.82 to **0.81**<br>\n",
    "3) Optimized Random Forest model (downsampled) = 0.68 to **0.75**<br>\n",
    "4) Optimized Logistic Regression (class_weight='balanced', upsampled) = 0.73 to **0.78**<br>\n",
    "5) Optimized Logistic Regression (class_weight='balanced', downsampled) = 0.73 to **0.78**<br><br>"
   ]
  },
  {
   "cell_type": "code",
   "execution_count": 42,
   "metadata": {},
   "outputs": [
    {
     "data": {
      "image/png": "[encoded data removed]",
      "text/plain": [
       "<Figure size 1440x360 with 5 Axes>"
      ]
     },
     "metadata": {
      "needs_background": "light"
     },
     "output_type": "display_data"
    }
   ],
   "source": [
    "models = [tree, forest_up, forest_down, logreg_up, logreg_down]\n",
    "model_names = ['Decision Tree', 'Random Forest (Upsampled)', \n",
    "               'Random Forest (Downsampled)', 'Logistic Regression (Upsampled)', \n",
    "               'Logistic Regression (Downsampled)']\n",
    "\n",
    "def plot_precision_recall_curves(models, model_names, features_valid, target_valid, figsize=(20, 5)):\n",
    "    plt.figure(figsize=figsize)\n",
    "\n",
    "    for i, (model, model_name) in enumerate(zip(models, model_names), start=1):\n",
    "        probabilities = model.predict_proba(features_valid)[:, 1]\n",
    "        precision, recall, _ = precision_recall_curve(target_valid, probabilities)\n",
    "\n",
    "        plt.subplot(1, len(models), i)\n",
    "        plt.step(recall, precision, where='post')\n",
    "        plt.xlabel('Recall')\n",
    "        plt.ylabel('Precision')\n",
    "        plt.ylim([0.0, 1.05])\n",
    "        plt.xlim([0.0, 1.0])\n",
    "        plt.title(model_name)\n",
    "\n",
    "    plt.tight_layout()\n",
    "    plt.show()\n",
    "\n",
    "\n",
    "# Plot PR curves for all optimized models\n",
    "plot_precision_recall_curves(models, model_names, features_valid, target_valid)"
   ]
  },
  {
   "cell_type": "code",
   "execution_count": 43,
   "metadata": {},
   "outputs": [
    {
     "data": {
      "image/png": "[encoded data removed]",
      "text/plain": [
       "<Figure size 1440x360 with 5 Axes>"
      ]
     },
     "metadata": {
      "needs_background": "light"
     },
     "output_type": "display_data"
    }
   ],
   "source": [
    "# Plot ROC Curves and AUC-ROC scores for all optimized models\n",
    "# Create function to plot ROC curves and AUC-ROC scores\n",
    "def plot_roc_curves(models, model_names, features_valid, target_valid, figsize=(20, 5)):\n",
    "    plt.figure(figsize=figsize)\n",
    "\n",
    "    for i, (model, model_name) in enumerate(zip(models, model_names), start=1):\n",
    "        probabilities = model.predict_proba(features_valid)[:, 1]\n",
    "        fpr, tpr, _ = roc_curve(target_valid, probabilities)\n",
    "        auc = roc_auc_score(target_valid, probabilities)\n",
    "\n",
    "        plt.subplot(1, len(models), i)\n",
    "        plt.plot(fpr, tpr, label=f'AUC = {auc:.2f}')\n",
    "        plt.plot([0, 1], [0, 1], linestyle='--')\n",
    "        plt.xlim([0.0, 1.0])\n",
    "        plt.ylim([0.0, 1.0])\n",
    "        plt.xlabel('False Positive Rate')\n",
    "        plt.ylabel('True Positive Rate')\n",
    "        plt.title(f'ROC curve ({model_name})')\n",
    "        plt.legend()\n",
    "\n",
    "    plt.tight_layout()\n",
    "    plt.show()\n",
    "\n",
    "plot_roc_curves(models, model_names, features_valid, target_valid)"
   ]
  },
  {
   "cell_type": "markdown",
   "metadata": {},
   "source": [
    "## Conclusion\n",
    "The AUC scores of our optimized models range from 0.77 to 0.84, which makes them all acceptable models for predicting if the customers of Beta Bank are likely to remain as clients. The best model is Decision Tree with an AUC-ROC score of 0.84 and a weighted avg f1 score of 0.79-0.84.<br>\n",
    "This project has shown that optimization analysis is highly effective in improving a model's performance. After cleaning and preparing the data for machine learning, and training different models, we initially found that each one of them had very low reliability (f1 score < 0.59). Fixing the class imbalance and analizying how each method affected the models, allowed us to make decisions that could marginally improve the performance in each specific case. Finally, testing the metrics of the optimized models (PR curve, ROC curve, AUC-ROC score) proved that these methods were highly effective in improving the model's performance as a whole. "
   ]
  }
 ],
 "metadata": {
  "kernelspec": {
   "display_name": "Python 3 (ipykernel)",
   "language": "python",
   "name": "python3"
  },
  "language_info": {
   "codemirror_mode": {
    "name": "ipython",
    "version": 3
   },
   "file_extension": ".py",
   "mimetype": "text/x-python",
   "name": "python",
   "nbconvert_exporter": "python",
   "pygments_lexer": "ipython3",
   "version": "3.9.5"
  },
  "toc": {
   "base_numbering": 1,
   "nav_menu": {},
   "number_sections": true,
   "sideBar": true,
   "skip_h1_title": true,
   "title_cell": "Table of Contents",
   "title_sidebar": "Contents",
   "toc_cell": false,
   "toc_position": {},
   "toc_section_display": true,
   "toc_window_display": false
  }
 },
 "nbformat": 4,
 "nbformat_minor": 2
}
