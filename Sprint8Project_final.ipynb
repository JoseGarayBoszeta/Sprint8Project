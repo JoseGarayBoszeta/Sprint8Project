{
 "cells": [
  {
   "cell_type": "markdown",
   "metadata": {},
   "source": [
    "<div class=\"alert alert-success\">\n",
    "<b>Reviewer's comment V3</b>\n",
    "\n",
    "Thank you for taking the time to improve the project! it is now accepted. Keep up the good work on the next sprint!\n",
    "\n",
    "</div>"
   ]
  },
  {
   "cell_type": "markdown",
   "metadata": {},
   "source": [
    "**Review**\n",
    "\n",
    "Hi, my name is Dmitry and I will be reviewing your project.\n",
    "  \n",
    "You can find my comments in colored markdown cells:\n",
    "  \n",
    "<div class=\"alert alert-success\">\n",
    "  If everything is done successfully.\n",
    "</div>\n",
    "  \n",
    "<div class=\"alert alert-warning\">\n",
    "  If I have some (optional) suggestions, or questions to think about, or general comments.\n",
    "</div>\n",
    "  \n",
    "<div class=\"alert alert-danger\">\n",
    "  If a section requires some corrections. Work can't be accepted with red comments.\n",
    "</div>\n",
    "  \n",
    "Please don't remove my comments, as it will make further review iterations much harder for me.\n",
    "  \n",
    "Feel free to reply to my comments or ask questions using the following template:\n",
    "  \n",
    "<div class=\"alert alert-info\">\n",
    "  For your comments and questions.\n",
    "</div>\n",
    "  \n",
    "First of all, thank you for turning in the project! You did a great job overall, but there are a couple of problems that need to be fixed before the project is accepted. Let me know if you have questions!"
   ]
  },
  {
   "cell_type": "markdown",
   "metadata": {},
   "source": [
    "# Project description<br>\n",
    "In this project we will analyze a database composed of 10,000 Beta Bank customers, with the purpose of training different Machine Learning models that can predict the permanence of customers in the bank. We will train three  algorithms (***Decision Tree***, ***Random Forest*** and ***Logistic Regression***) with a series of features that reflect the financial status and saving habits of customers, in order to have a variety of models able to predict the target variable ('Exited') with a reasonable degree of confidence.<br>\n",
    "\n",
    "The first step will be to perform an Exploratory Data Analysis (EDA) focused on separating the ***'features'*** and ***'target'*** variables, defining the relevant features for the model, and preparing the data for machine learning using the techniques of ***One Hot Encoding (OHE)***, ***Label Encoding*** and ***Scalar Standardization***. We will then train three algorithms (Decision Tree, Random Forest and Logistic Regression) and note their initial performance, in a ***Class Imbalance*** state. In order to improve the performance of the models, we will use different techniques to mitigate class imbalance, such as the parameter ***class_weight='balanced'*** and ***upsampling/downsampling*** the training sets. After trying different combinations, we will select the optimal configuration for each algorithm and analyze the improvement in each model. Finally, we will measure the improvement in ***F1 scores*** for each model, test their reliability under different probability thresholds, and plot graphs of ***Recall-Precision curves*** and ***ROC curves with AUC-ROC*** scores to decide which model has the best performance.<br> "
   ]
  },
  {
   "cell_type": "markdown",
   "metadata": {},
   "source": [
    "## Import modules used in the project"
   ]
  },
  {
   "cell_type": "code",
   "execution_count": 1,
   "metadata": {},
   "outputs": [],
   "source": [
    "import pandas as pd\n",
    "import numpy as np\n",
    "import matplotlib.pyplot as plt\n",
    "from sklearn.model_selection import train_test_split\n",
    "from sklearn.tree import DecisionTreeClassifier\n",
    "from sklearn.ensemble import RandomForestClassifier\n",
    "from sklearn.linear_model import LogisticRegression\n",
    "from sklearn.preprocessing import OrdinalEncoder, StandardScaler, LabelEncoder\n",
    "from sklearn.metrics import accuracy_score, classification_report, confusion_matrix \n",
    "from sklearn.metrics import recall_score, precision_score, f1_score\n",
    "from sklearn.metrics import precision_recall_curve, roc_curve, roc_auc_score\n",
    "from sklearn.utils import shuffle"
   ]
  },
  {
   "cell_type": "markdown",
   "metadata": {},
   "source": [
    "## Load dataset, explore and clean data"
   ]
  },
  {
   "cell_type": "code",
   "execution_count": 2,
   "metadata": {},
   "outputs": [
    {
     "name": "stdout",
     "output_type": "stream",
     "text": [
      "(10000, 14)\n",
      "Index(['RowNumber', 'CustomerId', 'Surname', 'CreditScore', 'Geography',\n",
      "       'Gender', 'Age', 'Tenure', 'Balance', 'NumOfProducts', 'HasCrCard',\n",
      "       'IsActiveMember', 'EstimatedSalary', 'Exited'],\n",
      "      dtype='object')\n",
      "RowNumber            int64\n",
      "CustomerId           int64\n",
      "Surname             object\n",
      "CreditScore          int64\n",
      "Geography           object\n",
      "Gender              object\n",
      "Age                  int64\n",
      "Tenure             float64\n",
      "Balance            float64\n",
      "NumOfProducts        int64\n",
      "HasCrCard            int64\n",
      "IsActiveMember       int64\n",
      "EstimatedSalary    float64\n",
      "Exited               int64\n",
      "dtype: object\n"
     ]
    },
    {
     "data": {
      "text/html": [
       "<div>\n",
       "<style scoped>\n",
       "    .dataframe tbody tr th:only-of-type {\n",
       "        vertical-align: middle;\n",
       "    }\n",
       "\n",
       "    .dataframe tbody tr th {\n",
       "        vertical-align: top;\n",
       "    }\n",
       "\n",
       "    .dataframe thead th {\n",
       "        text-align: right;\n",
       "    }\n",
       "</style>\n",
       "<table border=\"1\" class=\"dataframe\">\n",
       "  <thead>\n",
       "    <tr style=\"text-align: right;\">\n",
       "      <th></th>\n",
       "      <th>RowNumber</th>\n",
       "      <th>CustomerId</th>\n",
       "      <th>Surname</th>\n",
       "      <th>CreditScore</th>\n",
       "      <th>Geography</th>\n",
       "      <th>Gender</th>\n",
       "      <th>Age</th>\n",
       "      <th>Tenure</th>\n",
       "      <th>Balance</th>\n",
       "      <th>NumOfProducts</th>\n",
       "      <th>HasCrCard</th>\n",
       "      <th>IsActiveMember</th>\n",
       "      <th>EstimatedSalary</th>\n",
       "      <th>Exited</th>\n",
       "    </tr>\n",
       "  </thead>\n",
       "  <tbody>\n",
       "    <tr>\n",
       "      <th>0</th>\n",
       "      <td>1</td>\n",
       "      <td>15634602</td>\n",
       "      <td>Hargrave</td>\n",
       "      <td>619</td>\n",
       "      <td>France</td>\n",
       "      <td>Female</td>\n",
       "      <td>42</td>\n",
       "      <td>2.0</td>\n",
       "      <td>0.00</td>\n",
       "      <td>1</td>\n",
       "      <td>1</td>\n",
       "      <td>1</td>\n",
       "      <td>101348.88</td>\n",
       "      <td>1</td>\n",
       "    </tr>\n",
       "    <tr>\n",
       "      <th>1</th>\n",
       "      <td>2</td>\n",
       "      <td>15647311</td>\n",
       "      <td>Hill</td>\n",
       "      <td>608</td>\n",
       "      <td>Spain</td>\n",
       "      <td>Female</td>\n",
       "      <td>41</td>\n",
       "      <td>1.0</td>\n",
       "      <td>83807.86</td>\n",
       "      <td>1</td>\n",
       "      <td>0</td>\n",
       "      <td>1</td>\n",
       "      <td>112542.58</td>\n",
       "      <td>0</td>\n",
       "    </tr>\n",
       "    <tr>\n",
       "      <th>2</th>\n",
       "      <td>3</td>\n",
       "      <td>15619304</td>\n",
       "      <td>Onio</td>\n",
       "      <td>502</td>\n",
       "      <td>France</td>\n",
       "      <td>Female</td>\n",
       "      <td>42</td>\n",
       "      <td>8.0</td>\n",
       "      <td>159660.80</td>\n",
       "      <td>3</td>\n",
       "      <td>1</td>\n",
       "      <td>0</td>\n",
       "      <td>113931.57</td>\n",
       "      <td>1</td>\n",
       "    </tr>\n",
       "    <tr>\n",
       "      <th>3</th>\n",
       "      <td>4</td>\n",
       "      <td>15701354</td>\n",
       "      <td>Boni</td>\n",
       "      <td>699</td>\n",
       "      <td>France</td>\n",
       "      <td>Female</td>\n",
       "      <td>39</td>\n",
       "      <td>1.0</td>\n",
       "      <td>0.00</td>\n",
       "      <td>2</td>\n",
       "      <td>0</td>\n",
       "      <td>0</td>\n",
       "      <td>93826.63</td>\n",
       "      <td>0</td>\n",
       "    </tr>\n",
       "    <tr>\n",
       "      <th>4</th>\n",
       "      <td>5</td>\n",
       "      <td>15737888</td>\n",
       "      <td>Mitchell</td>\n",
       "      <td>850</td>\n",
       "      <td>Spain</td>\n",
       "      <td>Female</td>\n",
       "      <td>43</td>\n",
       "      <td>2.0</td>\n",
       "      <td>125510.82</td>\n",
       "      <td>1</td>\n",
       "      <td>1</td>\n",
       "      <td>1</td>\n",
       "      <td>79084.10</td>\n",
       "      <td>0</td>\n",
       "    </tr>\n",
       "  </tbody>\n",
       "</table>\n",
       "</div>"
      ],
      "text/plain": [
       "   RowNumber  CustomerId   Surname  CreditScore Geography  Gender  Age  \\\n",
       "0          1    15634602  Hargrave          619    France  Female   42   \n",
       "1          2    15647311      Hill          608     Spain  Female   41   \n",
       "2          3    15619304      Onio          502    France  Female   42   \n",
       "3          4    15701354      Boni          699    France  Female   39   \n",
       "4          5    15737888  Mitchell          850     Spain  Female   43   \n",
       "\n",
       "   Tenure    Balance  NumOfProducts  HasCrCard  IsActiveMember  \\\n",
       "0     2.0       0.00              1          1               1   \n",
       "1     1.0   83807.86              1          0               1   \n",
       "2     8.0  159660.80              3          1               0   \n",
       "3     1.0       0.00              2          0               0   \n",
       "4     2.0  125510.82              1          1               1   \n",
       "\n",
       "   EstimatedSalary  Exited  \n",
       "0        101348.88       1  \n",
       "1        112542.58       0  \n",
       "2        113931.57       1  \n",
       "3         93826.63       0  \n",
       "4         79084.10       0  "
      ]
     },
     "metadata": {},
     "output_type": "display_data"
    }
   ],
   "source": [
    "df = pd.read_csv('/datasets/Churn.csv')\n",
    "print(df.shape)\n",
    "print(df.columns)\n",
    "print(df.dtypes)\n",
    "display(df.head())"
   ]
  },
  {
   "cell_type": "code",
   "execution_count": 3,
   "metadata": {},
   "outputs": [
    {
     "name": "stdout",
     "output_type": "stream",
     "text": [
      "Duplicated rows: 0\n",
      "Null values:\n",
      " RowNumber            0\n",
      "CustomerId           0\n",
      "Surname              0\n",
      "CreditScore          0\n",
      "Geography            0\n",
      "Gender               0\n",
      "Age                  0\n",
      "Tenure             909\n",
      "Balance              0\n",
      "NumOfProducts        0\n",
      "HasCrCard            0\n",
      "IsActiveMember       0\n",
      "EstimatedSalary      0\n",
      "Exited               0\n",
      "dtype: int64\n"
     ]
    }
   ],
   "source": [
    "# Find duplicated rows and null values\n",
    "print(\"Duplicated rows:\", df.duplicated().sum())\n",
    "print(\"Null values:\\n\", df.isna().sum())"
   ]
  },
  {
   "cell_type": "markdown",
   "metadata": {},
   "source": [
    "<div class=\"alert alert-success\">\n",
    "<b>Reviewer's comment</b>\n",
    "\n",
    "The data was loaded and inspected\n",
    "\n",
    "</div>"
   ]
  },
  {
   "cell_type": "code",
   "execution_count": 4,
   "metadata": {},
   "outputs": [
    {
     "name": "stdout",
     "output_type": "stream",
     "text": [
      "[ 2.  1.  8.  7.  4.  6.  3. 10.  5.  9.  0. nan]\n",
      "0.0     382\n",
      "1.0     952\n",
      "2.0     950\n",
      "3.0     928\n",
      "4.0     885\n",
      "5.0     927\n",
      "6.0     881\n",
      "7.0     925\n",
      "8.0     933\n",
      "9.0     882\n",
      "10.0    446\n",
      "NaN     909\n",
      "Name: Tenure, dtype: int64\n"
     ]
    },
    {
     "data": {
      "text/html": [
       "<div>\n",
       "<style scoped>\n",
       "    .dataframe tbody tr th:only-of-type {\n",
       "        vertical-align: middle;\n",
       "    }\n",
       "\n",
       "    .dataframe tbody tr th {\n",
       "        vertical-align: top;\n",
       "    }\n",
       "\n",
       "    .dataframe thead th {\n",
       "        text-align: right;\n",
       "    }\n",
       "</style>\n",
       "<table border=\"1\" class=\"dataframe\">\n",
       "  <thead>\n",
       "    <tr style=\"text-align: right;\">\n",
       "      <th></th>\n",
       "      <th>RowNumber</th>\n",
       "      <th>CustomerId</th>\n",
       "      <th>Surname</th>\n",
       "      <th>CreditScore</th>\n",
       "      <th>Geography</th>\n",
       "      <th>Gender</th>\n",
       "      <th>Age</th>\n",
       "      <th>Tenure</th>\n",
       "      <th>Balance</th>\n",
       "      <th>NumOfProducts</th>\n",
       "      <th>HasCrCard</th>\n",
       "      <th>IsActiveMember</th>\n",
       "      <th>EstimatedSalary</th>\n",
       "      <th>Exited</th>\n",
       "    </tr>\n",
       "  </thead>\n",
       "  <tbody>\n",
       "    <tr>\n",
       "      <th>30</th>\n",
       "      <td>31</td>\n",
       "      <td>15589475</td>\n",
       "      <td>Azikiwe</td>\n",
       "      <td>591</td>\n",
       "      <td>Spain</td>\n",
       "      <td>Female</td>\n",
       "      <td>39</td>\n",
       "      <td>NaN</td>\n",
       "      <td>0.00</td>\n",
       "      <td>3</td>\n",
       "      <td>1</td>\n",
       "      <td>0</td>\n",
       "      <td>140469.38</td>\n",
       "      <td>1</td>\n",
       "    </tr>\n",
       "    <tr>\n",
       "      <th>48</th>\n",
       "      <td>49</td>\n",
       "      <td>15766205</td>\n",
       "      <td>Yin</td>\n",
       "      <td>550</td>\n",
       "      <td>Germany</td>\n",
       "      <td>Male</td>\n",
       "      <td>38</td>\n",
       "      <td>NaN</td>\n",
       "      <td>103391.38</td>\n",
       "      <td>1</td>\n",
       "      <td>0</td>\n",
       "      <td>1</td>\n",
       "      <td>90878.13</td>\n",
       "      <td>0</td>\n",
       "    </tr>\n",
       "    <tr>\n",
       "      <th>51</th>\n",
       "      <td>52</td>\n",
       "      <td>15768193</td>\n",
       "      <td>Trevisani</td>\n",
       "      <td>585</td>\n",
       "      <td>Germany</td>\n",
       "      <td>Male</td>\n",
       "      <td>36</td>\n",
       "      <td>NaN</td>\n",
       "      <td>146050.97</td>\n",
       "      <td>2</td>\n",
       "      <td>0</td>\n",
       "      <td>0</td>\n",
       "      <td>86424.57</td>\n",
       "      <td>0</td>\n",
       "    </tr>\n",
       "    <tr>\n",
       "      <th>53</th>\n",
       "      <td>54</td>\n",
       "      <td>15702298</td>\n",
       "      <td>Parkhill</td>\n",
       "      <td>655</td>\n",
       "      <td>Germany</td>\n",
       "      <td>Male</td>\n",
       "      <td>41</td>\n",
       "      <td>NaN</td>\n",
       "      <td>125561.97</td>\n",
       "      <td>1</td>\n",
       "      <td>0</td>\n",
       "      <td>0</td>\n",
       "      <td>164040.94</td>\n",
       "      <td>1</td>\n",
       "    </tr>\n",
       "    <tr>\n",
       "      <th>60</th>\n",
       "      <td>61</td>\n",
       "      <td>15651280</td>\n",
       "      <td>Hunter</td>\n",
       "      <td>742</td>\n",
       "      <td>Germany</td>\n",
       "      <td>Male</td>\n",
       "      <td>35</td>\n",
       "      <td>NaN</td>\n",
       "      <td>136857.00</td>\n",
       "      <td>1</td>\n",
       "      <td>0</td>\n",
       "      <td>0</td>\n",
       "      <td>84509.57</td>\n",
       "      <td>0</td>\n",
       "    </tr>\n",
       "  </tbody>\n",
       "</table>\n",
       "</div>"
      ],
      "text/plain": [
       "    RowNumber  CustomerId    Surname  CreditScore Geography  Gender  Age  \\\n",
       "30         31    15589475    Azikiwe          591     Spain  Female   39   \n",
       "48         49    15766205        Yin          550   Germany    Male   38   \n",
       "51         52    15768193  Trevisani          585   Germany    Male   36   \n",
       "53         54    15702298   Parkhill          655   Germany    Male   41   \n",
       "60         61    15651280     Hunter          742   Germany    Male   35   \n",
       "\n",
       "    Tenure    Balance  NumOfProducts  HasCrCard  IsActiveMember  \\\n",
       "30     NaN       0.00              3          1               0   \n",
       "48     NaN  103391.38              1          0               1   \n",
       "51     NaN  146050.97              2          0               0   \n",
       "53     NaN  125561.97              1          0               0   \n",
       "60     NaN  136857.00              1          0               0   \n",
       "\n",
       "    EstimatedSalary  Exited  \n",
       "30        140469.38       1  \n",
       "48         90878.13       0  \n",
       "51         86424.57       0  \n",
       "53        164040.94       1  \n",
       "60         84509.57       0  "
      ]
     },
     "metadata": {},
     "output_type": "display_data"
    }
   ],
   "source": [
    "# Explore the Null values\n",
    "print(df['Tenure'].unique())\n",
    "print(df['Tenure'].value_counts(dropna=False).sort_index())\n",
    "display(df[df['Tenure'].isnull()].head())"
   ]
  },
  {
   "cell_type": "markdown",
   "metadata": {},
   "source": [
    "The feature 'Tenure' - period of maturation for a customer’s fixed deposit (years) is the only feature that presents null values in the dataframe. They represent a significant percentage, close to 9% of all the rows, so we can't just drop them. We must find a way to deal with the null values later, if needed, because most machine learning algorhitms cannot handle missing values. "
   ]
  },
  {
   "cell_type": "markdown",
   "metadata": {},
   "source": [
    "<div class=\"alert alert-success\">\n",
    "<b>Reviewer's comment</b>\n",
    "\n",
    "Alright!\n",
    "\n",
    "</div>"
   ]
  },
  {
   "cell_type": "markdown",
   "metadata": {},
   "source": [
    "## Prepare the data for Machine Learning modeling\n",
    "First, we will separate the dataframe in 'target' and 'feature' variables. After this we can drop the features that are not essential to the model, since the inclusion of irrelevant features will likely confuse the algorithms and yield unreliable results. Then we can make the distinction between categorical and numerical features. The categorical values can be normalized using One Hot Encoding (OHE), and Label Encoding; and the numerical values can be standardized using Feature Scaling."
   ]
  },
  {
   "cell_type": "code",
   "execution_count": 5,
   "metadata": {},
   "outputs": [
    {
     "name": "stdout",
     "output_type": "stream",
     "text": [
      "Target shape: (10000,)\n",
      "Target value counts:\n",
      " 0    7963\n",
      "1    2037\n",
      "Name: Exited, dtype: int64\n",
      "\n",
      "Features shape: (10000, 13)\n"
     ]
    },
    {
     "data": {
      "text/html": [
       "<div>\n",
       "<style scoped>\n",
       "    .dataframe tbody tr th:only-of-type {\n",
       "        vertical-align: middle;\n",
       "    }\n",
       "\n",
       "    .dataframe tbody tr th {\n",
       "        vertical-align: top;\n",
       "    }\n",
       "\n",
       "    .dataframe thead th {\n",
       "        text-align: right;\n",
       "    }\n",
       "</style>\n",
       "<table border=\"1\" class=\"dataframe\">\n",
       "  <thead>\n",
       "    <tr style=\"text-align: right;\">\n",
       "      <th></th>\n",
       "      <th>RowNumber</th>\n",
       "      <th>CustomerId</th>\n",
       "      <th>Surname</th>\n",
       "      <th>CreditScore</th>\n",
       "      <th>Geography</th>\n",
       "      <th>Gender</th>\n",
       "      <th>Age</th>\n",
       "      <th>Tenure</th>\n",
       "      <th>Balance</th>\n",
       "      <th>NumOfProducts</th>\n",
       "      <th>HasCrCard</th>\n",
       "      <th>IsActiveMember</th>\n",
       "      <th>EstimatedSalary</th>\n",
       "    </tr>\n",
       "  </thead>\n",
       "  <tbody>\n",
       "    <tr>\n",
       "      <th>0</th>\n",
       "      <td>1</td>\n",
       "      <td>15634602</td>\n",
       "      <td>Hargrave</td>\n",
       "      <td>619</td>\n",
       "      <td>France</td>\n",
       "      <td>Female</td>\n",
       "      <td>42</td>\n",
       "      <td>2.0</td>\n",
       "      <td>0.00</td>\n",
       "      <td>1</td>\n",
       "      <td>1</td>\n",
       "      <td>1</td>\n",
       "      <td>101348.88</td>\n",
       "    </tr>\n",
       "    <tr>\n",
       "      <th>1</th>\n",
       "      <td>2</td>\n",
       "      <td>15647311</td>\n",
       "      <td>Hill</td>\n",
       "      <td>608</td>\n",
       "      <td>Spain</td>\n",
       "      <td>Female</td>\n",
       "      <td>41</td>\n",
       "      <td>1.0</td>\n",
       "      <td>83807.86</td>\n",
       "      <td>1</td>\n",
       "      <td>0</td>\n",
       "      <td>1</td>\n",
       "      <td>112542.58</td>\n",
       "    </tr>\n",
       "    <tr>\n",
       "      <th>2</th>\n",
       "      <td>3</td>\n",
       "      <td>15619304</td>\n",
       "      <td>Onio</td>\n",
       "      <td>502</td>\n",
       "      <td>France</td>\n",
       "      <td>Female</td>\n",
       "      <td>42</td>\n",
       "      <td>8.0</td>\n",
       "      <td>159660.80</td>\n",
       "      <td>3</td>\n",
       "      <td>1</td>\n",
       "      <td>0</td>\n",
       "      <td>113931.57</td>\n",
       "    </tr>\n",
       "    <tr>\n",
       "      <th>3</th>\n",
       "      <td>4</td>\n",
       "      <td>15701354</td>\n",
       "      <td>Boni</td>\n",
       "      <td>699</td>\n",
       "      <td>France</td>\n",
       "      <td>Female</td>\n",
       "      <td>39</td>\n",
       "      <td>1.0</td>\n",
       "      <td>0.00</td>\n",
       "      <td>2</td>\n",
       "      <td>0</td>\n",
       "      <td>0</td>\n",
       "      <td>93826.63</td>\n",
       "    </tr>\n",
       "    <tr>\n",
       "      <th>4</th>\n",
       "      <td>5</td>\n",
       "      <td>15737888</td>\n",
       "      <td>Mitchell</td>\n",
       "      <td>850</td>\n",
       "      <td>Spain</td>\n",
       "      <td>Female</td>\n",
       "      <td>43</td>\n",
       "      <td>2.0</td>\n",
       "      <td>125510.82</td>\n",
       "      <td>1</td>\n",
       "      <td>1</td>\n",
       "      <td>1</td>\n",
       "      <td>79084.10</td>\n",
       "    </tr>\n",
       "  </tbody>\n",
       "</table>\n",
       "</div>"
      ],
      "text/plain": [
       "   RowNumber  CustomerId   Surname  CreditScore Geography  Gender  Age  \\\n",
       "0          1    15634602  Hargrave          619    France  Female   42   \n",
       "1          2    15647311      Hill          608     Spain  Female   41   \n",
       "2          3    15619304      Onio          502    France  Female   42   \n",
       "3          4    15701354      Boni          699    France  Female   39   \n",
       "4          5    15737888  Mitchell          850     Spain  Female   43   \n",
       "\n",
       "   Tenure    Balance  NumOfProducts  HasCrCard  IsActiveMember  \\\n",
       "0     2.0       0.00              1          1               1   \n",
       "1     1.0   83807.86              1          0               1   \n",
       "2     8.0  159660.80              3          1               0   \n",
       "3     1.0       0.00              2          0               0   \n",
       "4     2.0  125510.82              1          1               1   \n",
       "\n",
       "   EstimatedSalary  \n",
       "0        101348.88  \n",
       "1        112542.58  \n",
       "2        113931.57  \n",
       "3         93826.63  \n",
       "4         79084.10  "
      ]
     },
     "metadata": {},
     "output_type": "display_data"
    }
   ],
   "source": [
    "# Define 'target' and 'feature' variables\n",
    "target = df['Exited']\n",
    "features = df.drop('Exited', axis=1)\n",
    "print(\"Target shape:\", target.shape)\n",
    "print(\"Target value counts:\\n\", target.value_counts())\n",
    "print()\n",
    "print(\"Features shape:\", features.shape)\n",
    "display(features.head())"
   ]
  },
  {
   "cell_type": "markdown",
   "metadata": {},
   "source": [
    "We can drop the following features:<br>\n",
    "'RowNumber' - This feature only numerates the rows, so it doesn't offer any relevant information to the model. It is redundant because it has the same function as the index.<br>\n",
    "'CustomerId', 'Surname' - These features are unique identifiers to each customer. They're nominal random features that do not have any correlation to the other features or the target. They're irrelevant to the model, so we can drop them.<br>"
   ]
  },
  {
   "cell_type": "markdown",
   "metadata": {},
   "source": [
    "<div class=\"alert alert-success\">\n",
    "<b>Reviewer's comment</b>\n",
    "\n",
    "Yep, that makes sense\n",
    "\n",
    "</div>"
   ]
  },
  {
   "cell_type": "code",
   "execution_count": 6,
   "metadata": {},
   "outputs": [
    {
     "data": {
      "text/html": [
       "<div>\n",
       "<style scoped>\n",
       "    .dataframe tbody tr th:only-of-type {\n",
       "        vertical-align: middle;\n",
       "    }\n",
       "\n",
       "    .dataframe tbody tr th {\n",
       "        vertical-align: top;\n",
       "    }\n",
       "\n",
       "    .dataframe thead th {\n",
       "        text-align: right;\n",
       "    }\n",
       "</style>\n",
       "<table border=\"1\" class=\"dataframe\">\n",
       "  <thead>\n",
       "    <tr style=\"text-align: right;\">\n",
       "      <th></th>\n",
       "      <th>CreditScore</th>\n",
       "      <th>Geography</th>\n",
       "      <th>Gender</th>\n",
       "      <th>Age</th>\n",
       "      <th>Tenure</th>\n",
       "      <th>Balance</th>\n",
       "      <th>NumOfProducts</th>\n",
       "      <th>HasCrCard</th>\n",
       "      <th>IsActiveMember</th>\n",
       "      <th>EstimatedSalary</th>\n",
       "    </tr>\n",
       "  </thead>\n",
       "  <tbody>\n",
       "    <tr>\n",
       "      <th>0</th>\n",
       "      <td>619</td>\n",
       "      <td>France</td>\n",
       "      <td>Female</td>\n",
       "      <td>42</td>\n",
       "      <td>2.0</td>\n",
       "      <td>0.00</td>\n",
       "      <td>1</td>\n",
       "      <td>1</td>\n",
       "      <td>1</td>\n",
       "      <td>101348.88</td>\n",
       "    </tr>\n",
       "    <tr>\n",
       "      <th>1</th>\n",
       "      <td>608</td>\n",
       "      <td>Spain</td>\n",
       "      <td>Female</td>\n",
       "      <td>41</td>\n",
       "      <td>1.0</td>\n",
       "      <td>83807.86</td>\n",
       "      <td>1</td>\n",
       "      <td>0</td>\n",
       "      <td>1</td>\n",
       "      <td>112542.58</td>\n",
       "    </tr>\n",
       "    <tr>\n",
       "      <th>2</th>\n",
       "      <td>502</td>\n",
       "      <td>France</td>\n",
       "      <td>Female</td>\n",
       "      <td>42</td>\n",
       "      <td>8.0</td>\n",
       "      <td>159660.80</td>\n",
       "      <td>3</td>\n",
       "      <td>1</td>\n",
       "      <td>0</td>\n",
       "      <td>113931.57</td>\n",
       "    </tr>\n",
       "    <tr>\n",
       "      <th>3</th>\n",
       "      <td>699</td>\n",
       "      <td>France</td>\n",
       "      <td>Female</td>\n",
       "      <td>39</td>\n",
       "      <td>1.0</td>\n",
       "      <td>0.00</td>\n",
       "      <td>2</td>\n",
       "      <td>0</td>\n",
       "      <td>0</td>\n",
       "      <td>93826.63</td>\n",
       "    </tr>\n",
       "    <tr>\n",
       "      <th>4</th>\n",
       "      <td>850</td>\n",
       "      <td>Spain</td>\n",
       "      <td>Female</td>\n",
       "      <td>43</td>\n",
       "      <td>2.0</td>\n",
       "      <td>125510.82</td>\n",
       "      <td>1</td>\n",
       "      <td>1</td>\n",
       "      <td>1</td>\n",
       "      <td>79084.10</td>\n",
       "    </tr>\n",
       "  </tbody>\n",
       "</table>\n",
       "</div>"
      ],
      "text/plain": [
       "   CreditScore Geography  Gender  Age  Tenure    Balance  NumOfProducts  \\\n",
       "0          619    France  Female   42     2.0       0.00              1   \n",
       "1          608     Spain  Female   41     1.0   83807.86              1   \n",
       "2          502    France  Female   42     8.0  159660.80              3   \n",
       "3          699    France  Female   39     1.0       0.00              2   \n",
       "4          850     Spain  Female   43     2.0  125510.82              1   \n",
       "\n",
       "   HasCrCard  IsActiveMember  EstimatedSalary  \n",
       "0          1               1        101348.88  \n",
       "1          0               1        112542.58  \n",
       "2          1               0        113931.57  \n",
       "3          0               0         93826.63  \n",
       "4          1               1         79084.10  "
      ]
     },
     "metadata": {},
     "output_type": "display_data"
    }
   ],
   "source": [
    "# Drop the features that are not essential to the model\n",
    "columns_to_drop = ['RowNumber', 'CustomerId', 'Surname']\n",
    "features = features.drop(columns=columns_to_drop, axis=1)\n",
    "display(features.head())"
   ]
  },
  {
   "cell_type": "markdown",
   "metadata": {},
   "source": [
    "We have to explore the values for each column in the 'features' variable, to decide if they're:<br>\n",
    "• Nominal categorical values (suitable for One Hot Encoding)<br>\n",
    "• Ordinal categorical values (suitable for Label Encoding)<br>\n",
    "• Numerical continuous values (suitable for Standard Scaling)<br>"
   ]
  },
  {
   "cell_type": "code",
   "execution_count": 7,
   "metadata": {},
   "outputs": [
    {
     "name": "stdout",
     "output_type": "stream",
     "text": [
      "CreditScore: [350 351 358 359 363 365 367 373 376 382 383 386 395 399 401 404 405 407\n",
      " 408 410 411 412 413 414 415 416 417 418 419 420 421 422 423 424 425 426\n",
      " 427 428 429 430 431 432 433 434 435 436 437 438 439 440 441 442 443 444\n",
      " 445 446 447 448 449 450 451 452 453 454 455 456 457 458 459 460 461 462\n",
      " 463 464 465 466 467 468 469 470 471 472 473 474 475 476 477 478 479 480\n",
      " 481 482 483 484 485 486 487 488 489 490 491 492 493 494 495 496 497 498\n",
      " 499 500 501 502 503 504 505 506 507 508 509 510 511 512 513 514 515 516\n",
      " 517 518 519 520 521 522 523 524 525 526 527 528 529 530 531 532 533 534\n",
      " 535 536 537 538 539 540 541 542 543 544 545 546 547 548 549 550 551 552\n",
      " 553 554 555 556 557 558 559 560 561 562 563 564 565 566 567 568 569 570\n",
      " 571 572 573 574 575 576 577 578 579 580 581 582 583 584 585 586 587 588\n",
      " 589 590 591 592 593 594 595 596 597 598 599 600 601 602 603 604 605 606\n",
      " 607 608 609 610 611 612 613 614 615 616 617 618 619 620 621 622 623 624\n",
      " 625 626 627 628 629 630 631 632 633 634 635 636 637 638 639 640 641 642\n",
      " 643 644 645 646 647 648 649 650 651 652 653 654 655 656 657 658 659 660\n",
      " 661 662 663 664 665 666 667 668 669 670 671 672 673 674 675 676 677 678\n",
      " 679 680 681 682 683 684 685 686 687 688 689 690 691 692 693 694 695 696\n",
      " 697 698 699 700 701 702 703 704 705 706 707 708 709 710 711 712 713 714\n",
      " 715 716 717 718 719 720 721 722 723 724 725 726 727 728 729 730 731 732\n",
      " 733 734 735 736 737 738 739 740 741 742 743 744 745 746 747 748 749 750\n",
      " 751 752 753 754 755 756 757 758 759 760 761 762 763 764 765 766 767 768\n",
      " 769 770 771 772 773 774 775 776 777 778 779 780 781 782 783 784 785 786\n",
      " 787 788 789 790 791 792 793 794 795 796 797 798 799 800 801 802 803 804\n",
      " 805 806 807 808 809 810 811 812 813 814 815 816 817 818 819 820 821 822\n",
      " 823 824 825 826 827 828 829 830 831 832 833 834 835 836 837 838 839 840\n",
      " 841 842 843 844 845 846 847 848 849 850]\n",
      "Geography: ['France' 'Germany' 'Spain']\n",
      "Gender: ['Female' 'Male']\n",
      "Age: [18 19 20 21 22 23 24 25 26 27 28 29 30 31 32 33 34 35 36 37 38 39 40 41\n",
      " 42 43 44 45 46 47 48 49 50 51 52 53 54 55 56 57 58 59 60 61 62 63 64 65\n",
      " 66 67 68 69 70 71 72 73 74 75 76 77 78 79 80 81 82 83 84 85 88 92]\n",
      "Tenure: [ 0.  1.  2.  3.  4.  5.  6.  7.  8.  9. 10. nan]\n",
      "Balance: [     0.     3768.69  12459.19 ... 222267.63 238387.56 250898.09]\n",
      "NumOfProducts: [1 2 3 4]\n",
      "HasCrCard: [0 1]\n",
      "IsActiveMember: [0 1]\n",
      "EstimatedSalary: [1.1580000e+01 9.0070000e+01 9.1750000e+01 ... 1.9995333e+05 1.9997074e+05\n",
      " 1.9999248e+05]\n"
     ]
    }
   ],
   "source": [
    "# Find the array of values for each feature.\n",
    "# Write a function to print unique values for each column\n",
    "def print_unique_values(data):\n",
    "    categorical_columns = data.columns.tolist() # create a list of columns from the input parameter\n",
    "    for column in categorical_columns:\n",
    "        unique_values = np.sort(data[column].unique()) # sort the unique values for each collumn\n",
    "        print(f\"{column}:\", unique_values) # print the column name and the array of unique values\n",
    "\n",
    "print_unique_values(features)"
   ]
  },
  {
   "cell_type": "markdown",
   "metadata": {},
   "source": [
    "From the values displayed for each column we can assume the following distribution:<br>\n",
    "• **Nominal categorical values:** 'Geography', 'Gender'<br>\n",
    "• **Ordinal categorical values:** 'Tenure', 'NumOfProducts', 'HasCrCard', 'IsActiveMember'<br>\n",
    "• **Numerical continuous values:** 'CreditScore', 'Age', 'Balance', 'EstimatedSalary'<br>"
   ]
  },
  {
   "cell_type": "code",
   "execution_count": 8,
   "metadata": {},
   "outputs": [
    {
     "data": {
      "text/html": [
       "<div>\n",
       "<style scoped>\n",
       "    .dataframe tbody tr th:only-of-type {\n",
       "        vertical-align: middle;\n",
       "    }\n",
       "\n",
       "    .dataframe tbody tr th {\n",
       "        vertical-align: top;\n",
       "    }\n",
       "\n",
       "    .dataframe thead th {\n",
       "        text-align: right;\n",
       "    }\n",
       "</style>\n",
       "<table border=\"1\" class=\"dataframe\">\n",
       "  <thead>\n",
       "    <tr style=\"text-align: right;\">\n",
       "      <th></th>\n",
       "      <th>CreditScore</th>\n",
       "      <th>Age</th>\n",
       "      <th>Tenure</th>\n",
       "      <th>Balance</th>\n",
       "      <th>NumOfProducts</th>\n",
       "      <th>HasCrCard</th>\n",
       "      <th>IsActiveMember</th>\n",
       "      <th>EstimatedSalary</th>\n",
       "      <th>Geography_Germany</th>\n",
       "      <th>Geography_Spain</th>\n",
       "      <th>Gender_Male</th>\n",
       "    </tr>\n",
       "  </thead>\n",
       "  <tbody>\n",
       "    <tr>\n",
       "      <th>0</th>\n",
       "      <td>619</td>\n",
       "      <td>42</td>\n",
       "      <td>2.0</td>\n",
       "      <td>0.00</td>\n",
       "      <td>1</td>\n",
       "      <td>1</td>\n",
       "      <td>1</td>\n",
       "      <td>101348.88</td>\n",
       "      <td>0</td>\n",
       "      <td>0</td>\n",
       "      <td>0</td>\n",
       "    </tr>\n",
       "    <tr>\n",
       "      <th>1</th>\n",
       "      <td>608</td>\n",
       "      <td>41</td>\n",
       "      <td>1.0</td>\n",
       "      <td>83807.86</td>\n",
       "      <td>1</td>\n",
       "      <td>0</td>\n",
       "      <td>1</td>\n",
       "      <td>112542.58</td>\n",
       "      <td>0</td>\n",
       "      <td>1</td>\n",
       "      <td>0</td>\n",
       "    </tr>\n",
       "    <tr>\n",
       "      <th>2</th>\n",
       "      <td>502</td>\n",
       "      <td>42</td>\n",
       "      <td>8.0</td>\n",
       "      <td>159660.80</td>\n",
       "      <td>3</td>\n",
       "      <td>1</td>\n",
       "      <td>0</td>\n",
       "      <td>113931.57</td>\n",
       "      <td>0</td>\n",
       "      <td>0</td>\n",
       "      <td>0</td>\n",
       "    </tr>\n",
       "    <tr>\n",
       "      <th>3</th>\n",
       "      <td>699</td>\n",
       "      <td>39</td>\n",
       "      <td>1.0</td>\n",
       "      <td>0.00</td>\n",
       "      <td>2</td>\n",
       "      <td>0</td>\n",
       "      <td>0</td>\n",
       "      <td>93826.63</td>\n",
       "      <td>0</td>\n",
       "      <td>0</td>\n",
       "      <td>0</td>\n",
       "    </tr>\n",
       "    <tr>\n",
       "      <th>4</th>\n",
       "      <td>850</td>\n",
       "      <td>43</td>\n",
       "      <td>2.0</td>\n",
       "      <td>125510.82</td>\n",
       "      <td>1</td>\n",
       "      <td>1</td>\n",
       "      <td>1</td>\n",
       "      <td>79084.10</td>\n",
       "      <td>0</td>\n",
       "      <td>1</td>\n",
       "      <td>0</td>\n",
       "    </tr>\n",
       "  </tbody>\n",
       "</table>\n",
       "</div>"
      ],
      "text/plain": [
       "   CreditScore  Age  Tenure    Balance  NumOfProducts  HasCrCard  \\\n",
       "0          619   42     2.0       0.00              1          1   \n",
       "1          608   41     1.0   83807.86              1          0   \n",
       "2          502   42     8.0  159660.80              3          1   \n",
       "3          699   39     1.0       0.00              2          0   \n",
       "4          850   43     2.0  125510.82              1          1   \n",
       "\n",
       "   IsActiveMember  EstimatedSalary  Geography_Germany  Geography_Spain  \\\n",
       "0               1        101348.88                  0                0   \n",
       "1               1        112542.58                  0                1   \n",
       "2               0        113931.57                  0                0   \n",
       "3               0         93826.63                  0                0   \n",
       "4               1         79084.10                  0                1   \n",
       "\n",
       "   Gender_Male  \n",
       "0            0  \n",
       "1            0  \n",
       "2            0  \n",
       "3            0  \n",
       "4            0  "
      ]
     },
     "metadata": {},
     "output_type": "display_data"
    }
   ],
   "source": [
    "# Use One Hot Encoding on the 'features' variable. \n",
    "# (Drop_first=True) drops the first dummy feature to simplify the model\n",
    "features = pd.get_dummies(features, drop_first=True)\n",
    "display(features.head())"
   ]
  },
  {
   "cell_type": "markdown",
   "metadata": {},
   "source": [
    "One Hot Encoding affected the following nominal categorical features:<br>\n",
    "'Geography' - Has the values 'France', 'Germany' or 'Spain'. (OHE dropped Geography_France) <br>\n",
    "'Gender' — Has the values Male or Female (OHE dropped Gender_Female).<br>\n",
    "In both cases, no information is lost because a combination of 0's in the Germany and Spain columns = France, and a 0 in the Male column = Female."
   ]
  },
  {
   "cell_type": "code",
   "execution_count": 9,
   "metadata": {
    "scrolled": true
   },
   "outputs": [
    {
     "data": {
      "text/html": [
       "<div>\n",
       "<style scoped>\n",
       "    .dataframe tbody tr th:only-of-type {\n",
       "        vertical-align: middle;\n",
       "    }\n",
       "\n",
       "    .dataframe tbody tr th {\n",
       "        vertical-align: top;\n",
       "    }\n",
       "\n",
       "    .dataframe thead th {\n",
       "        text-align: right;\n",
       "    }\n",
       "</style>\n",
       "<table border=\"1\" class=\"dataframe\">\n",
       "  <thead>\n",
       "    <tr style=\"text-align: right;\">\n",
       "      <th></th>\n",
       "      <th>CreditScore</th>\n",
       "      <th>Age</th>\n",
       "      <th>Tenure</th>\n",
       "      <th>Balance</th>\n",
       "      <th>NumOfProducts</th>\n",
       "      <th>HasCrCard</th>\n",
       "      <th>IsActiveMember</th>\n",
       "      <th>EstimatedSalary</th>\n",
       "      <th>Geography_Germany</th>\n",
       "      <th>Geography_Spain</th>\n",
       "      <th>Gender_Male</th>\n",
       "      <th>Tenure_encoded</th>\n",
       "    </tr>\n",
       "  </thead>\n",
       "  <tbody>\n",
       "    <tr>\n",
       "      <th>0</th>\n",
       "      <td>619</td>\n",
       "      <td>42</td>\n",
       "      <td>2.0</td>\n",
       "      <td>0.00</td>\n",
       "      <td>1</td>\n",
       "      <td>1</td>\n",
       "      <td>1</td>\n",
       "      <td>101348.88</td>\n",
       "      <td>0</td>\n",
       "      <td>0</td>\n",
       "      <td>0</td>\n",
       "      <td>2</td>\n",
       "    </tr>\n",
       "    <tr>\n",
       "      <th>1</th>\n",
       "      <td>608</td>\n",
       "      <td>41</td>\n",
       "      <td>1.0</td>\n",
       "      <td>83807.86</td>\n",
       "      <td>1</td>\n",
       "      <td>0</td>\n",
       "      <td>1</td>\n",
       "      <td>112542.58</td>\n",
       "      <td>0</td>\n",
       "      <td>1</td>\n",
       "      <td>0</td>\n",
       "      <td>1</td>\n",
       "    </tr>\n",
       "    <tr>\n",
       "      <th>2</th>\n",
       "      <td>502</td>\n",
       "      <td>42</td>\n",
       "      <td>8.0</td>\n",
       "      <td>159660.80</td>\n",
       "      <td>3</td>\n",
       "      <td>1</td>\n",
       "      <td>0</td>\n",
       "      <td>113931.57</td>\n",
       "      <td>0</td>\n",
       "      <td>0</td>\n",
       "      <td>0</td>\n",
       "      <td>8</td>\n",
       "    </tr>\n",
       "    <tr>\n",
       "      <th>3</th>\n",
       "      <td>699</td>\n",
       "      <td>39</td>\n",
       "      <td>1.0</td>\n",
       "      <td>0.00</td>\n",
       "      <td>2</td>\n",
       "      <td>0</td>\n",
       "      <td>0</td>\n",
       "      <td>93826.63</td>\n",
       "      <td>0</td>\n",
       "      <td>0</td>\n",
       "      <td>0</td>\n",
       "      <td>1</td>\n",
       "    </tr>\n",
       "    <tr>\n",
       "      <th>4</th>\n",
       "      <td>850</td>\n",
       "      <td>43</td>\n",
       "      <td>2.0</td>\n",
       "      <td>125510.82</td>\n",
       "      <td>1</td>\n",
       "      <td>1</td>\n",
       "      <td>1</td>\n",
       "      <td>79084.10</td>\n",
       "      <td>0</td>\n",
       "      <td>1</td>\n",
       "      <td>0</td>\n",
       "      <td>2</td>\n",
       "    </tr>\n",
       "  </tbody>\n",
       "</table>\n",
       "</div>"
      ],
      "text/plain": [
       "   CreditScore  Age  Tenure    Balance  NumOfProducts  HasCrCard  \\\n",
       "0          619   42     2.0       0.00              1          1   \n",
       "1          608   41     1.0   83807.86              1          0   \n",
       "2          502   42     8.0  159660.80              3          1   \n",
       "3          699   39     1.0       0.00              2          0   \n",
       "4          850   43     2.0  125510.82              1          1   \n",
       "\n",
       "   IsActiveMember  EstimatedSalary  Geography_Germany  Geography_Spain  \\\n",
       "0               1        101348.88                  0                0   \n",
       "1               1        112542.58                  0                1   \n",
       "2               0        113931.57                  0                0   \n",
       "3               0         93826.63                  0                0   \n",
       "4               1         79084.10                  0                1   \n",
       "\n",
       "   Gender_Male  Tenure_encoded  \n",
       "0            0               2  \n",
       "1            0               1  \n",
       "2            0               8  \n",
       "3            0               1  \n",
       "4            0               2  "
      ]
     },
     "metadata": {},
     "output_type": "display_data"
    },
    {
     "name": "stdout",
     "output_type": "stream",
     "text": [
      "Values in 'Tenure_encoded': [ 0  1  2  3  4  5  6  7  8  9 10 11]\n"
     ]
    }
   ],
   "source": [
    "# Use LabelEncoder on the 'features' variable. \n",
    "# Apply label encoding to the 'Tenure' column\n",
    "label_encoder = LabelEncoder()\n",
    "features['Tenure_encoded'] = label_encoder.fit_transform(features['Tenure'])\n",
    "display(features.head())\n",
    "print(\"Values in 'Tenure_encoded':\", np.sort(features['Tenure_encoded'].unique()))"
   ]
  },
  {
   "cell_type": "markdown",
   "metadata": {},
   "source": [
    "In the case of Label Encoding, the only ordinal categorical feature that we believe is valid to encode is 'Tenure', since it presents a discrete sequence of integers that represent different conditions (N years left to maturation). This approach also solves the problem of the NaN values we found earlier, since the LabelEncoder treats them as a separate category, assigning them a distinct value (Nan = 11). It makes sense to categorize NaN values, because they can also be significant for machine learning, since their presence can represent a distinct state that might be relevant to the model.<br> \n",
    "The features 'NumOfProducts', 'HasCrCard' and 'IsActiveMember' seem to be reasonably clean and formatted for machine learning. For example, if we use LabelEncoder on the 'NumOfProducts' column, the output would be that the values [0,1,2,3] are replaced for [1,2,3,4]. There is no real benefit in doing this so it's better to leave these values as they are."
   ]
  },
  {
   "cell_type": "markdown",
   "metadata": {},
   "source": [
    "<div class=\"alert alert-warning\">\n",
    "<b>Reviewer's comment</b>\n",
    "\n",
    "Yeah but replacing NaN with 11 is not canonical, e.g. it could have just as easily been encoded as 0 or -1, and the models will treat it as a numerical variable anyway\n",
    "\n",
    "</div>"
   ]
  },
  {
   "cell_type": "code",
   "execution_count": 10,
   "metadata": {},
   "outputs": [
    {
     "data": {
      "text/html": [
       "<div>\n",
       "<style scoped>\n",
       "    .dataframe tbody tr th:only-of-type {\n",
       "        vertical-align: middle;\n",
       "    }\n",
       "\n",
       "    .dataframe tbody tr th {\n",
       "        vertical-align: top;\n",
       "    }\n",
       "\n",
       "    .dataframe thead th {\n",
       "        text-align: right;\n",
       "    }\n",
       "</style>\n",
       "<table border=\"1\" class=\"dataframe\">\n",
       "  <thead>\n",
       "    <tr style=\"text-align: right;\">\n",
       "      <th></th>\n",
       "      <th>CreditScore</th>\n",
       "      <th>Age</th>\n",
       "      <th>Balance</th>\n",
       "      <th>NumOfProducts</th>\n",
       "      <th>HasCrCard</th>\n",
       "      <th>IsActiveMember</th>\n",
       "      <th>EstimatedSalary</th>\n",
       "      <th>Geography_Germany</th>\n",
       "      <th>Geography_Spain</th>\n",
       "      <th>Gender_Male</th>\n",
       "      <th>Tenure</th>\n",
       "    </tr>\n",
       "  </thead>\n",
       "  <tbody>\n",
       "    <tr>\n",
       "      <th>0</th>\n",
       "      <td>619</td>\n",
       "      <td>42</td>\n",
       "      <td>0.00</td>\n",
       "      <td>1</td>\n",
       "      <td>1</td>\n",
       "      <td>1</td>\n",
       "      <td>101348.88</td>\n",
       "      <td>0</td>\n",
       "      <td>0</td>\n",
       "      <td>0</td>\n",
       "      <td>2</td>\n",
       "    </tr>\n",
       "    <tr>\n",
       "      <th>1</th>\n",
       "      <td>608</td>\n",
       "      <td>41</td>\n",
       "      <td>83807.86</td>\n",
       "      <td>1</td>\n",
       "      <td>0</td>\n",
       "      <td>1</td>\n",
       "      <td>112542.58</td>\n",
       "      <td>0</td>\n",
       "      <td>1</td>\n",
       "      <td>0</td>\n",
       "      <td>1</td>\n",
       "    </tr>\n",
       "    <tr>\n",
       "      <th>2</th>\n",
       "      <td>502</td>\n",
       "      <td>42</td>\n",
       "      <td>159660.80</td>\n",
       "      <td>3</td>\n",
       "      <td>1</td>\n",
       "      <td>0</td>\n",
       "      <td>113931.57</td>\n",
       "      <td>0</td>\n",
       "      <td>0</td>\n",
       "      <td>0</td>\n",
       "      <td>8</td>\n",
       "    </tr>\n",
       "    <tr>\n",
       "      <th>3</th>\n",
       "      <td>699</td>\n",
       "      <td>39</td>\n",
       "      <td>0.00</td>\n",
       "      <td>2</td>\n",
       "      <td>0</td>\n",
       "      <td>0</td>\n",
       "      <td>93826.63</td>\n",
       "      <td>0</td>\n",
       "      <td>0</td>\n",
       "      <td>0</td>\n",
       "      <td>1</td>\n",
       "    </tr>\n",
       "    <tr>\n",
       "      <th>4</th>\n",
       "      <td>850</td>\n",
       "      <td>43</td>\n",
       "      <td>125510.82</td>\n",
       "      <td>1</td>\n",
       "      <td>1</td>\n",
       "      <td>1</td>\n",
       "      <td>79084.10</td>\n",
       "      <td>0</td>\n",
       "      <td>1</td>\n",
       "      <td>0</td>\n",
       "      <td>2</td>\n",
       "    </tr>\n",
       "  </tbody>\n",
       "</table>\n",
       "</div>"
      ],
      "text/plain": [
       "   CreditScore  Age    Balance  NumOfProducts  HasCrCard  IsActiveMember  \\\n",
       "0          619   42       0.00              1          1               1   \n",
       "1          608   41   83807.86              1          0               1   \n",
       "2          502   42  159660.80              3          1               0   \n",
       "3          699   39       0.00              2          0               0   \n",
       "4          850   43  125510.82              1          1               1   \n",
       "\n",
       "   EstimatedSalary  Geography_Germany  Geography_Spain  Gender_Male  Tenure  \n",
       "0        101348.88                  0                0            0       2  \n",
       "1        112542.58                  0                1            0       1  \n",
       "2        113931.57                  0                0            0       8  \n",
       "3         93826.63                  0                0            0       1  \n",
       "4         79084.10                  0                1            0       2  "
      ]
     },
     "metadata": {},
     "output_type": "display_data"
    },
    {
     "name": "stdout",
     "output_type": "stream",
     "text": [
      "(10000, 11)\n"
     ]
    }
   ],
   "source": [
    "# Drop the 'Tenure' column and rename the 'Tenure_encoded' column\n",
    "features = features.drop('Tenure', axis=1)\n",
    "features.rename(columns={'Tenure_encoded': 'Tenure'}, inplace=True)\n",
    "display(features.head())\n",
    "print(features.shape)"
   ]
  },
  {
   "cell_type": "markdown",
   "metadata": {},
   "source": [
    "<div class=\"alert alert-success\">\n",
    "<b>Reviewer's comment</b>\n",
    "\n",
    "Good job encoding categorical features\n",
    "\n",
    "</div>"
   ]
  },
  {
   "cell_type": "code",
   "execution_count": 11,
   "metadata": {},
   "outputs": [
    {
     "data": {
      "text/html": [
       "<div>\n",
       "<style scoped>\n",
       "    .dataframe tbody tr th:only-of-type {\n",
       "        vertical-align: middle;\n",
       "    }\n",
       "\n",
       "    .dataframe tbody tr th {\n",
       "        vertical-align: top;\n",
       "    }\n",
       "\n",
       "    .dataframe thead th {\n",
       "        text-align: right;\n",
       "    }\n",
       "</style>\n",
       "<table border=\"1\" class=\"dataframe\">\n",
       "  <thead>\n",
       "    <tr style=\"text-align: right;\">\n",
       "      <th></th>\n",
       "      <th>CreditScore</th>\n",
       "      <th>Age</th>\n",
       "      <th>Balance</th>\n",
       "      <th>NumOfProducts</th>\n",
       "      <th>HasCrCard</th>\n",
       "      <th>IsActiveMember</th>\n",
       "      <th>EstimatedSalary</th>\n",
       "      <th>Geography_Germany</th>\n",
       "      <th>Geography_Spain</th>\n",
       "      <th>Gender_Male</th>\n",
       "      <th>Tenure</th>\n",
       "    </tr>\n",
       "  </thead>\n",
       "  <tbody>\n",
       "    <tr>\n",
       "      <th>7479</th>\n",
       "      <td>567</td>\n",
       "      <td>35</td>\n",
       "      <td>153137.74</td>\n",
       "      <td>1</td>\n",
       "      <td>1</td>\n",
       "      <td>0</td>\n",
       "      <td>88659.07</td>\n",
       "      <td>0</td>\n",
       "      <td>1</td>\n",
       "      <td>1</td>\n",
       "      <td>8</td>\n",
       "    </tr>\n",
       "    <tr>\n",
       "      <th>3411</th>\n",
       "      <td>711</td>\n",
       "      <td>37</td>\n",
       "      <td>113899.92</td>\n",
       "      <td>1</td>\n",
       "      <td>0</td>\n",
       "      <td>0</td>\n",
       "      <td>80215.20</td>\n",
       "      <td>0</td>\n",
       "      <td>0</td>\n",
       "      <td>0</td>\n",
       "      <td>8</td>\n",
       "    </tr>\n",
       "    <tr>\n",
       "      <th>6027</th>\n",
       "      <td>850</td>\n",
       "      <td>44</td>\n",
       "      <td>140393.65</td>\n",
       "      <td>2</td>\n",
       "      <td>0</td>\n",
       "      <td>1</td>\n",
       "      <td>186285.52</td>\n",
       "      <td>1</td>\n",
       "      <td>0</td>\n",
       "      <td>1</td>\n",
       "      <td>3</td>\n",
       "    </tr>\n",
       "    <tr>\n",
       "      <th>1247</th>\n",
       "      <td>512</td>\n",
       "      <td>24</td>\n",
       "      <td>0.00</td>\n",
       "      <td>2</td>\n",
       "      <td>1</td>\n",
       "      <td>0</td>\n",
       "      <td>37654.31</td>\n",
       "      <td>0</td>\n",
       "      <td>0</td>\n",
       "      <td>1</td>\n",
       "      <td>6</td>\n",
       "    </tr>\n",
       "    <tr>\n",
       "      <th>3716</th>\n",
       "      <td>665</td>\n",
       "      <td>27</td>\n",
       "      <td>147435.96</td>\n",
       "      <td>1</td>\n",
       "      <td>0</td>\n",
       "      <td>0</td>\n",
       "      <td>187508.06</td>\n",
       "      <td>1</td>\n",
       "      <td>0</td>\n",
       "      <td>0</td>\n",
       "      <td>2</td>\n",
       "    </tr>\n",
       "  </tbody>\n",
       "</table>\n",
       "</div>"
      ],
      "text/plain": [
       "      CreditScore  Age    Balance  NumOfProducts  HasCrCard  IsActiveMember  \\\n",
       "7479          567   35  153137.74              1          1               0   \n",
       "3411          711   37  113899.92              1          0               0   \n",
       "6027          850   44  140393.65              2          0               1   \n",
       "1247          512   24       0.00              2          1               0   \n",
       "3716          665   27  147435.96              1          0               0   \n",
       "\n",
       "      EstimatedSalary  Geography_Germany  Geography_Spain  Gender_Male  Tenure  \n",
       "7479         88659.07                  0                1            1       8  \n",
       "3411         80215.20                  0                0            0       8  \n",
       "6027        186285.52                  1                0            1       3  \n",
       "1247         37654.31                  0                0            1       6  \n",
       "3716        187508.06                  1                0            0       2  "
      ]
     },
     "metadata": {},
     "output_type": "display_data"
    },
    {
     "data": {
      "text/plain": [
       "(6000, 11)"
      ]
     },
     "metadata": {},
     "output_type": "display_data"
    },
    {
     "data": {
      "text/plain": [
       "7479    0\n",
       "3411    0\n",
       "6027    0\n",
       "1247    0\n",
       "3716    0\n",
       "Name: Exited, dtype: int64"
      ]
     },
     "metadata": {},
     "output_type": "display_data"
    },
    {
     "data": {
      "text/plain": [
       "(6000,)"
      ]
     },
     "metadata": {},
     "output_type": "display_data"
    },
    {
     "data": {
      "text/html": [
       "<div>\n",
       "<style scoped>\n",
       "    .dataframe tbody tr th:only-of-type {\n",
       "        vertical-align: middle;\n",
       "    }\n",
       "\n",
       "    .dataframe tbody tr th {\n",
       "        vertical-align: top;\n",
       "    }\n",
       "\n",
       "    .dataframe thead th {\n",
       "        text-align: right;\n",
       "    }\n",
       "</style>\n",
       "<table border=\"1\" class=\"dataframe\">\n",
       "  <thead>\n",
       "    <tr style=\"text-align: right;\">\n",
       "      <th></th>\n",
       "      <th>CreditScore</th>\n",
       "      <th>Age</th>\n",
       "      <th>Balance</th>\n",
       "      <th>NumOfProducts</th>\n",
       "      <th>HasCrCard</th>\n",
       "      <th>IsActiveMember</th>\n",
       "      <th>EstimatedSalary</th>\n",
       "      <th>Geography_Germany</th>\n",
       "      <th>Geography_Spain</th>\n",
       "      <th>Gender_Male</th>\n",
       "      <th>Tenure</th>\n",
       "    </tr>\n",
       "  </thead>\n",
       "  <tbody>\n",
       "    <tr>\n",
       "      <th>8532</th>\n",
       "      <td>585</td>\n",
       "      <td>35</td>\n",
       "      <td>0.00</td>\n",
       "      <td>2</td>\n",
       "      <td>1</td>\n",
       "      <td>0</td>\n",
       "      <td>98621.04</td>\n",
       "      <td>0</td>\n",
       "      <td>0</td>\n",
       "      <td>0</td>\n",
       "      <td>2</td>\n",
       "    </tr>\n",
       "    <tr>\n",
       "      <th>5799</th>\n",
       "      <td>625</td>\n",
       "      <td>45</td>\n",
       "      <td>0.00</td>\n",
       "      <td>1</td>\n",
       "      <td>1</td>\n",
       "      <td>1</td>\n",
       "      <td>184474.15</td>\n",
       "      <td>0</td>\n",
       "      <td>0</td>\n",
       "      <td>0</td>\n",
       "      <td>3</td>\n",
       "    </tr>\n",
       "    <tr>\n",
       "      <th>5511</th>\n",
       "      <td>667</td>\n",
       "      <td>32</td>\n",
       "      <td>103846.65</td>\n",
       "      <td>1</td>\n",
       "      <td>1</td>\n",
       "      <td>0</td>\n",
       "      <td>20560.69</td>\n",
       "      <td>1</td>\n",
       "      <td>0</td>\n",
       "      <td>1</td>\n",
       "      <td>0</td>\n",
       "    </tr>\n",
       "    <tr>\n",
       "      <th>7365</th>\n",
       "      <td>568</td>\n",
       "      <td>36</td>\n",
       "      <td>153610.61</td>\n",
       "      <td>1</td>\n",
       "      <td>1</td>\n",
       "      <td>1</td>\n",
       "      <td>54083.80</td>\n",
       "      <td>0</td>\n",
       "      <td>1</td>\n",
       "      <td>0</td>\n",
       "      <td>10</td>\n",
       "    </tr>\n",
       "    <tr>\n",
       "      <th>7367</th>\n",
       "      <td>606</td>\n",
       "      <td>42</td>\n",
       "      <td>0.00</td>\n",
       "      <td>2</td>\n",
       "      <td>1</td>\n",
       "      <td>0</td>\n",
       "      <td>177938.52</td>\n",
       "      <td>0</td>\n",
       "      <td>1</td>\n",
       "      <td>1</td>\n",
       "      <td>10</td>\n",
       "    </tr>\n",
       "  </tbody>\n",
       "</table>\n",
       "</div>"
      ],
      "text/plain": [
       "      CreditScore  Age    Balance  NumOfProducts  HasCrCard  IsActiveMember  \\\n",
       "8532          585   35       0.00              2          1               0   \n",
       "5799          625   45       0.00              1          1               1   \n",
       "5511          667   32  103846.65              1          1               0   \n",
       "7365          568   36  153610.61              1          1               1   \n",
       "7367          606   42       0.00              2          1               0   \n",
       "\n",
       "      EstimatedSalary  Geography_Germany  Geography_Spain  Gender_Male  Tenure  \n",
       "8532         98621.04                  0                0            0       2  \n",
       "5799        184474.15                  0                0            0       3  \n",
       "5511         20560.69                  1                0            1       0  \n",
       "7365         54083.80                  0                1            0      10  \n",
       "7367        177938.52                  0                1            1      10  "
      ]
     },
     "metadata": {},
     "output_type": "display_data"
    },
    {
     "data": {
      "text/plain": [
       "(2000, 11)"
      ]
     },
     "metadata": {},
     "output_type": "display_data"
    },
    {
     "data": {
      "text/plain": [
       "8532    1\n",
       "5799    1\n",
       "5511    0\n",
       "7365    1\n",
       "7367    0\n",
       "Name: Exited, dtype: int64"
      ]
     },
     "metadata": {},
     "output_type": "display_data"
    },
    {
     "data": {
      "text/plain": [
       "(2000,)"
      ]
     },
     "metadata": {},
     "output_type": "display_data"
    },
    {
     "data": {
      "text/html": [
       "<div>\n",
       "<style scoped>\n",
       "    .dataframe tbody tr th:only-of-type {\n",
       "        vertical-align: middle;\n",
       "    }\n",
       "\n",
       "    .dataframe tbody tr th {\n",
       "        vertical-align: top;\n",
       "    }\n",
       "\n",
       "    .dataframe thead th {\n",
       "        text-align: right;\n",
       "    }\n",
       "</style>\n",
       "<table border=\"1\" class=\"dataframe\">\n",
       "  <thead>\n",
       "    <tr style=\"text-align: right;\">\n",
       "      <th></th>\n",
       "      <th>CreditScore</th>\n",
       "      <th>Age</th>\n",
       "      <th>Balance</th>\n",
       "      <th>NumOfProducts</th>\n",
       "      <th>HasCrCard</th>\n",
       "      <th>IsActiveMember</th>\n",
       "      <th>EstimatedSalary</th>\n",
       "      <th>Geography_Germany</th>\n",
       "      <th>Geography_Spain</th>\n",
       "      <th>Gender_Male</th>\n",
       "      <th>Tenure</th>\n",
       "    </tr>\n",
       "  </thead>\n",
       "  <tbody>\n",
       "    <tr>\n",
       "      <th>7041</th>\n",
       "      <td>438</td>\n",
       "      <td>38</td>\n",
       "      <td>0.00</td>\n",
       "      <td>2</td>\n",
       "      <td>1</td>\n",
       "      <td>0</td>\n",
       "      <td>136859.55</td>\n",
       "      <td>0</td>\n",
       "      <td>0</td>\n",
       "      <td>1</td>\n",
       "      <td>2</td>\n",
       "    </tr>\n",
       "    <tr>\n",
       "      <th>5709</th>\n",
       "      <td>644</td>\n",
       "      <td>39</td>\n",
       "      <td>0.00</td>\n",
       "      <td>1</td>\n",
       "      <td>1</td>\n",
       "      <td>0</td>\n",
       "      <td>3740.93</td>\n",
       "      <td>0</td>\n",
       "      <td>0</td>\n",
       "      <td>0</td>\n",
       "      <td>9</td>\n",
       "    </tr>\n",
       "    <tr>\n",
       "      <th>7117</th>\n",
       "      <td>564</td>\n",
       "      <td>31</td>\n",
       "      <td>121461.87</td>\n",
       "      <td>1</td>\n",
       "      <td>1</td>\n",
       "      <td>1</td>\n",
       "      <td>20432.09</td>\n",
       "      <td>0</td>\n",
       "      <td>1</td>\n",
       "      <td>1</td>\n",
       "      <td>5</td>\n",
       "    </tr>\n",
       "    <tr>\n",
       "      <th>7775</th>\n",
       "      <td>628</td>\n",
       "      <td>40</td>\n",
       "      <td>0.00</td>\n",
       "      <td>2</td>\n",
       "      <td>1</td>\n",
       "      <td>0</td>\n",
       "      <td>103832.58</td>\n",
       "      <td>0</td>\n",
       "      <td>1</td>\n",
       "      <td>1</td>\n",
       "      <td>10</td>\n",
       "    </tr>\n",
       "    <tr>\n",
       "      <th>8735</th>\n",
       "      <td>728</td>\n",
       "      <td>30</td>\n",
       "      <td>114835.43</td>\n",
       "      <td>1</td>\n",
       "      <td>0</td>\n",
       "      <td>1</td>\n",
       "      <td>37662.49</td>\n",
       "      <td>0</td>\n",
       "      <td>0</td>\n",
       "      <td>1</td>\n",
       "      <td>10</td>\n",
       "    </tr>\n",
       "  </tbody>\n",
       "</table>\n",
       "</div>"
      ],
      "text/plain": [
       "      CreditScore  Age    Balance  NumOfProducts  HasCrCard  IsActiveMember  \\\n",
       "7041          438   38       0.00              2          1               0   \n",
       "5709          644   39       0.00              1          1               0   \n",
       "7117          564   31  121461.87              1          1               1   \n",
       "7775          628   40       0.00              2          1               0   \n",
       "8735          728   30  114835.43              1          0               1   \n",
       "\n",
       "      EstimatedSalary  Geography_Germany  Geography_Spain  Gender_Male  Tenure  \n",
       "7041        136859.55                  0                0            1       2  \n",
       "5709          3740.93                  0                0            0       9  \n",
       "7117         20432.09                  0                1            1       5  \n",
       "7775        103832.58                  0                1            1      10  \n",
       "8735         37662.49                  0                0            1      10  "
      ]
     },
     "metadata": {},
     "output_type": "display_data"
    },
    {
     "data": {
      "text/plain": [
       "(2000, 11)"
      ]
     },
     "metadata": {},
     "output_type": "display_data"
    },
    {
     "data": {
      "text/plain": [
       "7041    0\n",
       "5709    0\n",
       "7117    1\n",
       "7775    0\n",
       "8735    0\n",
       "Name: Exited, dtype: int64"
      ]
     },
     "metadata": {},
     "output_type": "display_data"
    },
    {
     "data": {
      "text/plain": [
       "(2000,)"
      ]
     },
     "metadata": {},
     "output_type": "display_data"
    }
   ],
   "source": [
    "# Split the 'target' and 'feature' variables in training, validation and test sets (60/20/20)\n",
    "# Split 60/40 in Training and Temporary sets\n",
    "features_train, features_temp, target_train, target_temp = train_test_split(\n",
    "    features, target, test_size=0.4, random_state=12345)\n",
    "# Split Temporary set 50/50 in Validation and Test sets\n",
    "features_valid, features_test, target_valid, target_test = train_test_split(\n",
    "    features_temp, target_temp, test_size=0.5, random_state=12345)\n",
    "\n",
    "# Display shapes and first 5 rows\n",
    "display(features_train.head())\n",
    "display(features_train.shape)\n",
    "display(target_train.head())\n",
    "display(target_train.shape)\n",
    "display(features_valid.head())\n",
    "display(features_valid.shape)\n",
    "display(target_valid.head())\n",
    "display(target_valid.shape)\n",
    "display(features_test.head())\n",
    "display(features_test.shape)\n",
    "display(target_test.head())\n",
    "display(target_test.shape)"
   ]
  },
  {
   "cell_type": "code",
   "execution_count": 12,
   "metadata": {},
   "outputs": [
    {
     "data": {
      "text/html": [
       "<div>\n",
       "<style scoped>\n",
       "    .dataframe tbody tr th:only-of-type {\n",
       "        vertical-align: middle;\n",
       "    }\n",
       "\n",
       "    .dataframe tbody tr th {\n",
       "        vertical-align: top;\n",
       "    }\n",
       "\n",
       "    .dataframe thead th {\n",
       "        text-align: right;\n",
       "    }\n",
       "</style>\n",
       "<table border=\"1\" class=\"dataframe\">\n",
       "  <thead>\n",
       "    <tr style=\"text-align: right;\">\n",
       "      <th></th>\n",
       "      <th>CreditScore</th>\n",
       "      <th>Age</th>\n",
       "      <th>Balance</th>\n",
       "      <th>NumOfProducts</th>\n",
       "      <th>HasCrCard</th>\n",
       "      <th>IsActiveMember</th>\n",
       "      <th>EstimatedSalary</th>\n",
       "      <th>Geography_Germany</th>\n",
       "      <th>Geography_Spain</th>\n",
       "      <th>Gender_Male</th>\n",
       "      <th>Tenure</th>\n",
       "    </tr>\n",
       "  </thead>\n",
       "  <tbody>\n",
       "    <tr>\n",
       "      <th>7479</th>\n",
       "      <td>-0.886751</td>\n",
       "      <td>-0.373192</td>\n",
       "      <td>1.232271</td>\n",
       "      <td>1</td>\n",
       "      <td>1</td>\n",
       "      <td>0</td>\n",
       "      <td>-0.187705</td>\n",
       "      <td>0</td>\n",
       "      <td>1</td>\n",
       "      <td>1</td>\n",
       "      <td>8</td>\n",
       "    </tr>\n",
       "    <tr>\n",
       "      <th>3411</th>\n",
       "      <td>0.608663</td>\n",
       "      <td>-0.183385</td>\n",
       "      <td>0.600563</td>\n",
       "      <td>1</td>\n",
       "      <td>0</td>\n",
       "      <td>0</td>\n",
       "      <td>-0.333945</td>\n",
       "      <td>0</td>\n",
       "      <td>0</td>\n",
       "      <td>0</td>\n",
       "      <td>8</td>\n",
       "    </tr>\n",
       "    <tr>\n",
       "      <th>6027</th>\n",
       "      <td>2.052152</td>\n",
       "      <td>0.480939</td>\n",
       "      <td>1.027098</td>\n",
       "      <td>2</td>\n",
       "      <td>0</td>\n",
       "      <td>1</td>\n",
       "      <td>1.503095</td>\n",
       "      <td>1</td>\n",
       "      <td>0</td>\n",
       "      <td>1</td>\n",
       "      <td>3</td>\n",
       "    </tr>\n",
       "    <tr>\n",
       "      <th>1247</th>\n",
       "      <td>-1.457915</td>\n",
       "      <td>-1.417129</td>\n",
       "      <td>-1.233163</td>\n",
       "      <td>2</td>\n",
       "      <td>1</td>\n",
       "      <td>0</td>\n",
       "      <td>-1.071061</td>\n",
       "      <td>0</td>\n",
       "      <td>0</td>\n",
       "      <td>1</td>\n",
       "      <td>6</td>\n",
       "    </tr>\n",
       "    <tr>\n",
       "      <th>3716</th>\n",
       "      <td>0.130961</td>\n",
       "      <td>-1.132419</td>\n",
       "      <td>1.140475</td>\n",
       "      <td>1</td>\n",
       "      <td>0</td>\n",
       "      <td>0</td>\n",
       "      <td>1.524268</td>\n",
       "      <td>1</td>\n",
       "      <td>0</td>\n",
       "      <td>0</td>\n",
       "      <td>2</td>\n",
       "    </tr>\n",
       "  </tbody>\n",
       "</table>\n",
       "</div>"
      ],
      "text/plain": [
       "      CreditScore       Age   Balance  NumOfProducts  HasCrCard  \\\n",
       "7479    -0.886751 -0.373192  1.232271              1          1   \n",
       "3411     0.608663 -0.183385  0.600563              1          0   \n",
       "6027     2.052152  0.480939  1.027098              2          0   \n",
       "1247    -1.457915 -1.417129 -1.233163              2          1   \n",
       "3716     0.130961 -1.132419  1.140475              1          0   \n",
       "\n",
       "      IsActiveMember  EstimatedSalary  Geography_Germany  Geography_Spain  \\\n",
       "7479               0        -0.187705                  0                1   \n",
       "3411               0        -0.333945                  0                0   \n",
       "6027               1         1.503095                  1                0   \n",
       "1247               0        -1.071061                  0                0   \n",
       "3716               0         1.524268                  1                0   \n",
       "\n",
       "      Gender_Male  Tenure  \n",
       "7479            1       8  \n",
       "3411            0       8  \n",
       "6027            1       3  \n",
       "1247            1       6  \n",
       "3716            0       2  "
      ]
     },
     "metadata": {},
     "output_type": "display_data"
    },
    {
     "name": "stdout",
     "output_type": "stream",
     "text": [
      "(6000, 11)\n"
     ]
    },
    {
     "data": {
      "text/html": [
       "<div>\n",
       "<style scoped>\n",
       "    .dataframe tbody tr th:only-of-type {\n",
       "        vertical-align: middle;\n",
       "    }\n",
       "\n",
       "    .dataframe tbody tr th {\n",
       "        vertical-align: top;\n",
       "    }\n",
       "\n",
       "    .dataframe thead th {\n",
       "        text-align: right;\n",
       "    }\n",
       "</style>\n",
       "<table border=\"1\" class=\"dataframe\">\n",
       "  <thead>\n",
       "    <tr style=\"text-align: right;\">\n",
       "      <th></th>\n",
       "      <th>CreditScore</th>\n",
       "      <th>Age</th>\n",
       "      <th>Balance</th>\n",
       "      <th>NumOfProducts</th>\n",
       "      <th>HasCrCard</th>\n",
       "      <th>IsActiveMember</th>\n",
       "      <th>EstimatedSalary</th>\n",
       "      <th>Geography_Germany</th>\n",
       "      <th>Geography_Spain</th>\n",
       "      <th>Gender_Male</th>\n",
       "      <th>Tenure</th>\n",
       "    </tr>\n",
       "  </thead>\n",
       "  <tbody>\n",
       "    <tr>\n",
       "      <th>8532</th>\n",
       "      <td>-0.643740</td>\n",
       "      <td>-0.366305</td>\n",
       "      <td>-1.235001</td>\n",
       "      <td>2</td>\n",
       "      <td>1</td>\n",
       "      <td>0</td>\n",
       "      <td>-0.043299</td>\n",
       "      <td>0</td>\n",
       "      <td>0</td>\n",
       "      <td>0</td>\n",
       "      <td>2</td>\n",
       "    </tr>\n",
       "    <tr>\n",
       "      <th>5799</th>\n",
       "      <td>-0.229103</td>\n",
       "      <td>0.567908</td>\n",
       "      <td>-1.235001</td>\n",
       "      <td>1</td>\n",
       "      <td>1</td>\n",
       "      <td>1</td>\n",
       "      <td>1.439245</td>\n",
       "      <td>0</td>\n",
       "      <td>0</td>\n",
       "      <td>0</td>\n",
       "      <td>3</td>\n",
       "    </tr>\n",
       "    <tr>\n",
       "      <th>5511</th>\n",
       "      <td>0.206266</td>\n",
       "      <td>-0.646569</td>\n",
       "      <td>0.421977</td>\n",
       "      <td>1</td>\n",
       "      <td>1</td>\n",
       "      <td>0</td>\n",
       "      <td>-1.391276</td>\n",
       "      <td>1</td>\n",
       "      <td>0</td>\n",
       "      <td>1</td>\n",
       "      <td>0</td>\n",
       "    </tr>\n",
       "    <tr>\n",
       "      <th>7365</th>\n",
       "      <td>-0.819960</td>\n",
       "      <td>-0.272884</td>\n",
       "      <td>1.216012</td>\n",
       "      <td>1</td>\n",
       "      <td>1</td>\n",
       "      <td>1</td>\n",
       "      <td>-0.812386</td>\n",
       "      <td>0</td>\n",
       "      <td>1</td>\n",
       "      <td>0</td>\n",
       "      <td>10</td>\n",
       "    </tr>\n",
       "    <tr>\n",
       "      <th>7367</th>\n",
       "      <td>-0.426055</td>\n",
       "      <td>0.287644</td>\n",
       "      <td>-1.235001</td>\n",
       "      <td>2</td>\n",
       "      <td>1</td>\n",
       "      <td>0</td>\n",
       "      <td>1.326385</td>\n",
       "      <td>0</td>\n",
       "      <td>1</td>\n",
       "      <td>1</td>\n",
       "      <td>10</td>\n",
       "    </tr>\n",
       "  </tbody>\n",
       "</table>\n",
       "</div>"
      ],
      "text/plain": [
       "      CreditScore       Age   Balance  NumOfProducts  HasCrCard  \\\n",
       "8532    -0.643740 -0.366305 -1.235001              2          1   \n",
       "5799    -0.229103  0.567908 -1.235001              1          1   \n",
       "5511     0.206266 -0.646569  0.421977              1          1   \n",
       "7365    -0.819960 -0.272884  1.216012              1          1   \n",
       "7367    -0.426055  0.287644 -1.235001              2          1   \n",
       "\n",
       "      IsActiveMember  EstimatedSalary  Geography_Germany  Geography_Spain  \\\n",
       "8532               0        -0.043299                  0                0   \n",
       "5799               1         1.439245                  0                0   \n",
       "5511               0        -1.391276                  1                0   \n",
       "7365               1        -0.812386                  0                1   \n",
       "7367               0         1.326385                  0                1   \n",
       "\n",
       "      Gender_Male  Tenure  \n",
       "8532            0       2  \n",
       "5799            0       3  \n",
       "5511            1       0  \n",
       "7365            0      10  \n",
       "7367            1      10  "
      ]
     },
     "metadata": {},
     "output_type": "display_data"
    },
    {
     "name": "stdout",
     "output_type": "stream",
     "text": [
      "(2000, 11)\n"
     ]
    },
    {
     "data": {
      "text/html": [
       "<div>\n",
       "<style scoped>\n",
       "    .dataframe tbody tr th:only-of-type {\n",
       "        vertical-align: middle;\n",
       "    }\n",
       "\n",
       "    .dataframe tbody tr th {\n",
       "        vertical-align: top;\n",
       "    }\n",
       "\n",
       "    .dataframe thead th {\n",
       "        text-align: right;\n",
       "    }\n",
       "</style>\n",
       "<table border=\"1\" class=\"dataframe\">\n",
       "  <thead>\n",
       "    <tr style=\"text-align: right;\">\n",
       "      <th></th>\n",
       "      <th>CreditScore</th>\n",
       "      <th>Age</th>\n",
       "      <th>Balance</th>\n",
       "      <th>NumOfProducts</th>\n",
       "      <th>HasCrCard</th>\n",
       "      <th>IsActiveMember</th>\n",
       "      <th>EstimatedSalary</th>\n",
       "      <th>Geography_Germany</th>\n",
       "      <th>Geography_Spain</th>\n",
       "      <th>Gender_Male</th>\n",
       "      <th>Tenure</th>\n",
       "    </tr>\n",
       "  </thead>\n",
       "  <tbody>\n",
       "    <tr>\n",
       "      <th>7041</th>\n",
       "      <td>-2.152343</td>\n",
       "      <td>-0.088115</td>\n",
       "      <td>-1.195546</td>\n",
       "      <td>2</td>\n",
       "      <td>1</td>\n",
       "      <td>0</td>\n",
       "      <td>0.639115</td>\n",
       "      <td>0</td>\n",
       "      <td>0</td>\n",
       "      <td>1</td>\n",
       "      <td>2</td>\n",
       "    </tr>\n",
       "    <tr>\n",
       "      <th>5709</th>\n",
       "      <td>-0.044761</td>\n",
       "      <td>0.010780</td>\n",
       "      <td>-1.195546</td>\n",
       "      <td>1</td>\n",
       "      <td>1</td>\n",
       "      <td>0</td>\n",
       "      <td>-1.722312</td>\n",
       "      <td>0</td>\n",
       "      <td>0</td>\n",
       "      <td>0</td>\n",
       "      <td>9</td>\n",
       "    </tr>\n",
       "    <tr>\n",
       "      <th>7117</th>\n",
       "      <td>-0.863239</td>\n",
       "      <td>-0.780381</td>\n",
       "      <td>0.734471</td>\n",
       "      <td>1</td>\n",
       "      <td>1</td>\n",
       "      <td>1</td>\n",
       "      <td>-1.426223</td>\n",
       "      <td>0</td>\n",
       "      <td>1</td>\n",
       "      <td>1</td>\n",
       "      <td>5</td>\n",
       "    </tr>\n",
       "    <tr>\n",
       "      <th>7775</th>\n",
       "      <td>-0.208456</td>\n",
       "      <td>0.109675</td>\n",
       "      <td>-1.195546</td>\n",
       "      <td>2</td>\n",
       "      <td>1</td>\n",
       "      <td>0</td>\n",
       "      <td>0.053240</td>\n",
       "      <td>0</td>\n",
       "      <td>1</td>\n",
       "      <td>1</td>\n",
       "      <td>10</td>\n",
       "    </tr>\n",
       "    <tr>\n",
       "      <th>8735</th>\n",
       "      <td>0.814642</td>\n",
       "      <td>-0.879276</td>\n",
       "      <td>0.629177</td>\n",
       "      <td>1</td>\n",
       "      <td>0</td>\n",
       "      <td>1</td>\n",
       "      <td>-1.120569</td>\n",
       "      <td>0</td>\n",
       "      <td>0</td>\n",
       "      <td>1</td>\n",
       "      <td>10</td>\n",
       "    </tr>\n",
       "  </tbody>\n",
       "</table>\n",
       "</div>"
      ],
      "text/plain": [
       "      CreditScore       Age   Balance  NumOfProducts  HasCrCard  \\\n",
       "7041    -2.152343 -0.088115 -1.195546              2          1   \n",
       "5709    -0.044761  0.010780 -1.195546              1          1   \n",
       "7117    -0.863239 -0.780381  0.734471              1          1   \n",
       "7775    -0.208456  0.109675 -1.195546              2          1   \n",
       "8735     0.814642 -0.879276  0.629177              1          0   \n",
       "\n",
       "      IsActiveMember  EstimatedSalary  Geography_Germany  Geography_Spain  \\\n",
       "7041               0         0.639115                  0                0   \n",
       "5709               0        -1.722312                  0                0   \n",
       "7117               1        -1.426223                  0                1   \n",
       "7775               0         0.053240                  0                1   \n",
       "8735               1        -1.120569                  0                0   \n",
       "\n",
       "      Gender_Male  Tenure  \n",
       "7041            1       2  \n",
       "5709            0       9  \n",
       "7117            1       5  \n",
       "7775            1      10  \n",
       "8735            1      10  "
      ]
     },
     "metadata": {},
     "output_type": "display_data"
    },
    {
     "name": "stdout",
     "output_type": "stream",
     "text": [
      "(2000, 11)\n"
     ]
    }
   ],
   "source": [
    "# Disable \"SettingWithCopyWarning\"\n",
    "pd.options.mode.chained_assignment = None\n",
    "\n",
    "# Use StandardScaler on the numeric columns in training, validation and test 'features' sets\n",
    "# Define a list variable with numeric columnns\n",
    "numeric = ['CreditScore', 'Age', 'Balance', 'EstimatedSalary']\n",
    "# Apply StandardScaler to the numeric columns\n",
    "scaler = StandardScaler()\n",
    "# Training set\n",
    "scaler.fit(features_train[numeric])\n",
    "features_train.loc[:, numeric] = scaler.transform(features_train.loc[:, numeric])\n",
    "# Validation set\n",
    "scaler.fit(features_valid[numeric])\n",
    "features_valid.loc[:, numeric] = scaler.transform(features_valid.loc[:, numeric])\n",
    "# Test set\n",
    "scaler.fit(features_test[numeric])\n",
    "features_test.loc[:, numeric] = scaler.transform(features_test.loc[:, numeric])\n",
    "\n",
    "display(features_train.head())\n",
    "print(features_train.shape)\n",
    "display(features_valid.head())\n",
    "print(features_valid.shape)\n",
    "display(features_test.head())\n",
    "print(features_test.shape)"
   ]
  },
  {
   "cell_type": "markdown",
   "metadata": {},
   "source": [
    "After transforming the numeric columns with StandardScaler, the data seems to be clean and formatted for machine learning."
   ]
  },
  {
   "cell_type": "markdown",
   "metadata": {},
   "source": [
    "<div class=\"alert alert-danger\">\n",
    "<s><b>Reviewer's comment</b>\n",
    "\n",
    "Applying scaling before splitting the data can result in data leakage. To avoid it, apply scaling after splitting the data. The scaler is fit using the train set and all three (train, validation and test are transformed)</s>\n",
    "\n",
    "<div class=\"alert alert-info\">\n",
    "  Noted. I splitted the data first (Train, Validation and Test sets) and then applied the scaler.\n",
    "</div>\n"
   ]
  },
  {
   "cell_type": "markdown",
   "metadata": {},
   "source": [
    "<div class=\"alert alert-danger\">\n",
    "<s><b>Reviewer's comment V2</b>\n",
    "\n",
    "> ```python\n",
    "> features_train[numeric].copy = scaler.transform(features_train[numeric])\n",
    "> ```\n",
    "\n",
    "This doesn't work: `copy()` is a method of the dataframe class, which returns a copy of the dataframe, but you didn't call the method(to call it you need to add the brackets) and even if you did, the result wouldn't be saved anywhere. If you look at the displayed rows scaling was not actually applied</s>\n",
    "<div class=\"alert alert-info\">\n",
    "    I see. I Changed the code and modify the original df using the .loc method instead. I also disabled the \"SettingWithCopyWarning\" to avoid the constant warning.\n",
    "</div>"
   ]
  },
  {
   "cell_type": "markdown",
   "metadata": {},
   "source": [
    "<div class=\"alert alert-success\">\n",
    "<b>Reviewer's comment V3</b>\n",
    "\n",
    "Ok, great!\n",
    "\n",
    "</div>"
   ]
  },
  {
   "cell_type": "markdown",
   "metadata": {},
   "source": [
    "## Train, test and improve different Machine Learning Models"
   ]
  },
  {
   "cell_type": "markdown",
   "metadata": {},
   "source": [
    "<div class=\"alert alert-danger\">\n",
    "<s><b>Reviewer's comment</b>\n",
    "\n",
    "Note that we need to split the data into three parts here: train, validation and test. A separate test set will be needed to get an unbiased estimate of our final model's generalization performance after we use the validation set to select it.\n",
    "\n",
    "</div>"
   ]
  },
  {
   "cell_type": "markdown",
   "metadata": {},
   "source": [
    "<div class=\"alert alert-success\">\n",
    "<b>Reviewer's comment V2</b>\n",
    "\n",
    "Fixed!\n",
    "\n",
    "</div>"
   ]
  },
  {
   "cell_type": "code",
   "execution_count": 13,
   "metadata": {},
   "outputs": [
    {
     "name": "stdout",
     "output_type": "stream",
     "text": [
      "0    4804\n",
      "1    1196\n",
      "Name: Exited, dtype: int64\n",
      "0    1582\n",
      "1     418\n",
      "Name: Exited, dtype: int64\n",
      "0    1577\n",
      "1     423\n",
      "Name: Exited, dtype: int64\n"
     ]
    }
   ],
   "source": [
    "# Value_counts() of the Target variables\n",
    "print(target_train.value_counts())\n",
    "print(target_valid.value_counts())\n",
    "print(target_test.value_counts())"
   ]
  },
  {
   "cell_type": "markdown",
   "metadata": {},
   "source": [
    "Since this is a classification problem, we can quickly see the balance of the classes 1 and 0 by running the value_counts() function. The results show that the data is disbalanced towards Class 0.<br> \n",
    "We will train three models: **Decision Tree**, **Random Forest** and **Logistic Regression** and check their metrics (accuracy, recall, prediction and f1 score) under the class imbalance."
   ]
  },
  {
   "cell_type": "markdown",
   "metadata": {},
   "source": [
    "<div class=\"alert alert-success\">\n",
    "<b>Reviewer's comment</b>\n",
    "\n",
    "Class imbalance was examined\n",
    "\n",
    "</div>"
   ]
  },
  {
   "cell_type": "code",
   "execution_count": 14,
   "metadata": {},
   "outputs": [
    {
     "name": "stdout",
     "output_type": "stream",
     "text": [
      "max_depth = 1 : 0.0\n",
      "max_depth = 2 : 0.5217391304347825\n",
      "max_depth = 3 : 0.4234875444839857\n",
      "max_depth = 4 : 0.5528700906344411\n",
      "max_depth = 5 : 0.5406249999999999\n",
      "max_depth = 6 : 0.5644916540212442\n",
      "max_depth = 7 : 0.5368098159509203\n",
      "max_depth = 8 : 0.5288753799392097\n",
      "max_depth = 9 : 0.5335235378031384\n",
      "max_depth = 10 : 0.546218487394958\n",
      "\n",
      "F1 Score of the model on the training set: 0.7413622902270482\n",
      "F1 Score of the best model on the validation set: 0.5644916540212442\n",
      "Best model on the validation set: DecisionTreeClassifier(max_depth=6, random_state=12345)\n"
     ]
    }
   ],
   "source": [
    "# Evaluate the best hyperparameters for DecisionTreeClassifier \n",
    "# Define variables to store best_model and best_result\n",
    "best_model = None\n",
    "best_result = 0\n",
    "\n",
    "# Loop over max_depth values from 1 to 10\n",
    "for depth in range(1, 11):\n",
    "    model = DecisionTreeClassifier(\n",
    "        random_state=12345, max_depth=depth\n",
    "    )\n",
    "    model.fit(features_train, target_train)\n",
    "    # Accuracy of model on training set\n",
    "    predictions_train = model.predict(features_train)\n",
    "    result_train = f1_score(target_train, predictions_train)\n",
    "    # Accuracy of model on validation set\n",
    "    predictions_valid = model.predict(features_valid)\n",
    "    result = f1_score(target_valid, predictions_valid)\n",
    "    print('max_depth =', depth, ': ', end='')\n",
    "    print(result)\n",
    "    # save the model with the best accuracy on the training set\n",
    "    if result > best_result:\n",
    "        best_model = model\n",
    "        best_result = result\n",
    "print()\n",
    "print(\"F1 Score of the model on the training set:\", result_train)\n",
    "print(\"F1 Score of the best model on the validation set:\", best_result)\n",
    "print(\"Best model on the validation set:\", best_model)"
   ]
  },
  {
   "cell_type": "markdown",
   "metadata": {},
   "source": [
    "<div class=\"alert alert-warning\">\n",
    "<b>Reviewer's comment</b>\n",
    "\n",
    "It would be more appropriate to use the F1 score in the hyperparameter tuning loop for this and next models as F1 score is our target metric, not accuracy\n",
    "    \n",
    "<div class=\"alert alert-info\">\n",
    "Noted. I changed the code to display F1 scores instead of accuracy.    \n",
    "</div>"
   ]
  },
  {
   "cell_type": "markdown",
   "metadata": {},
   "source": [
    "<div class=\"alert alert-success\">\n",
    "<b>Reviewer's comment V2</b>\n",
    "\n",
    "Great!\n",
    "\n",
    "</div>"
   ]
  },
  {
   "cell_type": "code",
   "execution_count": 15,
   "metadata": {},
   "outputs": [
    {
     "name": "stdout",
     "output_type": "stream",
     "text": [
      "Class Frequency - Decision Tree model\n",
      "0    0.8795\n",
      "1    0.1205\n",
      "dtype: float64\n",
      "\n",
      "Confusion Matrix:\n",
      " [[1527   55]\n",
      " [ 232  186]]\n",
      "\n",
      "Accuracy Score: 0.8565\n",
      "Recall Score: 0.4449760765550239\n",
      "Precision Score: 0.7717842323651453\n",
      "F1 Score: 0.5644916540212442\n"
     ]
    },
    {
     "data": {
      "text/plain": [
       "<AxesSubplot:>"
      ]
     },
     "execution_count": 15,
     "metadata": {},
     "output_type": "execute_result"
    },
    {
     "data": {
      "image/png": "[encoded data removed]",
      "text/plain": [
       "<Figure size 216x216 with 1 Axes>"
      ]
     },
     "metadata": {
      "needs_background": "light"
     },
     "output_type": "display_data"
    }
   ],
   "source": [
    "# 1)Decision Tree model (max_depth=6) and check its class balance.\n",
    "tree = DecisionTreeClassifier(max_depth=6, random_state=12345)\n",
    "tree.fit(features_train, target_train)\n",
    "tree_valid = pd.Series(tree.predict(features_valid))\n",
    "tree_frequency = tree_valid.value_counts(normalize=range(0,1))\n",
    "print(\"Class Frequency - Decision Tree model\")\n",
    "print(tree_frequency)\n",
    "print()\n",
    "# Create a Confusion Matrix. Calculate Recall, Precision and F1 scores for the model\n",
    "print(\"Confusion Matrix:\\n\", confusion_matrix(target_valid, tree_valid))\n",
    "print()\n",
    "print(\"Accuracy Score:\", accuracy_score(target_valid, tree_valid))\n",
    "print(\"Recall Score:\", recall_score(target_valid, tree_valid))\n",
    "print(\"Precision Score:\", precision_score(target_valid, tree_valid))\n",
    "print(\"F1 Score:\", f1_score(target_valid, tree_valid))\n",
    "tree_frequency.plot(kind='bar', figsize=(3,3))"
   ]
  },
  {
   "cell_type": "code",
   "execution_count": 16,
   "metadata": {},
   "outputs": [
    {
     "name": "stdout",
     "output_type": "stream",
     "text": [
      "n_estimators = 1 : 0.4912689173457509\n",
      "n_estimators = 2 : 0.4371941272430669\n",
      "n_estimators = 3 : 0.544973544973545\n",
      "n_estimators = 4 : 0.51840490797546\n",
      "n_estimators = 5 : 0.55\n",
      "n_estimators = 6 : 0.5359877488514548\n",
      "n_estimators = 7 : 0.5852981969486825\n",
      "n_estimators = 8 : 0.5353383458646617\n",
      "n_estimators = 9 : 0.5528913963328632\n",
      "n_estimators = 10 : 0.5408618127786032\n",
      "\n",
      "F1 score of the model on the training set: 0.9632511889321228\n",
      "F1 score of the best model on the validation set: 0.5852981969486825\n",
      "Best model on the validation set: RandomForestClassifier(n_estimators=7, random_state=12345)\n"
     ]
    }
   ],
   "source": [
    "# Evaluate the best hyperparameters for RandomForestClassifier\n",
    "# Define variables to store best_model and best_result\n",
    "best_model = None\n",
    "best_result = 0\n",
    "\n",
    "# Loop over max_depth values from 1 to 10\n",
    "for depth in range(1, 11):\n",
    "    model = RandomForestClassifier(\n",
    "        random_state=12345, n_estimators=depth\n",
    "    )\n",
    "    model.fit(features_train, target_train)\n",
    "    # Accuracy of model on training set\n",
    "    predictions_train = model.predict(features_train)\n",
    "    result_train = f1_score(target_train, predictions_train)\n",
    "    # Accuracy of model on validation set\n",
    "    predictions_valid = model.predict(features_valid)\n",
    "    result = f1_score(target_valid, predictions_valid)\n",
    "    print('n_estimators =', depth, ': ', end='')\n",
    "    print(result)\n",
    "    # save the model with the best accuracy on the training set\n",
    "    if result > best_result:\n",
    "        best_model = model\n",
    "        best_result = result\n",
    "print()\n",
    "print(\"F1 score of the model on the training set:\", result_train)\n",
    "print(\"F1 score of the best model on the validation set:\", best_result)\n",
    "print(\"Best model on the validation set:\", best_model)"
   ]
  },
  {
   "cell_type": "code",
   "execution_count": 17,
   "metadata": {},
   "outputs": [
    {
     "name": "stdout",
     "output_type": "stream",
     "text": [
      "Class Frequency - Random Forest model\n",
      "0    0.8485\n",
      "1    0.1515\n",
      "dtype: float64\n",
      "\n",
      "Confusion Matrix:\n",
      " [[1490   92]\n",
      " [ 207  211]]\n",
      "\n",
      "Accuracy Score: 0.8505\n",
      "Recall Score: 0.5047846889952153\n",
      "Precision Score: 0.6963696369636964\n",
      "F1 Score: 0.5852981969486825\n"
     ]
    },
    {
     "data": {
      "text/plain": [
       "<AxesSubplot:>"
      ]
     },
     "execution_count": 17,
     "metadata": {},
     "output_type": "execute_result"
    },
    {
     "data": {
      "image/png": "[encoded data removed]",
      "text/plain": [
       "<Figure size 216x216 with 1 Axes>"
      ]
     },
     "metadata": {
      "needs_background": "light"
     },
     "output_type": "display_data"
    }
   ],
   "source": [
    "# 2)Random Forest model (n_estimators=7) and check its class balance.\n",
    "forest = RandomForestClassifier(n_estimators=7, random_state=12345)\n",
    "forest.fit(features_train, target_train)\n",
    "forest_valid = pd.Series(forest.predict(features_valid))\n",
    "forest_frequency = forest_valid.value_counts(normalize=range(0,1))\n",
    "print(\"Class Frequency - Random Forest model\")\n",
    "print(forest_frequency)\n",
    "print()\n",
    "# Create a Confusion Matrix. Calculate Recall, Precision and F1 scores for the model\n",
    "print(\"Confusion Matrix:\\n\", confusion_matrix(target_valid, forest_valid))\n",
    "print()\n",
    "print(\"Accuracy Score:\", accuracy_score(target_valid, forest_valid))\n",
    "print(\"Recall Score:\", recall_score(target_valid, forest_valid))\n",
    "print(\"Precision Score:\", precision_score(target_valid, forest_valid))\n",
    "print(\"F1 Score:\", f1_score(target_valid, forest_valid))\n",
    "forest_frequency.plot(kind='bar', figsize=(3,3))"
   ]
  },
  {
   "cell_type": "code",
   "execution_count": 18,
   "metadata": {},
   "outputs": [
    {
     "name": "stdout",
     "output_type": "stream",
     "text": [
      "Class Frequency - Logistic Regression model\n",
      "0    0.918\n",
      "1    0.082\n",
      "dtype: float64\n",
      "\n",
      "Confusion Matrix:\n",
      " [[1512   70]\n",
      " [ 324   94]]\n",
      "\n",
      "Accuracy Score: 0.803\n",
      "Recall Score: 0.22488038277511962\n",
      "Precision Score: 0.573170731707317\n",
      "F1 Score: 0.3230240549828179\n"
     ]
    },
    {
     "data": {
      "text/plain": [
       "<AxesSubplot:>"
      ]
     },
     "execution_count": 18,
     "metadata": {},
     "output_type": "execute_result"
    },
    {
     "data": {
      "image/png": "[encoded data removed]",
      "text/plain": [
       "<Figure size 216x216 with 1 Axes>"
      ]
     },
     "metadata": {
      "needs_background": "light"
     },
     "output_type": "display_data"
    }
   ],
   "source": [
    "# 3) Logistic Regression model (solver='liblinear') and check its class balance.\n",
    "logreg = LogisticRegression(solver='liblinear', random_state=12345)\n",
    "logreg.fit(features_train, target_train)\n",
    "logreg_valid = pd.Series(logreg.predict(features_valid))\n",
    "logreg_frequency = logreg_valid.value_counts(normalize=range(0,1))\n",
    "print(\"Class Frequency - Logistic Regression model\")\n",
    "print(logreg_frequency)\n",
    "print()\n",
    "# Create a Confusion Matrix. Calculate Recall, Precision and F1 scores for the model\n",
    "print(\"Confusion Matrix:\\n\", confusion_matrix(target_valid, logreg_valid))\n",
    "print()\n",
    "print(\"Accuracy Score:\", accuracy_score(target_valid, logreg_valid))\n",
    "print(\"Recall Score:\", recall_score(target_valid, logreg_valid))\n",
    "print(\"Precision Score:\", precision_score(target_valid, logreg_valid))\n",
    "print(\"F1 Score:\", f1_score(target_valid, logreg_valid))\n",
    "logreg_frequency.plot(kind='bar', figsize=(3,3))"
   ]
  },
  {
   "cell_type": "markdown",
   "metadata": {},
   "source": [
    "In all models we see a pronounced **Class Imbalance** that negatively affects their performance. The imbalance towards class 0 will make the models take a biased response in their predictions. This is reflected in the fact that, even thought **Accuracy** is relatively high in all models, they also present low **Recall**, **Precision** and **F1 scores**. After pre-processing the data for Machine Learning, we see that the poor performance of our models is mainly due to the Class Imbalance in the data. We must correct this imbalance to improve performance."
   ]
  },
  {
   "cell_type": "markdown",
   "metadata": {},
   "source": [
    "<div class=\"alert alert-success\">\n",
    "<b>Reviewer's comment</b>\n",
    "\n",
    "Great, you trained a few mdoels without taking the imbalance into account first\n",
    "\n",
    "</div>"
   ]
  },
  {
   "cell_type": "markdown",
   "metadata": {},
   "source": [
    "## Correct Class Imbalance in the models"
   ]
  },
  {
   "cell_type": "markdown",
   "metadata": {},
   "source": [
    "We will use several methods to correct Class Imbalance:<br>\n",
    "**1) Using the class_weight='balanced' parameter in the models**"
   ]
  },
  {
   "cell_type": "code",
   "execution_count": 19,
   "metadata": {},
   "outputs": [
    {
     "name": "stdout",
     "output_type": "stream",
     "text": [
      "Class Frequency - Decision Tree model (balanced)\n",
      "0    0.6815\n",
      "1    0.3185\n",
      "dtype: float64\n",
      "\n",
      "Confusion Matrix:\n",
      " [[1238  344]\n",
      " [ 125  293]]\n",
      "\n",
      "Accuracy Score: 0.7655\n",
      "Recall Score: 0.7009569377990431\n",
      "Precision Score: 0.4599686028257457\n",
      "F1 Score: 0.5554502369668247\n"
     ]
    },
    {
     "data": {
      "text/plain": [
       "<AxesSubplot:>"
      ]
     },
     "execution_count": 19,
     "metadata": {},
     "output_type": "execute_result"
    },
    {
     "data": {
      "image/png": "[encoded data removed]",
      "text/plain": [
       "<Figure size 216x216 with 1 Axes>"
      ]
     },
     "metadata": {
      "needs_background": "light"
     },
     "output_type": "display_data"
    }
   ],
   "source": [
    "# 1)Decision Tree model (max_depth=6, class_weight='balanced') and check its class balance.\n",
    "tree = DecisionTreeClassifier(max_depth=6, class_weight='balanced', random_state=12345)\n",
    "tree.fit(features_train, target_train)\n",
    "tree_valid = pd.Series(tree.predict(features_valid))\n",
    "tree_frequency = tree_valid.value_counts(normalize=range(0,1))\n",
    "print(\"Class Frequency - Decision Tree model (balanced)\")\n",
    "print(tree_frequency)\n",
    "print()\n",
    "# Create a Confusion Matrix. Calculate Recall, Precision and F1 scores for the model\n",
    "print(\"Confusion Matrix:\\n\", confusion_matrix(target_valid, tree_valid))\n",
    "print()\n",
    "print(\"Accuracy Score:\", accuracy_score(target_valid, tree_valid))\n",
    "print(\"Recall Score:\", recall_score(target_valid, tree_valid))\n",
    "print(\"Precision Score:\", precision_score(target_valid, tree_valid))\n",
    "print(\"F1 Score:\", f1_score(target_valid, tree_valid))\n",
    "tree_frequency.plot(kind='bar', figsize=(3,3))"
   ]
  },
  {
   "cell_type": "code",
   "execution_count": 20,
   "metadata": {},
   "outputs": [
    {
     "name": "stdout",
     "output_type": "stream",
     "text": [
      "Class Frequency - Random Forest model (balanced)\n",
      "0    0.859\n",
      "1    0.141\n",
      "dtype: float64\n",
      "\n",
      "Confusion Matrix:\n",
      " [[1495   87]\n",
      " [ 223  195]]\n",
      "\n",
      "Accuracy Score: 0.845\n",
      "Recall Score: 0.4665071770334928\n",
      "Precision Score: 0.6914893617021277\n",
      "F1 Score: 0.5571428571428572\n"
     ]
    },
    {
     "data": {
      "text/plain": [
       "<AxesSubplot:>"
      ]
     },
     "execution_count": 20,
     "metadata": {},
     "output_type": "execute_result"
    },
    {
     "data": {
      "image/png": "[encoded data removed]",
      "text/plain": [
       "<Figure size 216x216 with 1 Axes>"
      ]
     },
     "metadata": {
      "needs_background": "light"
     },
     "output_type": "display_data"
    }
   ],
   "source": [
    "# 2)Random Forest model (n_estimators=7, class_weight='balanced') and check its class balance.\n",
    "forest = RandomForestClassifier(n_estimators=7, class_weight='balanced', random_state=12345)\n",
    "forest.fit(features_train, target_train)\n",
    "forest_valid = pd.Series(forest.predict(features_valid))\n",
    "forest_frequency = forest_valid.value_counts(normalize=range(0,1))\n",
    "print(\"Class Frequency - Random Forest model (balanced)\")\n",
    "print(forest_frequency)\n",
    "print()\n",
    "# Create a Confusion Matrix. Calculate Recall, Precision and F1 scores for the model\n",
    "print(\"Confusion Matrix:\\n\", confusion_matrix(target_valid, forest_valid))\n",
    "print()\n",
    "print(\"Accuracy Score:\", accuracy_score(target_valid, forest_valid))\n",
    "print(\"Recall Score:\", recall_score(target_valid, forest_valid))\n",
    "print(\"Precision Score:\", precision_score(target_valid, forest_valid))\n",
    "print(\"F1 Score:\", f1_score(target_valid, forest_valid))\n",
    "forest_frequency.plot(kind='bar', figsize=(3,3))"
   ]
  },
  {
   "cell_type": "code",
   "execution_count": 21,
   "metadata": {},
   "outputs": [
    {
     "name": "stdout",
     "output_type": "stream",
     "text": [
      "Class Frequency - Logistic Regression model (balanced)\n",
      "0    0.6275\n",
      "1    0.3725\n",
      "dtype: float64\n",
      "\n",
      "Confusion Matrix:\n",
      " [[1119  463]\n",
      " [ 136  282]]\n",
      "\n",
      "Accuracy Score: 0.7005\n",
      "Recall Score: 0.6746411483253588\n",
      "Precision Score: 0.3785234899328859\n",
      "F1 Score: 0.4849527085124678\n"
     ]
    },
    {
     "data": {
      "text/plain": [
       "<AxesSubplot:>"
      ]
     },
     "execution_count": 21,
     "metadata": {},
     "output_type": "execute_result"
    },
    {
     "data": {
      "image/png": "[encoded data removed]",
      "text/plain": [
       "<Figure size 216x216 with 1 Axes>"
      ]
     },
     "metadata": {
      "needs_background": "light"
     },
     "output_type": "display_data"
    }
   ],
   "source": [
    "# 2) Logistic Regression model (solver='liblinear', class_weight='balanced') and check its class balance.\n",
    "logreg = LogisticRegression(solver='liblinear', class_weight='balanced', random_state=12345)\n",
    "logreg.fit(features_train, target_train)\n",
    "logreg_valid = pd.Series(logreg.predict(features_valid))\n",
    "logreg_frequency = logreg_valid.value_counts(normalize=range(0,1))\n",
    "print(\"Class Frequency - Logistic Regression model (balanced)\")\n",
    "print(logreg_frequency)\n",
    "print()\n",
    "# Create a Confusion Matrix. Calculate Recall, Precision and F1 scores for the model\n",
    "print(\"Confusion Matrix:\\n\", confusion_matrix(target_valid, logreg_valid))\n",
    "print()\n",
    "print(\"Accuracy Score:\", accuracy_score(target_valid, logreg_valid))\n",
    "print(\"Recall Score:\", recall_score(target_valid, logreg_valid))\n",
    "print(\"Precision Score:\", precision_score(target_valid, logreg_valid))\n",
    "print(\"F1 Score:\", f1_score(target_valid, logreg_valid))\n",
    "logreg_frequency.plot(kind='bar', figsize=(3,3))"
   ]
  },
  {
   "cell_type": "markdown",
   "metadata": {},
   "source": [
    "Using the parameter **class_weight='balanced'** we slightly improved the F1 Score performance in the Logistic Regression model.<br>\n",
    "On the other hand, the F1 Score performance slightly decreased on the Random Forest and Decision Tree models.<br>\n",
    "\n",
    "**Decision Tree**<br>\n",
    "Accuracy Score: 0.856 to 0.765<br>\n",
    "Recall Score: 0.444 to 0.700<br>\n",
    "Precision Score: 0.771 to 0.459<br>\n",
    "F1 Score: 0.564 to 0.555<br>\n",
    "\n",
    "**Random Forest**<br>\n",
    "Accuracy Score: 0.850 to 0.845<br>\n",
    "Recall Score: 0.504 to 0.466<br>\n",
    "Precision Score: 0.696 to 0.691<br>\n",
    "F1 Score: 0.585 to 0.557<br>\n",
    "\n",
    "**Logistic Regression**<br>\n",
    "Accuracy Score: 0.803 to 0.700<br>\n",
    "Recall Score: 0.224 to 0.674<br>\n",
    "Precision Score: 0.573 to 0.378<br>\n",
    "F1 Score: 0.323 to 0.484<br>\n",
    "\n",
    "An improvement of the F1 Score reflects a better balance between Recall and Precision. This is the case for the Logistic Regression and Decision Tree models: Recall sharply improved, while Precision diminished.<br>\n",
    "The opposite is true for the Random Forest model: Recall diminished, while Precision remained much the same.<br>\n",
    "Based on these results, we conclude that the parameter *class_weight='balanced'* should be used on Logistic Regression, but not on Decision Tree or Random Forest.<br>\n",
    "Even thought we see an improvement of the F1 scores, these are still too low to be accepted."
   ]
  },
  {
   "cell_type": "markdown",
   "metadata": {},
   "source": [
    "<div class=\"alert alert-success\">\n",
    "<b>Reviewer's comment</b>\n",
    "\n",
    "Class weights were applied successfully\n",
    "    \n",
    "</div>"
   ]
  },
  {
   "cell_type": "markdown",
   "metadata": {},
   "source": [
    "**2) Upsampling the training datasets**<br>\n",
    "We will create a function to upsample and shuffle the training datasets, then train the models and evaluate their performance."
   ]
  },
  {
   "cell_type": "code",
   "execution_count": 22,
   "metadata": {},
   "outputs": [],
   "source": [
    "# Create a function to Upsample class 1 values in the trainings datasets\n",
    "def upsample(features, target, repeat):\n",
    "    features_zeros = features[target == 0]\n",
    "    features_ones = features[target == 1]\n",
    "    target_zeros = target[target == 0]\n",
    "    target_ones = target[target == 1]\n",
    "\n",
    "    features_upsampled = pd.concat([features_zeros] + [features_ones] * repeat)\n",
    "    target_upsampled = pd.concat([target_zeros] + [target_ones] * repeat)\n",
    "\n",
    "    features_upsampled, target_upsampled = shuffle(\n",
    "        features_upsampled, target_upsampled, random_state=12345\n",
    "    )\n",
    "\n",
    "    return features_upsampled, target_upsampled\n",
    "\n",
    "\n",
    "features_upsampled, target_upsampled = upsample(\n",
    "    features_train, target_train, 4\n",
    ")"
   ]
  },
  {
   "cell_type": "markdown",
   "metadata": {},
   "source": [
    "<div class=\"alert alert-warning\">\n",
    "<b>Reviewer's comment</b>\n",
    "\n",
    "Upsampling was correctly applied only to the train set, but does the chosen `repeat` parameter value make the data balanced?\n",
    "<div class=\"alert alert-info\">\n",
    "Noted. I'm testing the class distribution of the upsampled set to make sure the repeat integer is adequate.    \n",
    "</div>"
   ]
  },
  {
   "cell_type": "markdown",
   "metadata": {},
   "source": [
    "<div class=\"alert alert-success\">\n",
    "<b>Reviewer's comment V2</b>\n",
    "\n",
    "Awesome!\n",
    "\n",
    "</div>"
   ]
  },
  {
   "cell_type": "code",
   "execution_count": 23,
   "metadata": {},
   "outputs": [
    {
     "name": "stdout",
     "output_type": "stream",
     "text": [
      "0    4804\n",
      "1    4784\n",
      "Name: Exited, dtype: int64\n"
     ]
    }
   ],
   "source": [
    "# Check the class distribution after upsampling\n",
    "class_dist = target_upsampled.value_counts()\n",
    "print(class_dist)"
   ]
  },
  {
   "cell_type": "markdown",
   "metadata": {},
   "source": [
    "<div class=\"alert alert-info\">\n",
    "    The class distribution is balanced using a repeat integer = 4\n",
    "</div>"
   ]
  },
  {
   "cell_type": "code",
   "execution_count": 24,
   "metadata": {},
   "outputs": [
    {
     "name": "stdout",
     "output_type": "stream",
     "text": [
      "Class Frequency - Decision Tree model (upsampled)\n",
      "0    0.6805\n",
      "1    0.3195\n",
      "dtype: float64\n",
      "\n",
      "Confusion Matrix:\n",
      " [[1238  344]\n",
      " [ 123  295]]\n",
      "\n",
      "Accuracy Score: 0.7665\n",
      "Recall Score: 0.7057416267942583\n",
      "Precision Score: 0.4616588419405321\n",
      "F1 Score: 0.5581835383159887\n"
     ]
    },
    {
     "data": {
      "text/plain": [
       "<AxesSubplot:>"
      ]
     },
     "execution_count": 24,
     "metadata": {},
     "output_type": "execute_result"
    },
    {
     "data": {
      "image/png": "[encoded data removed]",
      "text/plain": [
       "<Figure size 216x216 with 1 Axes>"
      ]
     },
     "metadata": {
      "needs_background": "light"
     },
     "output_type": "display_data"
    }
   ],
   "source": [
    "# 1)Decision Tree model (max_depth=6), train with upsampled dataset and check its class balance.\n",
    "tree = DecisionTreeClassifier(max_depth=6, random_state=12345)\n",
    "tree.fit(features_upsampled, target_upsampled)\n",
    "tree_valid = pd.Series(tree.predict(features_valid))\n",
    "tree_frequency = tree_valid.value_counts(normalize=range(0,1))\n",
    "print(\"Class Frequency - Decision Tree model (upsampled)\")\n",
    "print(tree_frequency)\n",
    "print()\n",
    "# Create a Confusion Matrix. Calculate Recall, Precision and F1 scores for the model\n",
    "print(\"Confusion Matrix:\\n\", confusion_matrix(target_valid, tree_valid))\n",
    "print()\n",
    "print(\"Accuracy Score:\", accuracy_score(target_valid, tree_valid))\n",
    "print(\"Recall Score:\", recall_score(target_valid, tree_valid))\n",
    "print(\"Precision Score:\", precision_score(target_valid, tree_valid))\n",
    "print(\"F1 Score:\", f1_score(target_valid, tree_valid))\n",
    "tree_frequency.plot(kind='bar', figsize=(3,3))"
   ]
  },
  {
   "cell_type": "code",
   "execution_count": 25,
   "metadata": {},
   "outputs": [
    {
     "name": "stdout",
     "output_type": "stream",
     "text": [
      "Class Frequency - Random Forest model (upsampled)\n",
      "0    0.81\n",
      "1    0.19\n",
      "dtype: float64\n",
      "\n",
      "Confusion Matrix:\n",
      " [[1429  153]\n",
      " [ 191  227]]\n",
      "\n",
      "Accuracy Score: 0.828\n",
      "Recall Score: 0.5430622009569378\n",
      "Precision Score: 0.5973684210526315\n",
      "F1 Score: 0.5689223057644109\n"
     ]
    },
    {
     "data": {
      "text/plain": [
       "<AxesSubplot:>"
      ]
     },
     "execution_count": 25,
     "metadata": {},
     "output_type": "execute_result"
    },
    {
     "data": {
      "image/png": "[encoded data removed]",
      "text/plain": [
       "<Figure size 216x216 with 1 Axes>"
      ]
     },
     "metadata": {
      "needs_background": "light"
     },
     "output_type": "display_data"
    }
   ],
   "source": [
    "# 2)Random Forest model (n_estimators=7), train with upsampled dataset and check its class balance.\n",
    "forest = RandomForestClassifier(n_estimators=7, random_state=12345)\n",
    "forest.fit(features_upsampled, target_upsampled)\n",
    "forest_valid = pd.Series(forest.predict(features_valid))\n",
    "forest_frequency = forest_valid.value_counts(normalize=range(0,1))\n",
    "print(\"Class Frequency - Random Forest model (upsampled)\")\n",
    "print(forest_frequency)\n",
    "print()\n",
    "# Create a Confusion Matrix. Calculate Recall, Precision and F1 scores for the model\n",
    "print(\"Confusion Matrix:\\n\", confusion_matrix(target_valid, forest_valid))\n",
    "print()\n",
    "print(\"Accuracy Score:\", accuracy_score(target_valid, forest_valid))\n",
    "print(\"Recall Score:\", recall_score(target_valid, forest_valid))\n",
    "print(\"Precision Score:\", precision_score(target_valid, forest_valid))\n",
    "print(\"F1 Score:\", f1_score(target_valid, forest_valid))\n",
    "forest_frequency.plot(kind='bar', figsize=(3,3))"
   ]
  },
  {
   "cell_type": "code",
   "execution_count": 26,
   "metadata": {},
   "outputs": [
    {
     "name": "stdout",
     "output_type": "stream",
     "text": [
      "Class Frequency - Logistic Regression model (upsampled)\n",
      "0    0.628\n",
      "1    0.372\n",
      "dtype: float64\n",
      "\n",
      "Confusion Matrix:\n",
      " [[1120  462]\n",
      " [ 136  282]]\n",
      "\n",
      "Accuracy Score: 0.701\n",
      "Recall Score: 0.6746411483253588\n",
      "Precision Score: 0.3790322580645161\n",
      "F1 Score: 0.4853700516351119\n"
     ]
    },
    {
     "data": {
      "text/plain": [
       "<AxesSubplot:>"
      ]
     },
     "execution_count": 26,
     "metadata": {},
     "output_type": "execute_result"
    },
    {
     "data": {
      "image/png": "[encoded data removed]",
      "text/plain": [
       "<Figure size 216x216 with 1 Axes>"
      ]
     },
     "metadata": {
      "needs_background": "light"
     },
     "output_type": "display_data"
    }
   ],
   "source": [
    "# 3) Logistic Regression model (solver='liblinear'), train with upsampled dataset and check its class balance.\n",
    "logreg = LogisticRegression(solver='liblinear', random_state=12345)\n",
    "logreg.fit(features_upsampled, target_upsampled)\n",
    "logreg_valid = pd.Series(logreg.predict(features_valid))\n",
    "logreg_frequency = logreg_valid.value_counts(normalize=range(0,1))\n",
    "print(\"Class Frequency - Logistic Regression model (upsampled)\")\n",
    "print(logreg_frequency)\n",
    "print()\n",
    "# Create a Confusion Matrix. Calculate Recall, Precision and F1 scores for the model\n",
    "print(\"Confusion Matrix:\\n\", confusion_matrix(target_valid, logreg_valid))\n",
    "print()\n",
    "print(\"Accuracy Score:\", accuracy_score(target_valid, logreg_valid))\n",
    "print(\"Recall Score:\", recall_score(target_valid, logreg_valid))\n",
    "print(\"Precision Score:\", precision_score(target_valid, logreg_valid))\n",
    "print(\"F1 Score:\", f1_score(target_valid, logreg_valid))\n",
    "logreg_frequency.plot(kind='bar', figsize=(3,3))"
   ]
  },
  {
   "cell_type": "markdown",
   "metadata": {},
   "source": [
    "Using the **Upsampled** training sets slightly decreased the F1 Score performance in the Decision Tree and Random Forest models, but it increased the performance of Logistic Regression.<br>\n",
    "\n",
    "**Decision Tree**<br>\n",
    "Accuracy Score: 0.856 to 0.766<br>\n",
    "Recall Score: 0.444 to 0.705<br>\n",
    "Precision Score: 0.771 to 0.461<br>\n",
    "F1 Score: 0.564 to 0.558<br>\n",
    "\n",
    "**Random Forest**<br>\n",
    "Accuracy Score: 0.850 to 0.828<br>\n",
    "Recall Score: 0.504 to 0.543<br>\n",
    "Precision Score: 0.696 to 0.597<br>\n",
    "F1 Score: 0.585 to 0.568<br>\n",
    "\n",
    "**Logistic Regression**<br>\n",
    "Accuracy Score: 0.803 to 0.710<br>\n",
    "Recall Score: 0.224 to 0.674<br>\n",
    "Precision Score: 0.573 to 0.379<br>\n",
    "F1 Score: 0.323 to 0.485<br>\n",
    "\n",
    "Based on these results, we conclude that the *Upsampled* training sets should be used in Logistic Regression, but not on Decision Tree and Random Forest."
   ]
  },
  {
   "cell_type": "markdown",
   "metadata": {},
   "source": [
    "<div class=\"alert alert-success\">\n",
    "<b>Reviewer's comment</b>\n",
    "\n",
    "Upsampling was applied successfully\n",
    "\n",
    "</div>"
   ]
  },
  {
   "cell_type": "markdown",
   "metadata": {},
   "source": [
    "**3) Downsampling the training datasets**<br>\n",
    "We will create a function to downsample and shuffle the training datasets, then train the models and evaluate their performance."
   ]
  },
  {
   "cell_type": "code",
   "execution_count": 27,
   "metadata": {},
   "outputs": [],
   "source": [
    "# Create a function to Downsample the values in the training datasets:\n",
    "def downsample(features, target, fraction):\n",
    "    features_zeros = features[target == 0]\n",
    "    features_ones = features[target == 1]\n",
    "    target_zeros = target[target == 0]\n",
    "    target_ones = target[target == 1]\n",
    "\n",
    "    features_downsampled = pd.concat(\n",
    "        [features_zeros.sample(frac=fraction, random_state=12345)]\n",
    "        + [features_ones]\n",
    "    )\n",
    "    target_downsampled = pd.concat(\n",
    "        [target_zeros.sample(frac=fraction, random_state=12345)]\n",
    "        + [target_ones]\n",
    "    )\n",
    "\n",
    "    features_downsampled, target_downsampled = shuffle(\n",
    "        features_downsampled, target_downsampled, random_state=12345\n",
    "    )\n",
    "\n",
    "    return features_downsampled, target_downsampled\n",
    "\n",
    "\n",
    "features_downsampled, target_downsampled = downsample(\n",
    "    features_train, target_train, 0.25\n",
    ")"
   ]
  },
  {
   "cell_type": "code",
   "execution_count": 28,
   "metadata": {},
   "outputs": [
    {
     "name": "stdout",
     "output_type": "stream",
     "text": [
      "0    1201\n",
      "1    1196\n",
      "Name: Exited, dtype: int64\n"
     ]
    }
   ],
   "source": [
    "# Check the class distribution after downsampling\n",
    "class_dist = target_downsampled.value_counts()\n",
    "print(class_dist)"
   ]
  },
  {
   "cell_type": "markdown",
   "metadata": {},
   "source": [
    "<div class=\"alert alert-warning\">\n",
    "<b>Reviewer's comment</b>\n",
    "\n",
    "Similarly to upsampling it seems the value of `fraction` parameter could be chosen to make the data more balanced\n",
    "<div class=\"alert alert-info\">\n",
    "    Noted.  I'm testing the class distribution of the upsampled set to make sure the fraction factor is adequate.\n",
    "</div>"
   ]
  },
  {
   "cell_type": "markdown",
   "metadata": {},
   "source": [
    "<div class=\"alert alert-success\">\n",
    "<b>Reviewer's comment V2</b>\n",
    "\n",
    "Alright!\n",
    "\n",
    "</div>"
   ]
  },
  {
   "cell_type": "code",
   "execution_count": 29,
   "metadata": {},
   "outputs": [
    {
     "name": "stdout",
     "output_type": "stream",
     "text": [
      "Class Frequency - Decision Tree model (downsampled)\n",
      "0    0.6795\n",
      "1    0.3205\n",
      "dtype: float64\n",
      "\n",
      "Confusion Matrix:\n",
      " [[1246  336]\n",
      " [ 113  305]]\n",
      "\n",
      "Accuracy Score: 0.7755\n",
      "Recall Score: 0.7296650717703349\n",
      "Precision Score: 0.47581903276131043\n",
      "F1 Score: 0.5760151085930123\n"
     ]
    },
    {
     "data": {
      "text/plain": [
       "<AxesSubplot:>"
      ]
     },
     "execution_count": 29,
     "metadata": {},
     "output_type": "execute_result"
    },
    {
     "data": {
      "image/png": "[encoded data removed]",
      "text/plain": [
       "<Figure size 216x216 with 1 Axes>"
      ]
     },
     "metadata": {
      "needs_background": "light"
     },
     "output_type": "display_data"
    }
   ],
   "source": [
    "# 1)Decision Tree model (max_depth=6), train with downsampled dataset and check its class balance.\n",
    "tree = DecisionTreeClassifier(max_depth=6, random_state=12345)\n",
    "tree.fit(features_downsampled, target_downsampled)\n",
    "tree_valid = pd.Series(tree.predict(features_valid))\n",
    "tree_frequency = tree_valid.value_counts(normalize=range(0,1))\n",
    "print(\"Class Frequency - Decision Tree model (downsampled)\")\n",
    "print(tree_frequency)\n",
    "print()\n",
    "# Create a Confusion Matrix. Calculate Recall, Precision and F1 scores for the model\n",
    "print(\"Confusion Matrix:\\n\", confusion_matrix(target_valid, tree_valid))\n",
    "print()\n",
    "print(\"Accuracy Score:\", accuracy_score(target_valid, tree_valid))\n",
    "print(\"Recall Score:\", recall_score(target_valid, tree_valid))\n",
    "print(\"Precision Score:\", precision_score(target_valid, tree_valid))\n",
    "print(\"F1 Score:\", f1_score(target_valid, tree_valid))\n",
    "tree_frequency.plot(kind='bar', figsize=(3,3))"
   ]
  },
  {
   "cell_type": "code",
   "execution_count": 30,
   "metadata": {},
   "outputs": [
    {
     "name": "stdout",
     "output_type": "stream",
     "text": [
      "Class Frequency - Random Forest model (downsampled)\n",
      "0    0.644\n",
      "1    0.356\n",
      "dtype: float64\n",
      "\n",
      "Confusion Matrix:\n",
      " [[1184  398]\n",
      " [ 104  314]]\n",
      "\n",
      "Accuracy Score: 0.749\n",
      "Recall Score: 0.7511961722488039\n",
      "Precision Score: 0.4410112359550562\n",
      "F1 Score: 0.5557522123893806\n"
     ]
    },
    {
     "data": {
      "text/plain": [
       "<AxesSubplot:>"
      ]
     },
     "execution_count": 30,
     "metadata": {},
     "output_type": "execute_result"
    },
    {
     "data": {
      "image/png": "[encoded data removed]",
      "text/plain": [
       "<Figure size 216x216 with 1 Axes>"
      ]
     },
     "metadata": {
      "needs_background": "light"
     },
     "output_type": "display_data"
    }
   ],
   "source": [
    "# 2)Random Forest model (n_estimators=7), train with downsampled dataset and check its class balance.\n",
    "forest = RandomForestClassifier(n_estimators=7, random_state=12345)\n",
    "forest.fit(features_downsampled, target_downsampled)\n",
    "forest_valid = pd.Series(forest.predict(features_valid))\n",
    "forest_frequency = forest_valid.value_counts(normalize=range(0,1))\n",
    "print(\"Class Frequency - Random Forest model (downsampled)\")\n",
    "print(forest_frequency)\n",
    "print()\n",
    "# Create a Confusion Matrix. Calculate Recall, Precision and F1 scores for the model\n",
    "print(\"Confusion Matrix:\\n\", confusion_matrix(target_valid, forest_valid))\n",
    "print()\n",
    "print(\"Accuracy Score:\", accuracy_score(target_valid, forest_valid))\n",
    "print(\"Recall Score:\", recall_score(target_valid, forest_valid))\n",
    "print(\"Precision Score:\", precision_score(target_valid, forest_valid))\n",
    "print(\"F1 Score:\", f1_score(target_valid, forest_valid))\n",
    "forest_frequency.plot(kind='bar', figsize=(3,3))"
   ]
  },
  {
   "cell_type": "code",
   "execution_count": 31,
   "metadata": {},
   "outputs": [
    {
     "name": "stdout",
     "output_type": "stream",
     "text": [
      "Class Frequency - Logistic Regression model (downsampled)\n",
      "0    0.6325\n",
      "1    0.3675\n",
      "dtype: float64\n",
      "\n",
      "Confusion Matrix:\n",
      " [[1123  459]\n",
      " [ 142  276]]\n",
      "\n",
      "Accuracy Score: 0.6995\n",
      "Recall Score: 0.6602870813397129\n",
      "Precision Score: 0.37551020408163266\n",
      "F1 Score: 0.4787510841283608\n"
     ]
    },
    {
     "data": {
      "text/plain": [
       "<AxesSubplot:>"
      ]
     },
     "execution_count": 31,
     "metadata": {},
     "output_type": "execute_result"
    },
    {
     "data": {
      "image/png": "[encoded data removed]",
      "text/plain": [
       "<Figure size 216x216 with 1 Axes>"
      ]
     },
     "metadata": {
      "needs_background": "light"
     },
     "output_type": "display_data"
    }
   ],
   "source": [
    "# 2) Logistic Regression model (solver='liblinear') and check its class balance.\n",
    "logreg = LogisticRegression(solver='liblinear', random_state=12345)\n",
    "logreg.fit(features_downsampled, target_downsampled)\n",
    "logreg_valid = pd.Series(logreg.predict(features_valid))\n",
    "logreg_frequency = logreg_valid.value_counts(normalize=range(0,1))\n",
    "print(\"Class Frequency - Logistic Regression model (downsampled)\")\n",
    "print(logreg_frequency)\n",
    "print()\n",
    "# Create a Confusion Matrix. Calculate Recall, Precision and F1 scores for the model\n",
    "print(\"Confusion Matrix:\\n\", confusion_matrix(target_valid, logreg_valid))\n",
    "print()\n",
    "print(\"Accuracy Score:\", accuracy_score(target_valid, logreg_valid))\n",
    "print(\"Recall Score:\", recall_score(target_valid, logreg_valid))\n",
    "print(\"Precision Score:\", precision_score(target_valid, logreg_valid))\n",
    "print(\"F1 Score:\", f1_score(target_valid, logreg_valid))\n",
    "logreg_frequency.plot(kind='bar', figsize=(3,3))"
   ]
  },
  {
   "cell_type": "markdown",
   "metadata": {},
   "source": [
    "**Downsampling** the training datasets decreased the F1 Score performance in the Random Forest model.<br>\n",
    "In the case of Logistic Regression, altought *downsampling* increased the f1 score performance, this improvement was slightly below the one we saw for *upsampling*.<br>\n",
    "The Decision Tree f1 score also shows a slight improvement.<br>\n",
    "\n",
    "**Decision Tree**<br>\n",
    "Accuracy Score: 0.856 to 0.775<br>\n",
    "Recall Score: 0.444 to 0.729<br>\n",
    "Precision Score: 0.771 to 0.475<br>\n",
    "F1 Score: 0.564 to 0.576<br>\n",
    "\n",
    "**Random Forest**<br>\n",
    "Accuracy Score: 0.850 to 0.749<br>\n",
    "Recall Score: 0.504 to 0.751<br>\n",
    "Precision Score: 0.696 to 0.441<br>\n",
    "F1 Score: 0.585 to 0.555<br>\n",
    "\n",
    "**Logistic Regression**<br>\n",
    "Accuracy Score: 0.803 to 0.699<br>\n",
    "Recall Score: 0.224 to 0.660<br>\n",
    "Precision Score: 0.573 to 0.375<br>\n",
    "F1 Score: 0.323 to 0.478<br>\n",
    "\n",
    "Based on these results, we can conclude that the *Downsampled* training sets should be used on Decision Tree only, and not on Logistic Regression or Random Forest.<br> \n",
    "An interesting result, however, is that the Random Forest model presents a more balanced class frequency when trained with the downsampled datasets.<br>\n",
    "***Class Frequency - Random Forest model (downsampled)<br> \n",
    "1 - 0.644<br> \n",
    "0 - 0.356***<br> \n",
    "For this reason, it's worth considering using the downsampled set for the Random Forest model to see how much it would optimize its performance."
   ]
  },
  {
   "cell_type": "markdown",
   "metadata": {},
   "source": [
    "<div class=\"alert alert-success\">\n",
    "<b>Reviewer's comment</b>\n",
    "\n",
    "Great!\n",
    "\n",
    "</div>"
   ]
  },
  {
   "cell_type": "markdown",
   "metadata": {},
   "source": [
    "## Optimizing the models\n",
    "After applying the **class_weight='balanced'** parameter and **Upsampling/Downsampling** the training sets, we can assume that, in order to optimize performance:<br> \n",
    "\n",
    "• the **Decision Tree** model will show the best performance by training it using the class_weight='balanced' parameter and the downsampled dataset.<br> \n",
    "• the **Random Forest** model will show the best performance by training it using the downsampled set.<br>\n",
    "• the **Logistic Regression** model will show the best performance by training it using the class_weight='balanced' parameter and the upsampled dataset.<br>\n",
    "\n",
    "However, the matter is not so simple, because models may still behave unpredictably, specially when applied to imbalanced sets. In our case, we must remember that the **test set** still maintains the original class imbalance.\n",
    "We also need to consider both the **f1 score** and the **weighted average f1 score** (included in the Classification Report), since both metrics give us a different perspective on performance. Specially on an imbalanced dataset, the weighted average F1 score may give more importance to the performance on the minority class, while the F1 score provides a general measure of the model's ability to balance precision and recall. Although our models have been trained with datasets that have been balanced by the preceding *class balancing* techniques, the best approach will be to test different combinations for each model and select the one that performs best when applied to the test set.\n",
    "\n",
    "For these reasons we will measure both metrics (**f1 score** and **weighted average f1 score**) of the three models applied to the **Validation set**, when trained under six different conditions:<br>\n",
    "1) Original imbalanced training set<br>\n",
    "2) Training set balanced with *class_weight='balanced'* parameter<br>\n",
    "3) Training set balanced with *upsampling*<br>\n",
    "4) Training set balanced with *downsampling*<br>\n",
    "5) Training set balanced with *class_weight='balanced'* parameter and *upsampling*<br>\n",
    "6) Training set balanced with *class_weight='balanced'* parameter and *downsampling*<br>"
   ]
  },
  {
   "cell_type": "code",
   "execution_count": 32,
   "metadata": {},
   "outputs": [
    {
     "name": "stdout",
     "output_type": "stream",
     "text": [
      "Classification Report - Decision Tree model (class imbalance):\n",
      "              precision    recall  f1-score   support\n",
      "\n",
      "           0       0.87      0.97      0.91      1582\n",
      "           1       0.77      0.44      0.56       418\n",
      "\n",
      "    accuracy                           0.86      2000\n",
      "   macro avg       0.82      0.71      0.74      2000\n",
      "weighted avg       0.85      0.86      0.84      2000\n",
      "\n",
      "f1 Score - Decision Tree model (class imbalance): 0.5644916540212442\n",
      "================================================================================\n",
      "Classification Report - Decision Tree model (class_weight='balanced'):\n",
      "              precision    recall  f1-score   support\n",
      "\n",
      "           0       0.91      0.78      0.84      1582\n",
      "           1       0.46      0.70      0.56       418\n",
      "\n",
      "    accuracy                           0.77      2000\n",
      "   macro avg       0.68      0.74      0.70      2000\n",
      "weighted avg       0.81      0.77      0.78      2000\n",
      "\n",
      "f1 Score - Decision Tree model (class_weight='balanced'): 0.5554502369668247\n",
      "================================================================================\n",
      "Classification Report - Decision Tree model (upsampled):\n",
      "              precision    recall  f1-score   support\n",
      "\n",
      "           0       0.91      0.78      0.84      1582\n",
      "           1       0.46      0.71      0.56       418\n",
      "\n",
      "    accuracy                           0.77      2000\n",
      "   macro avg       0.69      0.74      0.70      2000\n",
      "weighted avg       0.82      0.77      0.78      2000\n",
      "\n",
      "f1 Score - Decision Tree model (upsampled): 0.5581835383159887\n",
      "================================================================================\n",
      "Classification Report - Decision Tree model (downsampled):\n",
      "              precision    recall  f1-score   support\n",
      "\n",
      "           0       0.92      0.79      0.85      1582\n",
      "           1       0.48      0.73      0.58       418\n",
      "\n",
      "    accuracy                           0.78      2000\n",
      "   macro avg       0.70      0.76      0.71      2000\n",
      "weighted avg       0.82      0.78      0.79      2000\n",
      "\n",
      "f1 Score - Decision Tree model (downsampled): 0.5760151085930123\n",
      "================================================================================\n",
      "Classification Report - Decision Tree model (class_weight='balanced', upsampled):\n",
      "              precision    recall  f1-score   support\n",
      "\n",
      "           0       0.91      0.78      0.84      1582\n",
      "           1       0.46      0.70      0.56       418\n",
      "\n",
      "    accuracy                           0.77      2000\n",
      "   macro avg       0.68      0.74      0.70      2000\n",
      "weighted avg       0.81      0.77      0.78      2000\n",
      "\n",
      "f1 Score - Decision Tree model (class_weight='balanced', upsampled): 0.5554502369668247\n",
      "================================================================================\n",
      "Classification Report - Decision Tree model (class_weight='balanced', downsampled):\n",
      "              precision    recall  f1-score   support\n",
      "\n",
      "           0       0.92      0.79      0.85      1582\n",
      "           1       0.48      0.73      0.58       418\n",
      "\n",
      "    accuracy                           0.78      2000\n",
      "   macro avg       0.70      0.76      0.71      2000\n",
      "weighted avg       0.83      0.78      0.79      2000\n",
      "\n",
      "f1 Score - Decision Tree model (class_weight='balanced', downsampled): 0.5773584905660377\n",
      "================================================================================\n"
     ]
    }
   ],
   "source": [
    "# Create function to train all combinations for Decision Tree and select the best model on the Validation set\n",
    "def evaluate_decision_tree_model(classifier, features, target, label):\n",
    "    classifier.fit(features, target)\n",
    "    predictions = classifier.predict(features_valid)\n",
    "    \n",
    "    print(f\"Classification Report - Decision Tree model ({label}):\")\n",
    "    print(classification_report(target_valid, predictions))\n",
    "    \n",
    "    f1 = f1_score(target_valid, predictions)\n",
    "    print(f\"f1 Score - Decision Tree model ({label}): {f1}\")\n",
    "    \n",
    "    print(\"=\"*80)\n",
    "\n",
    "# 1) Decision Tree model (class imbalance)\n",
    "tree = DecisionTreeClassifier(max_depth=6, random_state=12345)\n",
    "evaluate_decision_tree_model(tree, features_train, target_train, \"class imbalance\")\n",
    "\n",
    "# 2) Decision Tree model (class_weight='balanced')\n",
    "tree_bal = DecisionTreeClassifier(max_depth=6, random_state=12345, class_weight='balanced')\n",
    "evaluate_decision_tree_model(tree_bal, features_train, target_train, \"class_weight='balanced'\")\n",
    "\n",
    "# 3) Decision Tree model (upsampled)\n",
    "tree_up = DecisionTreeClassifier(max_depth=6, random_state=12345)\n",
    "evaluate_decision_tree_model(tree_up, features_upsampled, target_upsampled, \"upsampled\")\n",
    "\n",
    "# 4) Decision Tree model (downsampled)\n",
    "tree_down = DecisionTreeClassifier(max_depth=6, random_state=12345)\n",
    "evaluate_decision_tree_model(tree_down, features_downsampled, target_downsampled, \"downsampled\")\n",
    "\n",
    "# 5) Decision Tree model (class_weight='balanced', upsampled)\n",
    "tree_bal_up = DecisionTreeClassifier(max_depth=6, random_state=12345, class_weight='balanced')\n",
    "evaluate_decision_tree_model(tree_bal_up, features_upsampled, target_upsampled, \n",
    "                             \"class_weight='balanced', upsampled\")\n",
    "\n",
    "# 6) Decision Tree model (class_weight='balanced', downsampled)\n",
    "tree_bal_down = DecisionTreeClassifier(max_depth=6, random_state=12345, class_weight='balanced')\n",
    "evaluate_decision_tree_model(tree_bal_down, features_downsampled, target_downsampled, \n",
    "                             \"class_weight='balanced', downsampled\")\n"
   ]
  },
  {
   "cell_type": "markdown",
   "metadata": {},
   "source": [
    "The results are as follows: <br>\n",
    "\n",
    "*Decision Tree model (class imbalance)*<br>\n",
    "weighted avg f1 score : 0.84<br>\n",
    "f1 Score : 0.564<br>\n",
    "\n",
    "*Decision Tree model (class_weight='balanced')*<br>\n",
    "weighted avg f1 score : 0.78<br>\n",
    "f1 Score : 0.555<br>\n",
    "\n",
    "*Decision Tree model (upsampled)*<br>\n",
    "weighted avg f1 score : 0.78<br>\n",
    "f1 Score : 0.558<br>\n",
    "\n",
    "*Decision Tree model (downsampled)*<br>\n",
    "weighted avg f1 score : 0.79<br>\n",
    "f1 Score : 0.576<br>\n",
    "\n",
    "*Decision Tree model (class_weight='balanced', upsampled)*<br>\n",
    "weighted avg f1 score : 0.78<br>\n",
    "f1 Score : 0.555<br>\n",
    "\n",
    "***Decision Tree model (class_weight='balanced', downsampled)***<br>\n",
    "weighted avg f1 score : **0.79**<br>\n",
    "f1 Score : **0.577**<br>\n",
    "\n",
    "Based on these results, the optimized conditions for the training set are **Decision Tree model (class_weight='balanced', downsampled)**"
   ]
  },
  {
   "cell_type": "code",
   "execution_count": 33,
   "metadata": {},
   "outputs": [
    {
     "name": "stdout",
     "output_type": "stream",
     "text": [
      "Classification Report - Random Forest model (class imbalance):\n",
      "              precision    recall  f1-score   support\n",
      "\n",
      "           0       0.88      0.94      0.91      1582\n",
      "           1       0.70      0.50      0.59       418\n",
      "\n",
      "    accuracy                           0.85      2000\n",
      "   macro avg       0.79      0.72      0.75      2000\n",
      "weighted avg       0.84      0.85      0.84      2000\n",
      "\n",
      "f1 Score - Random Forest model (class imbalance): 0.5852981969486825\n",
      "================================================================================\n",
      "Classification Report - Random Forest model (class_weight='balanced'):\n",
      "              precision    recall  f1-score   support\n",
      "\n",
      "           0       0.87      0.95      0.91      1582\n",
      "           1       0.69      0.47      0.56       418\n",
      "\n",
      "    accuracy                           0.84      2000\n",
      "   macro avg       0.78      0.71      0.73      2000\n",
      "weighted avg       0.83      0.84      0.83      2000\n",
      "\n",
      "f1 Score - Random Forest model (class_weight='balanced'): 0.5571428571428572\n",
      "================================================================================\n",
      "Classification Report - Random Forest model (upsampled):\n",
      "              precision    recall  f1-score   support\n",
      "\n",
      "           0       0.88      0.90      0.89      1582\n",
      "           1       0.60      0.54      0.57       418\n",
      "\n",
      "    accuracy                           0.83      2000\n",
      "   macro avg       0.74      0.72      0.73      2000\n",
      "weighted avg       0.82      0.83      0.82      2000\n",
      "\n",
      "f1 Score - Random Forest model (upsampled): 0.5689223057644109\n",
      "================================================================================\n",
      "Classification Report - Random Forest model (downsampled):\n",
      "              precision    recall  f1-score   support\n",
      "\n",
      "           0       0.92      0.75      0.83      1582\n",
      "           1       0.44      0.75      0.56       418\n",
      "\n",
      "    accuracy                           0.75      2000\n",
      "   macro avg       0.68      0.75      0.69      2000\n",
      "weighted avg       0.82      0.75      0.77      2000\n",
      "\n",
      "f1 Score - Random Forest model (downsampled): 0.5557522123893806\n",
      "================================================================================\n",
      "Classification Report - Random Forest model (class_weight='balanced', upsampled):\n",
      "              precision    recall  f1-score   support\n",
      "\n",
      "           0       0.88      0.91      0.89      1582\n",
      "           1       0.60      0.53      0.56       418\n",
      "\n",
      "    accuracy                           0.83      2000\n",
      "   macro avg       0.74      0.72      0.73      2000\n",
      "weighted avg       0.82      0.83      0.82      2000\n",
      "\n",
      "f1 Score - Random Forest model (class_weight='balanced', upsampled): 0.5645569620253165\n",
      "================================================================================\n",
      "Classification Report - Random Forest model (class_weight='balanced', downsampled):\n",
      "              precision    recall  f1-score   support\n",
      "\n",
      "           0       0.91      0.75      0.82      1582\n",
      "           1       0.44      0.73      0.55       418\n",
      "\n",
      "    accuracy                           0.75      2000\n",
      "   macro avg       0.67      0.74      0.68      2000\n",
      "weighted avg       0.81      0.75      0.77      2000\n",
      "\n",
      "f1 Score - Random Forest model (class_weight='balanced', downsampled): 0.5459411239964318\n",
      "================================================================================\n"
     ]
    }
   ],
   "source": [
    "# Create function to evaluate all conditions for Random Forest\n",
    "def evaluate_random_forest_model(classifier, features, target, label):\n",
    "    classifier.fit(features, target)\n",
    "    predictions = classifier.predict(features_valid)\n",
    "    \n",
    "    print(f\"Classification Report - Random Forest model ({label}):\")\n",
    "    print(classification_report(target_valid, predictions))\n",
    "    \n",
    "    f1 = f1_score(target_valid, predictions)\n",
    "    print(f\"f1 Score - Random Forest model ({label}): {f1}\")\n",
    "    \n",
    "    print(\"=\"*80)\n",
    "\n",
    "# 1) Random Forest model (class imbalance)\n",
    "forest = RandomForestClassifier(n_estimators=7, random_state=12345)\n",
    "evaluate_random_forest_model(forest, features_train, target_train, \"class imbalance\")\n",
    "\n",
    "# 2) Random Forest model (class_weight='balanced')\n",
    "forest_bal = RandomForestClassifier(n_estimators=7, random_state=12345, class_weight='balanced')\n",
    "evaluate_random_forest_model(forest_bal, features_train, target_train, \"class_weight='balanced'\")\n",
    "\n",
    "# 3) Random Forest model (upsampled)\n",
    "forest_up = RandomForestClassifier(n_estimators=7, random_state=12345)\n",
    "evaluate_random_forest_model(forest_up, features_upsampled, target_upsampled, \"upsampled\")\n",
    "\n",
    "# 4) Random Forest model (downsampled)\n",
    "forest_down = RandomForestClassifier(n_estimators=7, random_state=12345)\n",
    "evaluate_random_forest_model(forest_down, features_downsampled, target_downsampled, \"downsampled\")\n",
    "\n",
    "# 5) Random Forest model (class_weight='balanced', upsampled)\n",
    "forest_bal_up = RandomForestClassifier(n_estimators=7, random_state=12345, class_weight='balanced')\n",
    "evaluate_random_forest_model(forest_bal_up, features_upsampled, target_upsampled, \n",
    "                             \"class_weight='balanced', upsampled\")\n",
    "\n",
    "# 6) Random Forest model (class_weight='balanced', downsampled)\n",
    "forest_bal_down = RandomForestClassifier(n_estimators=7, random_state=12345, class_weight='balanced')\n",
    "evaluate_random_forest_model(forest_bal_down, features_downsampled, target_downsampled, \n",
    "                             \"class_weight='balanced', downsampled\")"
   ]
  },
  {
   "cell_type": "markdown",
   "metadata": {},
   "source": [
    "The results are as follows: <br>\n",
    "\n",
    "***Random Forest model (class imbalance)***<br>\n",
    "weighted avg f1 score : **0.84**<br>\n",
    "f1 Score : **0.585**<br>\n",
    "\n",
    "*Random Forest model (class_weight='balanced')*<br>\n",
    "weighted avg f1 score : 0.83<br>\n",
    "f1 Score : 0.557<br>\n",
    "\n",
    "Random Forest model (upsampled)<br>\n",
    "weighted avg f1 score : 0.82<br>\n",
    "f1 Score : 0.568<br>\n",
    "\n",
    "*Random Forest model (downsampled)*<br>\n",
    "weighted avg f1 score : 0.77<br>\n",
    "f1 Score : 0.555<br>\n",
    "\n",
    "*Random Forest model (class_weight='balanced', upsampled)*<br>\n",
    "weighted avg f1 score : 0.82<br>\n",
    "f1 Score : 0.564<br>\n",
    "\n",
    "*Random Forest model (class_weight='balanced', downsampled)*<br>\n",
    "weighted avg f1 score : 0.77<br>\n",
    "f1 Score : 0.545<br>\n",
    "\n",
    "Based on these results, the optimized conditions for the training set are **Random Forest model (class imbalance)**"
   ]
  },
  {
   "cell_type": "code",
   "execution_count": 34,
   "metadata": {},
   "outputs": [
    {
     "name": "stdout",
     "output_type": "stream",
     "text": [
      "Classification Report - Logistic Regression model (class imbalance):\n",
      "              precision    recall  f1-score   support\n",
      "\n",
      "           0       0.82      0.96      0.88      1582\n",
      "           1       0.57      0.22      0.32       418\n",
      "\n",
      "    accuracy                           0.80      2000\n",
      "   macro avg       0.70      0.59      0.60      2000\n",
      "weighted avg       0.77      0.80      0.77      2000\n",
      "\n",
      "f1 Score - Logistic Regression model (class imbalance): 0.3230240549828179\n",
      "============================================================\n",
      "Classification Report - Logistic Regression model (class_weight='balanced'):\n",
      "              precision    recall  f1-score   support\n",
      "\n",
      "           0       0.89      0.71      0.79      1582\n",
      "           1       0.38      0.67      0.48       418\n",
      "\n",
      "    accuracy                           0.70      2000\n",
      "   macro avg       0.64      0.69      0.64      2000\n",
      "weighted avg       0.78      0.70      0.73      2000\n",
      "\n",
      "f1 Score - Logistic Regression model (class_weight='balanced'): 0.4849527085124678\n",
      "============================================================\n",
      "Classification Report - Logistic Regression model (upsampled):\n",
      "              precision    recall  f1-score   support\n",
      "\n",
      "           0       0.89      0.71      0.79      1582\n",
      "           1       0.38      0.67      0.49       418\n",
      "\n",
      "    accuracy                           0.70      2000\n",
      "   macro avg       0.64      0.69      0.64      2000\n",
      "weighted avg       0.78      0.70      0.73      2000\n",
      "\n",
      "f1 Score - Logistic Regression model (upsampled): 0.4853700516351119\n",
      "============================================================\n",
      "Classification Report - Logistic Regression model (downsampled):\n",
      "              precision    recall  f1-score   support\n",
      "\n",
      "           0       0.89      0.71      0.79      1582\n",
      "           1       0.38      0.66      0.48       418\n",
      "\n",
      "    accuracy                           0.70      2000\n",
      "   macro avg       0.63      0.69      0.63      2000\n",
      "weighted avg       0.78      0.70      0.72      2000\n",
      "\n",
      "f1 Score - Logistic Regression model (downsampled): 0.4787510841283608\n",
      "============================================================\n",
      "Classification Report - Logistic Regression model (class_weight='balanced', upsampled):\n",
      "              precision    recall  f1-score   support\n",
      "\n",
      "           0       0.89      0.71      0.79      1582\n",
      "           1       0.38      0.68      0.49       418\n",
      "\n",
      "    accuracy                           0.70      2000\n",
      "   macro avg       0.64      0.69      0.64      2000\n",
      "weighted avg       0.79      0.70      0.73      2000\n",
      "\n",
      "f1 Score - Logistic Regression model (class_weight='balanced', upsampled): 0.486254295532646\n",
      "============================================================\n",
      "Classification Report - Logistic Regression model (class_weight='balanced', downsampled):\n",
      "              precision    recall  f1-score   support\n",
      "\n",
      "           0       0.89      0.71      0.79      1582\n",
      "           1       0.37      0.66      0.48       418\n",
      "\n",
      "    accuracy                           0.70      2000\n",
      "   macro avg       0.63      0.68      0.63      2000\n",
      "weighted avg       0.78      0.70      0.72      2000\n",
      "\n",
      "f1 Score - Logistic Regression model (class_weight='balanced', downsampled): 0.47792207792207797\n",
      "============================================================\n"
     ]
    }
   ],
   "source": [
    "# Create function to evaluate all conditions for Logistic Regression\n",
    "def evaluate_logistic_regression_model(classifier, features, target, label):\n",
    "    classifier.fit(features, target)\n",
    "    predictions = classifier.predict(features_valid)\n",
    "    \n",
    "    print(f\"Classification Report - Logistic Regression model ({label}):\")\n",
    "    print(classification_report(target_valid, predictions))\n",
    "    \n",
    "    f1 = f1_score(target_valid, predictions)\n",
    "    print(f\"f1 Score - Logistic Regression model ({label}): {f1}\")\n",
    "    \n",
    "    print(\"=\"*60)\n",
    "\n",
    "# 1) Logistic Regression model (class imbalance)\n",
    "logreg = LogisticRegression(solver='liblinear', random_state=12345)\n",
    "evaluate_logistic_regression_model(logreg, features_train, target_train, \"class imbalance\")\n",
    "\n",
    "# 2) Logistic Regression model (class_weight='balanced')\n",
    "logreg_bal = LogisticRegression(solver='liblinear', class_weight='balanced', random_state=12345)\n",
    "evaluate_logistic_regression_model(logreg_bal, features_train, target_train, \"class_weight='balanced'\")\n",
    "\n",
    "# 3) Logistic Regression model (upsampled)\n",
    "logreg_up = LogisticRegression(solver='liblinear', random_state=12345)\n",
    "evaluate_logistic_regression_model(logreg_up, features_upsampled, target_upsampled, \"upsampled\")\n",
    "\n",
    "# 4) Logistic Regression model (downsampled)\n",
    "logreg_down = LogisticRegression(solver='liblinear', random_state=12345)\n",
    "evaluate_logistic_regression_model(logreg_down, features_downsampled, target_downsampled, \"downsampled\")\n",
    "\n",
    "# 5) Logistic Regression model (class_weight='balanced', upsampled)\n",
    "logreg_bal_up = LogisticRegression(solver='liblinear', class_weight='balanced', random_state=12345)\n",
    "evaluate_logistic_regression_model(logreg_bal_up, features_upsampled, target_upsampled, \n",
    "                                   \"class_weight='balanced', upsampled\")\n",
    "\n",
    "# 6) Logistic Regression model (class_weight='balanced', downsampled)\n",
    "logreg_bal_down = LogisticRegression(solver='liblinear', class_weight='balanced', random_state=12345)\n",
    "evaluate_logistic_regression_model(logreg_bal_down, features_downsampled, target_downsampled, \n",
    "                                   \"class_weight='balanced', downsampled\")"
   ]
  },
  {
   "cell_type": "markdown",
   "metadata": {},
   "source": [
    "The results are as follows: <br>\n",
    "\n",
    "*Logistic Regression model (class imbalance)*<br>\n",
    "weighted avg f1 score : 0.77<br>\n",
    "f1 Score : 0.323<br>\n",
    "\n",
    "*Logistic Regression model (class_weight='balanced')*<br>\n",
    "weighted avg f1 score : 0.73<br>\n",
    "f1 Score : 0.484<br>\n",
    "\n",
    "*Logistic Regression model (upsampled)*<br>\n",
    "weighted avg f1 score : 0.73<br>\n",
    "f1 Score : 0.485<br>\n",
    "\n",
    "*Logistic Regression model (downsampled)*<br>\n",
    "weighted avg f1 score : 0.72<br>\n",
    "f1 Score : 0.478<br>\n",
    "\n",
    "***Logistic Regression model (class_weight='balanced', upsampled)***<br>\n",
    "weighted avg f1 score : **0.73**<br>\n",
    "f1 Score : **0.486**<br>\n",
    "\n",
    "*Logistic Regression model (class_weight='balanced', downsampled)*<br>\n",
    "weighted avg f1 score : 0.72<br>\n",
    "f1 Score : 0.477<br>\n",
    "\n",
    "Based on these results, the optimized conditions for the training set are **Logistic Regression model (class_weight='balanced', upsampled)**"
   ]
  },
  {
   "cell_type": "markdown",
   "metadata": {},
   "source": [
    "The optimized models present the best **f1 score** and **weighted averaged f1 score** on the **Validation Set**.<br> \n",
    "Since this is a binary classification problem, we will only need to consider the f1 score:<br>\n",
    "1) Optimized Decision Tree model (class_weight='balanced', downsampled): **0.577**<br>\n",
    "2) Optimized Random Forest model (class imbalance): **0.585**<br>\n",
    "3) Optimized Logistic Regression model (class_weight='balanced', upsampled): **0.486**<br>\n",
    "\n",
    "***None of the optimized models meets the minimum f1 score requirement (0.59) when applied to the Validation set.***"
   ]
  },
  {
   "cell_type": "markdown",
   "metadata": {},
   "source": [
    "<div class=\"alert alert-danger\">\n",
    "<s><b>Reviewer's comment</b>\n",
    "\n",
    "When working with a binary classification problem we're looking at the F1 score for class 1 (the minority class), not the weighted average (this is used when we have more than 2 classes, for binary classification all relevant information is contained in the score for class 1)</s>\n",
    "\n",
    "<div class=\"alert alert-info\">    \n",
    "Thanks for this info. I am keeping the weighted avg f1 score in the code but only taking into account the f1 score.\n",
    "</div>"
   ]
  },
  {
   "cell_type": "markdown",
   "metadata": {},
   "source": [
    "<div class=\"alert alert-success\">\n",
    "<b>Reviewer's comment V2</b>\n",
    "\n",
    "Ok!\n",
    "\n",
    "</div>"
   ]
  },
  {
   "cell_type": "markdown",
   "metadata": {},
   "source": [
    "## Test reliability of the optimized models on the Test Set using:<br> Predicted probabilities, PR curve, ROC curve and AUC-ROC score.\n",
    "In all classification models, we can improve the performance by predicting the different probabilities for Recall and Precision with different Thresholds. We will predict the probabilities of the optimized models for different thresholds, using the **predict_proba()** function. We will then select an optimal Threshold for each model (one that meets a good balance between Precision and Recall) on the **Validation Set**, and apply this custom threshold  to the **Test Set** to see how this would affect the F1 scores. Finally, we will plot graphs of **Precision/Recall and ROC curves** and **AUC-ROC Scores** for the optimized models, to see their relative performance against random chance (0.50 accuracy).<br>"
   ]
  },
  {
   "cell_type": "code",
   "execution_count": 35,
   "metadata": {},
   "outputs": [
    {
     "name": "stdout",
     "output_type": "stream",
     "text": [
      "Optimized Decision Tree model (class_weight='balanced', downsampled)\n",
      "Threshold = 0.20 | Precision = 0.293, Recall = 0.890, F1 Score = 0.441\n",
      "Threshold = 0.25 | Precision = 0.350, Recall = 0.849, F1 Score = 0.495\n",
      "Threshold = 0.30 | Precision = 0.358, Recall = 0.844, F1 Score = 0.503\n",
      "Threshold = 0.35 | Precision = 0.358, Recall = 0.844, F1 Score = 0.503\n",
      "Threshold = 0.40 | Precision = 0.420, Recall = 0.801, F1 Score = 0.551\n",
      "Threshold = 0.45 | Precision = 0.425, Recall = 0.801, F1 Score = 0.556\n",
      "Threshold = 0.50 | Precision = 0.477, Recall = 0.732, F1 Score = 0.577\n",
      "Threshold = 0.55 | Precision = 0.476, Recall = 0.727, F1 Score = 0.575\n",
      "Threshold = 0.60 | Precision = 0.519, Recall = 0.684, F1 Score = 0.590\n",
      "Threshold = 0.65 | Precision = 0.593, Recall = 0.567, F1 Score = 0.579\n",
      "Threshold = 0.70 | Precision = 0.591, Recall = 0.565, F1 Score = 0.578\n",
      "Threshold = 0.75 | Precision = 0.706, Recall = 0.455, F1 Score = 0.553\n",
      "Threshold = 0.80 | Precision = 0.706, Recall = 0.455, F1 Score = 0.553\n",
      "\n",
      "Best threshold for the validation set: 0.5999999999999999, F1 score: 0.590299277605779\n",
      "\n",
      "================================================================================\n",
      "Optimized Random Forest model (class_weight='balanced', upsampled)\n",
      "Threshold = 0.20 | Precision = 0.442, Recall = 0.725, F1 Score = 0.549\n",
      "Threshold = 0.25 | Precision = 0.442, Recall = 0.725, F1 Score = 0.549\n",
      "Threshold = 0.30 | Precision = 0.561, Recall = 0.579, F1 Score = 0.570\n",
      "Threshold = 0.35 | Precision = 0.561, Recall = 0.579, F1 Score = 0.570\n",
      "Threshold = 0.40 | Precision = 0.561, Recall = 0.579, F1 Score = 0.570\n",
      "Threshold = 0.45 | Precision = 0.696, Recall = 0.505, F1 Score = 0.585\n",
      "Threshold = 0.50 | Precision = 0.696, Recall = 0.505, F1 Score = 0.585\n",
      "Threshold = 0.55 | Precision = 0.696, Recall = 0.505, F1 Score = 0.585\n",
      "Threshold = 0.60 | Precision = 0.770, Recall = 0.361, F1 Score = 0.492\n",
      "Threshold = 0.65 | Precision = 0.770, Recall = 0.361, F1 Score = 0.492\n",
      "Threshold = 0.70 | Precision = 0.770, Recall = 0.361, F1 Score = 0.492\n",
      "Threshold = 0.75 | Precision = 0.856, Recall = 0.256, F1 Score = 0.394\n",
      "Threshold = 0.80 | Precision = 0.856, Recall = 0.256, F1 Score = 0.394\n",
      "\n",
      "Best threshold for the validation set: 0.44999999999999996, F1 score: 0.5852981969486825\n",
      "\n",
      "================================================================================\n",
      "Optimized Logistic Regression (class_weight='balanced')\n",
      "Threshold = 0.20 | Precision = 0.242, Recall = 0.969, F1 Score = 0.387\n",
      "Threshold = 0.25 | Precision = 0.257, Recall = 0.935, F1 Score = 0.403\n",
      "Threshold = 0.30 | Precision = 0.275, Recall = 0.902, F1 Score = 0.421\n",
      "Threshold = 0.35 | Precision = 0.300, Recall = 0.868, F1 Score = 0.446\n",
      "Threshold = 0.40 | Precision = 0.331, Recall = 0.818, F1 Score = 0.471\n",
      "Threshold = 0.45 | Precision = 0.360, Recall = 0.754, F1 Score = 0.488\n",
      "Threshold = 0.50 | Precision = 0.379, Recall = 0.677, F1 Score = 0.486\n",
      "Threshold = 0.55 | Precision = 0.416, Recall = 0.615, F1 Score = 0.496\n",
      "Threshold = 0.60 | Precision = 0.436, Recall = 0.557, F1 Score = 0.489\n",
      "Threshold = 0.65 | Precision = 0.473, Recall = 0.478, F1 Score = 0.476\n",
      "Threshold = 0.70 | Precision = 0.488, Recall = 0.378, F1 Score = 0.426\n",
      "Threshold = 0.75 | Precision = 0.500, Recall = 0.292, F1 Score = 0.369\n",
      "Threshold = 0.80 | Precision = 0.582, Recall = 0.230, F1 Score = 0.329\n",
      "\n",
      "Best threshold for the validation set: 0.5499999999999999, F1 score: 0.49613899613899615\n",
      "\n"
     ]
    }
   ],
   "source": [
    "# create function to evaluate Precision, Recall and F1 scores for different thresholds\n",
    "def evaluate_thresholds(model, features, target, threshold_range=np.arange(0.2, 0.8, 0.05)):\n",
    "    probabilities = model.predict_proba(features)[:, 1]\n",
    "\n",
    "    best_threshold = 0\n",
    "    best_f1_score = 0\n",
    "\n",
    "    for threshold in threshold_range:\n",
    "        predicted = probabilities > threshold \n",
    "        precision = precision_score(target, predicted)\n",
    "        recall = recall_score(target, predicted)\n",
    "        f1 = f1_score(target, predicted)\n",
    "\n",
    "        print(\n",
    "            'Threshold = {:.2f} | Precision = {:.3f}, Recall = {:.3f}, F1 Score = {:.3f}'.format(\n",
    "                threshold, precision, recall, f1\n",
    "            )\n",
    "        )\n",
    "\n",
    "        # Check if current F1 score is better than the best so far\n",
    "        if f1 > best_f1_score:\n",
    "            best_f1_score = f1\n",
    "            best_threshold = threshold\n",
    "\n",
    "    # Print optimal threshold and F1 score\n",
    "    print(f\"\\nBest threshold for the validation set: {best_threshold}, F1 score: {best_f1_score}\\n\")\n",
    "    \n",
    "# Evaluate thresholds for all optimized models\n",
    "print(\"Optimized Decision Tree model (class_weight='balanced', downsampled)\")\n",
    "evaluate_thresholds(tree_bal_down, features_valid, target_valid)\n",
    "print(\"=\"*80)\n",
    "print(\"Optimized Random Forest model (class_weight='balanced', upsampled)\")\n",
    "evaluate_thresholds(forest, features_valid, target_valid)\n",
    "print(\"=\"*80)\n",
    "print(\"Optimized Logistic Regression (class_weight='balanced')\")\n",
    "evaluate_thresholds(logreg_bal_up, features_valid, target_valid)"
   ]
  },
  {
   "cell_type": "markdown",
   "metadata": {},
   "source": [
    "The optimal thresholds and f1 scores on the **Validation set** for each model are:<br>\n",
    "\n",
    "*Optimized Decision Tree model (class_weight='balanced', downsampled)*<br>\n",
    "Threshold: 0.599 | F1 score: **0.590**<br>\n",
    "\n",
    "*Optimized Random Forest model (class imbalance)*<br>\n",
    "Threshold: 0.449 | F1 score: **0.585**<br>\n",
    "\n",
    "*Optimized Logistic Regression (class_weight='balanced', upsampled)*<br>\n",
    "Threshold: 0.549 | F1 score: **0.496**<br>\n",
    "\n",
    "After tuning the models on the Validation set, we end up with the optimal hyperparameters and thresholds that maximize the f1 scores in our classification problem.<br>\n",
    "**We can conclude that only our Decision Tree (0.59) and Random Forest (0.585) models, barely meet the minimum f1 score requirements of the project (0.59)**<br>\n",
    "\n",
    "Finally, we must apply these hyperparameters to evaluate the independent **Test Set**, to see how our models would likely perform with unknown data in a real-life scenario."
   ]
  },
  {
   "cell_type": "code",
   "execution_count": 36,
   "metadata": {},
   "outputs": [
    {
     "name": "stdout",
     "output_type": "stream",
     "text": [
      "Optimized Decision Tree model (class_weight='balanced', downsampled)\n",
      "Optimal Threshold = 0.60 | F1 Score = 0.562\n",
      "Precision: 0.478 | Recall: 0.683\n",
      "Confusion Matrix:\n",
      "[[1261  316]\n",
      " [ 134  289]]\n",
      "============================================================\n",
      "Optimized Random Forest model (class imbalance)\n",
      "Optimal Threshold = 0.45 | F1 Score = 0.527\n",
      "Precision: 0.648 | Recall: 0.444\n",
      "Confusion Matrix:\n",
      "[[1475  102]\n",
      " [ 235  188]]\n",
      "============================================================\n",
      "Optimized Logistic Regression (class_weight='balanced', upsampled)\n",
      "Optimal Threshold = 0.55 | F1 Score = 0.478\n",
      "Precision: 0.401 | Recall: 0.591\n",
      "Confusion Matrix:\n",
      "[[1203  374]\n",
      " [ 173  250]]\n",
      "============================================================\n"
     ]
    }
   ],
   "source": [
    "# Create a function to evaluate custom thresholds and hyperparameters on the Test Set\n",
    "def evaluate_custom_threshold(model, features, target, custom_threshold):\n",
    "    probabilities = model.predict_proba(features)[:, 1]\n",
    "    predicted = probabilities > custom_threshold\n",
    "    precision = precision_score(target, predicted)\n",
    "    recall = recall_score(target, predicted)\n",
    "    confusion_mat = confusion_matrix(target, predicted)\n",
    "    f1 = f1_score(target, predicted)\n",
    "    print(\n",
    "        'Optimal Threshold = {:.2f} | F1 Score = {:.3f}\\n'\n",
    "        'Precision: {:.3f} | Recall: {:.3f}\\n'\n",
    "        'Confusion Matrix:\\n{}\\n{}'.format(\n",
    "            custom_threshold, f1, precision, recall, confusion_mat, '=' * 60\n",
    "        )\n",
    "    )\n",
    "# Evaluate the optimal threshold for each model on the Test set\n",
    "tree_threshold = 0.599\n",
    "print(\"Optimized Decision Tree model (class_weight='balanced', downsampled)\")\n",
    "evaluate_custom_threshold(tree_bal_down, features_test, target_test, tree_threshold)\n",
    "forest_threshold = 0.449\n",
    "print(\"Optimized Random Forest model (class imbalance)\")\n",
    "evaluate_custom_threshold(forest, features_test, target_test, forest_threshold)\n",
    "logreg_threshold = 0.549\n",
    "print(\"Optimized Logistic Regression (class_weight='balanced', upsampled)\")\n",
    "evaluate_custom_threshold(logreg_bal_up, features_test, target_test, logreg_threshold)"
   ]
  },
  {
   "cell_type": "markdown",
   "metadata": {},
   "source": [
    "When applying the optimal Validation set hyperparameters and custom thresholds to the **Test set**, we get the following f1 scores:<br>\n",
    "\n",
    "1) Decision Tree (class_weight='balanced', downsampled): **0.562**<br>\n",
    "2) Random Forest (class imbalance): **0.527**<br>\n",
    "3) Logistic Regression (class_weight='balanced', upsampled): **0.478**<br>\n",
    "\n",
    "This means that, in a real-life scenario, these would likely be the f1 score performances of our models."
   ]
  },
  {
   "cell_type": "markdown",
   "metadata": {},
   "source": [
    "<div class=\"alert alert-success\">\n",
    "<b>Reviewer's comment</b>\n",
    "\n",
    "It's nice that you tried different threshold values!\n",
    "</div>"
   ]
  },
  {
   "cell_type": "markdown",
   "metadata": {},
   "source": [
    "<div class=\"alert alert-danger\">\n",
    "<s><b>Reviewer's comment</b>\n",
    "\n",
    "As noted above the correct metric to look at in this report is the F1 score for class 1</s>\n",
    "<div class=\"alert alert-info\">\n",
    "    Noted :)\n",
    "</div>"
   ]
  },
  {
   "cell_type": "code",
   "execution_count": 50,
   "metadata": {},
   "outputs": [
    {
     "name": "stdout",
     "output_type": "stream",
     "text": [
      "PR Curves for Optimized models (Validation Set)\n"
     ]
    },
    {
     "data": {
      "image/png": "[encoded data removed]",
      "text/plain": [
       "<Figure size 1440x360 with 3 Axes>"
      ]
     },
     "metadata": {
      "needs_background": "light"
     },
     "output_type": "display_data"
    },
    {
     "name": "stdout",
     "output_type": "stream",
     "text": [
      "PR Curves for Optimized models (Test Set)\n"
     ]
    },
    {
     "data": {
      "image/png": "[encoded data removed]",
      "text/plain": [
       "<Figure size 1440x360 with 3 Axes>"
      ]
     },
     "metadata": {
      "needs_background": "light"
     },
     "output_type": "display_data"
    }
   ],
   "source": [
    "# Define variables for optimized models, model names and custom thresholds\n",
    "models = [tree_bal_down, forest, logreg_bal_up]\n",
    "model_names = ['Decision Tree (balanced, downsampled)', 'Random Forest (class imbalance)', \n",
    "               'Logistic Regression (balanced, upsampled)']\n",
    "custom_thresholds = [0.599, 0.449, 0.549]\n",
    "\n",
    "# Create function to plot PR Curves\n",
    "def plot_precision_recall_curves(models, model_names, features, target, figsize=(20, 5)):\n",
    "    plt.figure(figsize=figsize)\n",
    "\n",
    "    for i, (model, model_name) in enumerate(zip(models, model_names), start=1):\n",
    "        probabilities = model.predict_proba(features)[:, 1]\n",
    "        precision, recall, _ = precision_recall_curve(target, probabilities)\n",
    "\n",
    "        plt.subplot(1, len(models), i)\n",
    "        plt.step(recall, precision, where='post')\n",
    "        plt.xlabel('Recall')\n",
    "        plt.ylabel('Precision')\n",
    "        plt.ylim([0.0, 1.05])\n",
    "        plt.xlim([0.0, 1.0])\n",
    "        plt.title(model_name)\n",
    "\n",
    "    plt.tight_layout()\n",
    "    plt.show()\n",
    "\n",
    "\n",
    "# Plot PR curves for all optimized models\n",
    "print(\"PR Curves for Optimized models (Validation Set)\")\n",
    "plot_precision_recall_curves(models, model_names, features_valid, target_valid)\n",
    "print(\"PR Curves for Optimized models (Test Set)\")\n",
    "plot_precision_recall_curves(models, model_names, features_test, target_test)"
   ]
  },
  {
   "cell_type": "code",
   "execution_count": 51,
   "metadata": {},
   "outputs": [
    {
     "name": "stdout",
     "output_type": "stream",
     "text": [
      "ROC Curves and AUC scores for Optimized models (Validation Set)\n"
     ]
    },
    {
     "data": {
      "image/png": "[encoded data removed]",
      "text/plain": [
       "<Figure size 1440x360 with 3 Axes>"
      ]
     },
     "metadata": {
      "needs_background": "light"
     },
     "output_type": "display_data"
    },
    {
     "name": "stdout",
     "output_type": "stream",
     "text": [
      "ROC Curves and AUC scores for Optimized models (Test Set)\n"
     ]
    },
    {
     "data": {
      "image/png": "[encoded data removed]",
      "text/plain": [
       "<Figure size 1440x360 with 3 Axes>"
      ]
     },
     "metadata": {
      "needs_background": "light"
     },
     "output_type": "display_data"
    }
   ],
   "source": [
    "# Plot ROC Curves and AUC-ROC scores for all optimized models\n",
    "# Create function to plot ROC curves and AUC-ROC scores\n",
    "def plot_roc_curves_with_threshold(models, model_names, features_test, target_test, \n",
    "                                   custom_thresholds=None, figsize=(20, 5)):\n",
    "    plt.figure(figsize=figsize)\n",
    "\n",
    "    for i, (model, model_name) in enumerate(zip(models, model_names), start=1):\n",
    "        probabilities = model.predict_proba(features_test)[:, 1]\n",
    "        fpr, tpr, thresholds = roc_curve(target_test, probabilities)\n",
    "        auc = roc_auc_score(target_test, probabilities)\n",
    "\n",
    "        plt.subplot(1, len(models), i)\n",
    "        plt.plot(fpr, tpr, label=f'AUC = {auc:.2f}')\n",
    "        plt.plot([0, 1], [0, 1], linestyle='--')\n",
    "        \n",
    "        if custom_thresholds is not None:\n",
    "            threshold_index = np.argmin(np.abs(thresholds - custom_thresholds[i - 1]))\n",
    "            plt.scatter(fpr[threshold_index], tpr[threshold_index], marker='o', \n",
    "                        color='red', label=f'Threshold = {custom_thresholds[i - 1]}')\n",
    "        \n",
    "        plt.xlim([0.0, 1.0])\n",
    "        plt.ylim([0.0, 1.0])\n",
    "        plt.xlabel('False Positive Rate')\n",
    "        plt.ylabel('True Positive Rate')\n",
    "        plt.title(f'ROC curve ({model_name})')\n",
    "        plt.legend()\n",
    "\n",
    "    plt.tight_layout()\n",
    "    plt.show()\n",
    "\n",
    "# Apply to all optimized models\n",
    "print(\"ROC Curves and AUC scores for Optimized models (Validation Set)\")\n",
    "plot_roc_curves_with_threshold(models, model_names, features_valid, target_valid, custom_thresholds)\n",
    "print(\"ROC Curves and AUC scores for Optimized models (Test Set)\")\n",
    "plot_roc_curves_with_threshold(models, model_names, features_test, target_test, custom_thresholds)\n"
   ]
  },
  {
   "cell_type": "markdown",
   "metadata": {},
   "source": [
    "<div class=\"alert alert-success\">\n",
    "<b>Reviewer's comment</b>\n",
    "\n",
    "It's great that you plotted the ROC curves for the models!\n",
    "\n",
    "</div>"
   ]
  },
  {
   "cell_type": "markdown",
   "metadata": {},
   "source": [
    "<div class=\"alert alert-danger\">\n",
    "<b>Reviewer's comment</b>\n",
    "\n",
    "After selecting the best model and the best balancing technique using the validation set, please evaluate it using the test set for an unbiased estimate of its generalization performance\n",
    "<div class=\"alert alert-info\">\n",
    "    Noted.\n",
    "</div>"
   ]
  },
  {
   "cell_type": "markdown",
   "metadata": {},
   "source": [
    "<div class=\"alert alert-danger\">\n",
    "<s><b>Reviewer's comment V2</b>\n",
    "\n",
    "One thing: to select the best threshold value, you still need to use the validation set (as this is just another hyperparameter of the model), but then you need to evaluate the model with the selected threshold value using the test set</s>\n",
    "<div class=\"alert alert-info\">\n",
    "    Ohh, I get it. I made the changes on that section.\n",
    "</div>"
   ]
  },
  {
   "cell_type": "markdown",
   "metadata": {},
   "source": [
    "<div class=\"alert alert-success\">\n",
    "<b>Reviewer's comment V3</b>\n",
    "\n",
    "Awesome!\n",
    "\n",
    "</div>"
   ]
  },
  {
   "cell_type": "markdown",
   "metadata": {},
   "source": [
    "## Conclusion\n",
    "The f1 scores and AUC-ROC scores of our optimized models are:<br>\n",
    "\n",
    "***1) Optimized Decision Tree model (class_weight='balanced', downsampled)***<br>\n",
    "Optimal Threshold: 0.6<br>\n",
    "f1 score: 0.590<br>\n",
    "AUC-ROC score: 0.82<br>\n",
    "\n",
    "***2) Optimized Random Forest model (upsampled)***<br>\n",
    "Optimal Threshold: 0.45<br>\n",
    "f1 score: 0.585<br>\n",
    "AUC-ROC score: 0.80<br>\n",
    "\n",
    "***3) Optimized Logistic Regression model (class_weight='balanced')***<br>\n",
    "Optimal Threshold: 0.55<br>\n",
    "f1 score: 0.496<br>\n",
    "AUC-ROC score: 0.76<br>\n",
    "\n",
    "We can argue that all of them could be acceptable models for predicting whether Beta Bank's customers are likely to stay.<br>\n",
    "The best model is Decision Tree with an **AUC-ROC score = 0.82** and a **f1 score = 0.590**<br>\n",
    "\n",
    "This project has shown that optimization analysis is very effective in improving the performance of a model. After cleaning and preparing the data for machine learning, and training different models, we initially found that each model performed very poorly (f1 score < 0.59). Correcting the class imbalance and analyzing how each method affected the models allowed us to make decisions that, when combined, were able to improve performance in each specific case. Finally, testing the metrics of the optimized models (f1 score, PR curve, ROC curve, AUC-ROC score) showed that these methods were highly effective in improving the performance of the models as a whole."
   ]
  },
  {
   "cell_type": "markdown",
   "metadata": {},
   "source": [
    "<div class=\"alert alert-danger\">\n",
    "<s><b>Reviewer's comment</b>\n",
    "\n",
    "Please use the F1 scores for class 1 for the conclusion\n",
    "\n",
    "</div>"
   ]
  },
  {
   "cell_type": "markdown",
   "metadata": {},
   "source": [
    "<div class=\"alert alert-success\">\n",
    "<b>Reviewer's comment V2</b>\n",
    "\n",
    "Excellent!\n",
    "\n",
    "</div>"
   ]
  }
 ],
 "metadata": {
  "kernelspec": {
   "display_name": "Python 3 (ipykernel)",
   "language": "python",
   "name": "python3"
  },
  "language_info": {
   "codemirror_mode": {
    "name": "ipython",
    "version": 3
   },
   "file_extension": ".py",
   "mimetype": "text/x-python",
   "name": "python",
   "nbconvert_exporter": "python",
   "pygments_lexer": "ipython3",
   "version": "3.9.5"
  },
  "toc": {
   "base_numbering": 1,
   "nav_menu": {},
   "number_sections": true,
   "sideBar": true,
   "skip_h1_title": true,
   "title_cell": "Table of Contents",
   "title_sidebar": "Contents",
   "toc_cell": false,
   "toc_position": {},
   "toc_section_display": true,
   "toc_window_display": false
  }
 },
 "nbformat": 4,
 "nbformat_minor": 2
}
